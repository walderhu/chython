{
 "cells": [
  {
   "cell_type": "code",
   "execution_count": 17,
   "metadata": {},
   "outputs": [
    {
     "ename": "KeyboardInterrupt",
     "evalue": "",
     "output_type": "error",
     "traceback": [
      "\u001b[0;31m---------------------------------------------------------------------------\u001b[0m",
      "\u001b[0;31mKeyboardInterrupt\u001b[0m                         Traceback (most recent call last)",
      "Cell \u001b[0;32mIn[17], line 6\u001b[0m\n\u001b[1;32m      3\u001b[0m \u001b[38;5;66;03m# smile = '[Na+].CN(C)c2ccc(/N=N/c1ccc(cc1)S([O-])(=O)=O)cc2'\u001b[39;00m\n\u001b[1;32m      4\u001b[0m \u001b[38;5;66;03m# smile = '[H]OC([H])([H])C([H])(O[H])C1([H])OC(=O)C([H])(O[H])C1=O'\u001b[39;00m\n\u001b[1;32m      5\u001b[0m m \u001b[38;5;241m=\u001b[39m smiles(smile)\n\u001b[0;32m----> 6\u001b[0m \u001b[43mm\u001b[49m\u001b[38;5;241;43m.\u001b[39;49m\u001b[43mclean2d\u001b[49m\u001b[43m(\u001b[49m\u001b[43m)\u001b[49m\n\u001b[1;32m      7\u001b[0m m\n",
      "File \u001b[0;32m~/chython/chython/algorithms/calculate2d/clean2d.py:23\u001b[0m, in \u001b[0;36mCalculate2DMolecule.clean2d\u001b[0;34m(self)\u001b[0m\n\u001b[1;32m     21\u001b[0m \u001b[38;5;28;01mfor\u001b[39;00m _ \u001b[38;5;129;01min\u001b[39;00m \u001b[38;5;28mrange\u001b[39m(\u001b[38;5;28mmin\u001b[39m(\u001b[38;5;241m5\u001b[39m, \u001b[38;5;28mlen\u001b[39m(\u001b[38;5;28mself\u001b[39m))):\n\u001b[1;32m     22\u001b[0m     smiles, order \u001b[38;5;241m=\u001b[39m \u001b[38;5;28mself\u001b[39m\u001b[38;5;241m.\u001b[39m__clean2d_prepare(\u001b[38;5;28mnext\u001b[39m(entry))\n\u001b[0;32m---> 23\u001b[0m     xy \u001b[38;5;241m=\u001b[39m \u001b[43mindex\u001b[49m\u001b[43m(\u001b[49m\u001b[43msmiles\u001b[49m\u001b[43m)\u001b[49m\n\u001b[1;32m     24\u001b[0m     \u001b[38;5;28;01mif\u001b[39;00m xy \u001b[38;5;129;01mis\u001b[39;00m \u001b[38;5;129;01mnot\u001b[39;00m \u001b[38;5;28;01mNone\u001b[39;00m:\n\u001b[1;32m     25\u001b[0m         \u001b[38;5;28;01mbreak\u001b[39;00m\n",
      "File \u001b[0;32m~/chython/chython/algorithms/calculate2d/index.py:7\u001b[0m, in \u001b[0;36mclean2d\u001b[0;34m(smiles)\u001b[0m\n\u001b[1;32m      5\u001b[0m \u001b[38;5;28;01mdef\u001b[39;00m \u001b[38;5;21mclean2d\u001b[39m(smiles):\n\u001b[1;32m      6\u001b[0m     structure\u001b[38;5;241m=\u001b[39mread_smiles(smiles)\n\u001b[0;32m----> 7\u001b[0m     drawer \u001b[38;5;241m=\u001b[39m \u001b[43mDrawer\u001b[49m\u001b[43m(\u001b[49m\u001b[43mstructure\u001b[49m\u001b[43m)\u001b[49m\n\u001b[1;32m      8\u001b[0m     drawer\u001b[38;5;241m.\u001b[39m_process_structure()\n\u001b[1;32m      9\u001b[0m     drawn_atoms \u001b[38;5;241m=\u001b[39m drawer\u001b[38;5;241m.\u001b[39mstructure\u001b[38;5;241m.\u001b[39mget_drawn_atoms()\n",
      "File \u001b[0;32m~/chython/chython/algorithms/calculate2d/drawing/drawing.py:93\u001b[0m, in \u001b[0;36mDrawer.__init__\u001b[0;34m(self, structure, options, coords_only, multiple, kekulise)\u001b[0m\n\u001b[1;32m     91\u001b[0m \u001b[38;5;66;03m# self.svg_style: str = \"\"\"<style> line {stroke: black; stroke_width: 1px;} polygon {fill: black;} </style>\"\"\"\u001b[39;00m\n\u001b[1;32m     92\u001b[0m \u001b[38;5;28mself\u001b[39m\u001b[38;5;241m.\u001b[39msvg_style: \u001b[38;5;28mstr\u001b[39m \u001b[38;5;241m=\u001b[39m \u001b[38;5;124m\"\u001b[39m\u001b[38;5;124m\"\u001b[39m\n\u001b[0;32m---> 93\u001b[0m \u001b[38;5;28;43mself\u001b[39;49m\u001b[38;5;241;43m.\u001b[39;49m\u001b[43mdraw\u001b[49m\u001b[43m(\u001b[49m\u001b[43mcoords_only\u001b[49m\u001b[43m)\u001b[49m\n",
      "File \u001b[0;32m~/chython/chython/algorithms/calculate2d/drawing/drawing.py:242\u001b[0m, in \u001b[0;36mDrawer.draw\u001b[0;34m(self, coords_only)\u001b[0m\n\u001b[1;32m    240\u001b[0m \u001b[38;5;28mself\u001b[39m\u001b[38;5;241m.\u001b[39mdefine_rings()\n\u001b[1;32m    241\u001b[0m \u001b[38;5;28;01mif\u001b[39;00m \u001b[38;5;129;01mnot\u001b[39;00m \u001b[38;5;28mself\u001b[39m\u001b[38;5;241m.\u001b[39mmultiple:\n\u001b[0;32m--> 242\u001b[0m     \u001b[38;5;28;43mself\u001b[39;49m\u001b[38;5;241;43m.\u001b[39;49m\u001b[43m_process_structure\u001b[49m\u001b[43m(\u001b[49m\u001b[43m)\u001b[49m\n\u001b[1;32m    243\u001b[0m     \u001b[38;5;28mself\u001b[39m\u001b[38;5;241m.\u001b[39mset_chiral_bonds()\n\u001b[1;32m    244\u001b[0m \u001b[38;5;28;01melse\u001b[39;00m:\n",
      "File \u001b[0;32m~/chython/chython/algorithms/calculate2d/drawing/drawing.py:401\u001b[0m, in \u001b[0;36mDrawer._process_structure\u001b[0;34m(self)\u001b[0m\n\u001b[1;32m    399\u001b[0m \u001b[38;5;28;01mfor\u001b[39;00m _ \u001b[38;5;129;01min\u001b[39;00m \u001b[38;5;28mrange\u001b[39m(\u001b[38;5;28mself\u001b[39m\u001b[38;5;241m.\u001b[39moptions\u001b[38;5;241m.\u001b[39moverlap_resolution_iterations):\n\u001b[1;32m    400\u001b[0m     \u001b[38;5;28;01mif\u001b[39;00m \u001b[38;5;28mself\u001b[39m\u001b[38;5;241m.\u001b[39moptions\u001b[38;5;241m.\u001b[39mfinetune:\n\u001b[0;32m--> 401\u001b[0m         \u001b[38;5;28;43mself\u001b[39;49m\u001b[38;5;241;43m.\u001b[39;49m\u001b[43m_finetune_overlap_resolution\u001b[49m\u001b[43m(\u001b[49m\u001b[43m)\u001b[49m\n\u001b[1;32m    402\u001b[0m         \u001b[38;5;28mself\u001b[39m\u001b[38;5;241m.\u001b[39mtotal_overlap_score, sorted_overlap_scores, atom_to_scores \u001b[38;5;241m=\u001b[39m \u001b[38;5;28mself\u001b[39m\u001b[38;5;241m.\u001b[39mget_overlap_score()\n\u001b[1;32m    403\u001b[0m \u001b[38;5;28;01mfor\u001b[39;00m i \u001b[38;5;129;01min\u001b[39;00m \u001b[38;5;28mrange\u001b[39m(\u001b[38;5;28mself\u001b[39m\u001b[38;5;241m.\u001b[39moptions\u001b[38;5;241m.\u001b[39moverlap_resolution_iterations):\n",
      "File \u001b[0;32m~/chython/chython/algorithms/calculate2d/drawing/drawing.py:204\u001b[0m, in \u001b[0;36mDrawer._finetune_overlap_resolution\u001b[0;34m(self)\u001b[0m\n\u001b[1;32m    202\u001b[0m \u001b[38;5;28;01mfor\u001b[39;00m i \u001b[38;5;129;01min\u001b[39;00m \u001b[38;5;28mrange\u001b[39m(\u001b[38;5;241m12\u001b[39m):\n\u001b[1;32m    203\u001b[0m     \u001b[38;5;28mself\u001b[39m\u001b[38;5;241m.\u001b[39mrotate_subtree(rotating_atom, parent_atom, math\u001b[38;5;241m.\u001b[39mradians(\u001b[38;5;241m30\u001b[39m), parent_atom\u001b[38;5;241m.\u001b[39mdraw\u001b[38;5;241m.\u001b[39mposition)\n\u001b[0;32m--> 204\u001b[0m     new_overlap_score, _, _ \u001b[38;5;241m=\u001b[39m \u001b[38;5;28;43mself\u001b[39;49m\u001b[38;5;241;43m.\u001b[39;49m\u001b[43mget_overlap_score\u001b[49m\u001b[43m(\u001b[49m\u001b[43m)\u001b[49m\n\u001b[1;32m    205\u001b[0m     scores\u001b[38;5;241m.\u001b[39mappend(new_overlap_score)\n\u001b[1;32m    206\u001b[0m \u001b[38;5;28;01massert\u001b[39;00m \u001b[38;5;28mlen\u001b[39m(scores) \u001b[38;5;241m==\u001b[39m \u001b[38;5;241m13\u001b[39m\n",
      "File \u001b[0;32m~/chython/chython/algorithms/calculate2d/drawing/drawing.py:834\u001b[0m, in \u001b[0;36mDrawer.get_overlap_score\u001b[0;34m(self)\u001b[0m\n\u001b[1;32m    832\u001b[0m atom_2 \u001b[38;5;241m=\u001b[39m \u001b[38;5;28mself\u001b[39m\u001b[38;5;241m.\u001b[39mdrawn_atoms[j]\n\u001b[1;32m    833\u001b[0m distance \u001b[38;5;241m=\u001b[39m Vector\u001b[38;5;241m.\u001b[39msubtract_vectors(atom_1\u001b[38;5;241m.\u001b[39mdraw\u001b[38;5;241m.\u001b[39mposition, atom_2\u001b[38;5;241m.\u001b[39mdraw\u001b[38;5;241m.\u001b[39mposition)\u001b[38;5;241m.\u001b[39mget_squared_length()\n\u001b[0;32m--> 834\u001b[0m \u001b[38;5;28;01mif\u001b[39;00m distance \u001b[38;5;241m<\u001b[39m \u001b[38;5;28mself\u001b[39m\u001b[38;5;241m.\u001b[39moptions\u001b[38;5;241m.\u001b[39mbond_length_squared:\n\u001b[1;32m    835\u001b[0m     weight \u001b[38;5;241m=\u001b[39m (\u001b[38;5;28mself\u001b[39m\u001b[38;5;241m.\u001b[39moptions\u001b[38;5;241m.\u001b[39mbond_length \u001b[38;5;241m-\u001b[39m math\u001b[38;5;241m.\u001b[39msqrt(distance)) \u001b[38;5;241m/\u001b[39m \u001b[38;5;28mself\u001b[39m\u001b[38;5;241m.\u001b[39moptions\u001b[38;5;241m.\u001b[39mbond_length\n\u001b[1;32m    836\u001b[0m     total \u001b[38;5;241m+\u001b[39m\u001b[38;5;241m=\u001b[39m weight\n",
      "\u001b[0;31mKeyboardInterrupt\u001b[0m: "
     ]
    }
   ],
   "source": [
    "from chython import smiles\n",
    "smile = 'CCCCCCCCCC(=O)N[C@@H](CC1=CNC2=CC=CC=C21)C(=O)N[C@@H](CC(=O)N)C(=O)N[C@@H](CC(=O)O)C(=O)N[C@H]3[C@H](OC(=O)[C@@H](NC(=O)[C@@H](NC(=O)[C@H](NC(=O)CNC(=O)[C@@H](NC(=O)[C@H](NC(=O)[C@@H](NC(=O)[C@@H](NC(=O)CNC3=O)CCCN)CC(=O)O)C)CC(=O)O)CO)[C@H](C)CC(=O)O)CC(=O)C4=CC=CC=C4N)C'\n",
    "# smile = '[Na+].CN(C)c2ccc(/N=N/c1ccc(cc1)S([O-])(=O)=O)cc2'\n",
    "# smile = '[H]OC([H])([H])C([H])(O[H])C1([H])OC(=O)C([H])(O[H])C1=O'\n",
    "m = smiles(smile)\n",
    "m.clean2d()\n",
    "m"
   ]
  }
 ],
 "metadata": {
  "kernelspec": {
   "display_name": "myenv",
   "language": "python",
   "name": "python3"
  },
  "language_info": {
   "codemirror_mode": {
    "name": "ipython",
    "version": 3
   },
   "file_extension": ".py",
   "mimetype": "text/x-python",
   "name": "python",
   "nbconvert_exporter": "python",
   "pygments_lexer": "ipython3",
   "version": "3.10.14"
  }
 },
 "nbformat": 4,
 "nbformat_minor": 2
}
