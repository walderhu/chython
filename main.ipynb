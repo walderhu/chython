{
 "cells": [
  {
   "cell_type": "code",
   "execution_count": 9,
   "metadata": {},
   "outputs": [
    {
     "ename": "Exception",
     "evalue": "This structure cannot be kekulised!",
     "output_type": "error",
     "traceback": [
      "\u001b[0;31m---------------------------------------------------------------------------\u001b[0m",
      "\u001b[0;31mException\u001b[0m                                 Traceback (most recent call last)",
      "Cell \u001b[0;32mIn[9], line 7\u001b[0m\n\u001b[1;32m      5\u001b[0m smile \u001b[38;5;241m=\u001b[39m \u001b[38;5;124m'\u001b[39m\u001b[38;5;124mCN1C(=O)c2[nH]c[n]c2N(C)C1=O\u001b[39m\u001b[38;5;124m'\u001b[39m\n\u001b[1;32m      6\u001b[0m m \u001b[38;5;241m=\u001b[39m smiles(smile)\n\u001b[0;32m----> 7\u001b[0m \u001b[43mm\u001b[49m\u001b[38;5;241;43m.\u001b[39;49m\u001b[43mclean2d\u001b[49m\u001b[43m(\u001b[49m\u001b[43m)\u001b[49m\n\u001b[1;32m      8\u001b[0m m\n",
      "File \u001b[0;32m~/chython/chython/algorithms/calculate2d/clean2d.py:23\u001b[0m, in \u001b[0;36mCalculate2DMolecule.clean2d\u001b[0;34m(self)\u001b[0m\n\u001b[1;32m     21\u001b[0m \u001b[38;5;28;01mfor\u001b[39;00m _ \u001b[38;5;129;01min\u001b[39;00m \u001b[38;5;28mrange\u001b[39m(\u001b[38;5;28mmin\u001b[39m(\u001b[38;5;241m5\u001b[39m, \u001b[38;5;28mlen\u001b[39m(\u001b[38;5;28mself\u001b[39m))):\n\u001b[1;32m     22\u001b[0m     smiles, order \u001b[38;5;241m=\u001b[39m \u001b[38;5;28mself\u001b[39m\u001b[38;5;241m.\u001b[39m__clean2d_prepare(\u001b[38;5;28mnext\u001b[39m(entry))\n\u001b[0;32m---> 23\u001b[0m     xy \u001b[38;5;241m=\u001b[39m \u001b[43mindex\u001b[49m\u001b[43m(\u001b[49m\u001b[43msmiles\u001b[49m\u001b[43m)\u001b[49m\n\u001b[1;32m     24\u001b[0m     \u001b[38;5;28;01mif\u001b[39;00m xy \u001b[38;5;129;01mis\u001b[39;00m \u001b[38;5;129;01mnot\u001b[39;00m \u001b[38;5;28;01mNone\u001b[39;00m:\n\u001b[1;32m     25\u001b[0m         \u001b[38;5;28;01mbreak\u001b[39;00m\n",
      "File \u001b[0;32m~/chython/chython/algorithms/calculate2d/index.py:7\u001b[0m, in \u001b[0;36mclean2d\u001b[0;34m(smiles)\u001b[0m\n\u001b[1;32m      5\u001b[0m \u001b[38;5;28;01mdef\u001b[39;00m \u001b[38;5;21mclean2d\u001b[39m(smiles):\n\u001b[1;32m      6\u001b[0m     structure\u001b[38;5;241m=\u001b[39mread_smiles(smiles)\n\u001b[0;32m----> 7\u001b[0m     drawer \u001b[38;5;241m=\u001b[39m \u001b[43mDrawer\u001b[49m\u001b[43m(\u001b[49m\u001b[43mstructure\u001b[49m\u001b[43m)\u001b[49m\n\u001b[1;32m      8\u001b[0m     drawer\u001b[38;5;241m.\u001b[39m_process_structure()\n\u001b[1;32m      9\u001b[0m     drawn_atoms \u001b[38;5;241m=\u001b[39m drawer\u001b[38;5;241m.\u001b[39mstructure\u001b[38;5;241m.\u001b[39mget_drawn_atoms()\n",
      "File \u001b[0;32m~/chython/chython/algorithms/calculate2d/drawing/drawing.py:63\u001b[0m, in \u001b[0;36mDrawer.__init__\u001b[0;34m(self, structure, options, coords_only, multiple, kekulise)\u001b[0m\n\u001b[1;32m     61\u001b[0m     \u001b[38;5;28mself\u001b[39m\u001b[38;5;241m.\u001b[39moptions: Options \u001b[38;5;241m=\u001b[39m options\n\u001b[1;32m     62\u001b[0m \u001b[38;5;28;01mif\u001b[39;00m kekulise:\n\u001b[0;32m---> 63\u001b[0m     \u001b[38;5;28mself\u001b[39m\u001b[38;5;241m.\u001b[39mstructure \u001b[38;5;241m=\u001b[39m \u001b[43mstructure\u001b[49m\u001b[38;5;241;43m.\u001b[39;49m\u001b[43mkekulise\u001b[49m\u001b[43m(\u001b[49m\u001b[43m)\u001b[49m\n\u001b[1;32m     64\u001b[0m \u001b[38;5;28;01melse\u001b[39;00m:\n\u001b[1;32m     65\u001b[0m     \u001b[38;5;28mself\u001b[39m\u001b[38;5;241m.\u001b[39mstructure \u001b[38;5;241m=\u001b[39m structure\n",
      "File \u001b[0;32m~/chython/chython/algorithms/calculate2d/chem/structure.py:834\u001b[0m, in \u001b[0;36mStructure.kekulise\u001b[0;34m(self)\u001b[0m\n\u001b[1;32m    832\u001b[0m unmatched_nodes \u001b[38;5;241m=\u001b[39m matching\u001b[38;5;241m.\u001b[39munmatched_nodes()\n\u001b[1;32m    833\u001b[0m \u001b[38;5;28;01mif\u001b[39;00m unmatched_nodes \u001b[38;5;241m!=\u001b[39m \u001b[38;5;241m0\u001b[39m:\n\u001b[0;32m--> 834\u001b[0m     \u001b[38;5;28;01mraise\u001b[39;00m \u001b[38;5;167;01mException\u001b[39;00m(\u001b[38;5;124m\"\u001b[39m\u001b[38;5;124mThis structure cannot be kekulised!\u001b[39m\u001b[38;5;124m\"\u001b[39m)\n\u001b[1;32m    835\u001b[0m \u001b[38;5;28;01melse\u001b[39;00m:\n\u001b[1;32m    836\u001b[0m     double_bond_pairs \u001b[38;5;241m=\u001b[39m \u001b[38;5;28mset\u001b[39m()\n",
      "\u001b[0;31mException\u001b[0m: This structure cannot be kekulised!"
     ]
    }
   ],
   "source": [
    "from chython import smiles\n",
    "# smile = 'CCCCCCCCCC(=O)N[C@@H](CC1=CNC2=CC=CC=C21)C(=O)N[C@@H](CC(=O)N)C(=O)N[C@@H](CC(=O)O)C(=O)N[C@H]3[C@H](OC(=O)[C@@H](NC(=O)[C@@H](NC(=O)[C@H](NC(=O)CNC(=O)[C@@H](NC(=O)[C@H](NC(=O)[C@@H](NC(=O)[C@@H](NC(=O)CNC3=O)CCCN)CC(=O)O)C)CC(=O)O)CO)[C@H](C)CC(=O)O)CC(=O)C4=CC=CC=C4N)C'\n",
    "# smile = '[Na+].CN(C)c2ccc(/N=N/c1ccc(cc1)S([O-])(=O)=O)cc2'\n",
    "smile = '[H]OC([H])([H])C([H])(O[H])C1([H])OC(=O)C([H])(O[H])C1=O'\n",
    "smile = 'CN1C(=O)c2[nH]c[n]c2N(C)C1=O'\n",
    "m = smiles(smile)\n",
    "m.clean2d()\n",
    "m\n",
    "\n"
   ]
  },
  {
   "cell_type": "code",
   "execution_count": 8,
   "metadata": {},
   "outputs": [
    {
     "data": {
      "image/png": "[encoded data removed]",
      "text/plain": [
       "<Figure size 245.58x229.625 with 1 Axes>"
      ]
     },
     "metadata": {},
     "output_type": "display_data"
    }
   ],
   "source": [
    "import pikachu.general\n",
    "smile = 'CN1C(=O)c2[nH]c[n]c2N(C)C1=O'\n",
    "pikachu.general.draw_smiles(smile)\n"
   ]
  },
  {
   "cell_type": "code",
   "execution_count": 10,
   "metadata": {},
   "outputs": [
    {
     "name": "stdout",
     "output_type": "stream",
     "text": [
      "Error parsing \"OC(=O)c1ccc(cc1)N(O)=O\": Basic bonding laws have been violated.\n",
      "Error parsing \"[H]OC(=O)C1=C([H])C([H])=C(C([H])=C1[H])N(O)=O\": Basic bonding laws have been violated.\n",
      "Error parsing \"ON(=O)c1ccc(cc1)C(=O)O\": Basic bonding laws have been violated.\n",
      "Error parsing \"ON(=O)c1ccc(cc1)C(O)=O\": Basic bonding laws have been violated.\n",
      "Error parsing \"OC(=O)C1=CC=C(C=C1)N(O)=O\": Basic bonding laws have been violated.\n",
      "Error parsing \"O=c1nc(=O)nc2c1nc(=O)n2\": Aromaticity incorrectly defined.\n",
      "Error parsing \"ON(=O)c1cc(Cl)c(Cl)cc1Cl\": Basic bonding laws have been violated.\n",
      "Error parsing \"[H]C1=C(Cl)C(Cl)=C([H])C(=C1Cl)N(O)=O\": Basic bonding laws have been violated.\n",
      "Error parsing \"ON(=O)C1=CC(Cl)=C(Cl)C=C1Cl\": Basic bonding laws have been violated.\n",
      "Error parsing \"ON(=O)c1ccc(Cl)c(c1)N(O)=O\": Basic bonding laws have been violated.\n",
      "Error parsing \"[H]C1=C(Cl)C(=C([H])C(=C1[H])N(O)=O)N(O)=O\": Basic bonding laws have been violated.\n",
      "Error parsing \"ON(=O)C1=CC=C(Cl)C(=C1)N(O)=O\": Basic bonding laws have been violated.\n",
      "Error parsing \"ON(=O)c1cc(ccc1Cl)N(O)=O\": Basic bonding laws have been violated.\n",
      "Error parsing \"ON(=O)c1cc(ccc1Cl)N(=O)O\": Basic bonding laws have been violated.\n",
      "Error parsing \"Cc1cccc(c1)N(O)=O\": Basic bonding laws have been violated.\n",
      "Error parsing \"CC1=CC=CC(=C1)N(O)=O\": Basic bonding laws have been violated.\n",
      "Error parsing \"[H]C1=C([H])C(=C([H])C(=C1[H])C([H])([H])[H])N(O)=O\": Basic bonding laws have been violated.\n",
      "Error parsing \"Cc1cc(ccc1)N(O)=O\": Basic bonding laws have been violated.\n",
      "Error parsing \"Cc1cc(ccc1)N(=O)O\": Basic bonding laws have been violated.\n",
      "Error parsing \"ON(=O)c1cccc(c1)N(O)=O\": Basic bonding laws have been violated.\n",
      "Error parsing \"ON(=O)C1=CC(=CC=C1)N(O)=O\": Basic bonding laws have been violated.\n",
      "Error parsing \"[H]C1=C([H])C(=C([H])C(=C1[H])N(O)=O)N(O)=O\": Basic bonding laws have been violated.\n",
      "Error parsing \"ON(=O)c1cc(ccc1)N(O)=O\": Basic bonding laws have been violated.\n",
      "Error parsing \"ON(=O)c1cc(ccc1)N(=O)O\": Basic bonding laws have been violated.\n",
      "Error parsing \"CNc1ccc(cc1)N(=O)O\": Basic bonding laws have been violated.\n",
      "Error parsing \"CNC1=CC=C(C=C1)N(O)=O\": Basic bonding laws have been violated.\n",
      "Error parsing \"[H]N(C1=C([H])C([H])=C(C([H])=C1[H])N(O)=O)C([H])([H])[H]\": Basic bonding laws have been violated.\n",
      "Error parsing \"CNc1ccc(cc1)N(O)=O\": Basic bonding laws have been violated.\n",
      "Error parsing \"CC(=O)c1ccc(cc1)N(=O)O\": Basic bonding laws have been violated.\n",
      "Error parsing \"[H]OC(=C([H])[H])C1=C([H])C([H])=C(C([H])=C1[H])N(O)=O\": Basic bonding laws have been violated.\n",
      "Error parsing \"OC(=C)C1=CC=C(C=C1)N(O)=O\": Basic bonding laws have been violated.\n",
      "Error parsing \"[H]C1=C([H])C(=C([H])C([H])=C1C(=O)C([H])([H])[H])N(O)=O\": Basic bonding laws have been violated.\n",
      "Error parsing \"CC(=O)C1=CC=C(C=C1)N(O)=O\": Basic bonding laws have been violated.\n",
      "Error parsing \"CC(=O)c1ccc(cc1)N(O)=O\": Basic bonding laws have been violated.\n",
      "Error parsing \"O=c1c2ncn(c2nc(n1)N)C1OC(CO)C(O)C1O\": Aromaticity incorrectly defined.\n",
      "Error parsing \"Cc1ccc(cc1N(=O)O)N(=O)O\": Basic bonding laws have been violated.\n",
      "Error parsing \"[H]C1=C(C([H])=C(C(=C1[H])C([H])([H])[H])N(O)=O)N(O)=O\": Basic bonding laws have been violated.\n",
      "Error parsing \"CC1=CC=C(C=C1N(O)=O)N(O)=O\": Basic bonding laws have been violated.\n",
      "Error parsing \"Cc1ccc(cc1N(O)=O)N(O)=O\": Basic bonding laws have been violated.\n",
      "Error parsing \"Nc1ncc(s1)N(=O)O\": Basic bonding laws have been violated.\n",
      "Error parsing \"Nc1ncc(s1)N(O)=O\": Basic bonding laws have been violated.\n",
      "Error parsing \"[H]N([H])C1=NC([H])=C(S1)N(O)=O\": Basic bonding laws have been violated.\n",
      "Error parsing \"NC1=NC=C(S1)N(O)=O\": Basic bonding laws have been violated.\n",
      "Error parsing \"[H]N=C1SC(=C([H])N1[H])N(O)=O\": Basic bonding laws have been violated.\n",
      "Error parsing \"ON(=O)C1=CNC(=N)S1\": Basic bonding laws have been violated.\n",
      "Error parsing \"ON(=O)c1cccc(Cl)c1\": Basic bonding laws have been violated.\n",
      "Error parsing \"ON(=O)C1=CC=CC(Cl)=C1\": Basic bonding laws have been violated.\n",
      "Error parsing \"[H]C1=C([H])C(=C([H])C(Cl)=C1[H])N(O)=O\": Basic bonding laws have been violated.\n",
      "Error parsing \"NC(=O)C1=CC(=CC(=C1)N(O)=O)N(O)=O\": Basic bonding laws have been violated.\n",
      "Error parsing \"[H]N([H])C(=O)C1=C([H])C(=C([H])C(=C1[H])N(O)=O)N(O)=O\": Basic bonding laws have been violated.\n",
      "Error parsing \"NC(=O)c1cc(cc(c1)N(O)=O)N(O)=O\": Basic bonding laws have been violated.\n",
      "Error parsing \"NC(=O)c1cc(cc(c1)N(=O)O)N(=O)O\": Basic bonding laws have been violated.\n",
      "Error parsing \"[H]OC(=N[H])C1=C([H])C(=C([H])C(=C1[H])N(O)=O)N(O)=O\": Basic bonding laws have been violated.\n",
      "Error parsing \"OC(=N)C1=CC(=CC(=C1)N(O)=O)N(O)=O\": Basic bonding laws have been violated.\n",
      "Error parsing \"O=c1ccc(=O)nn1\": Aromaticity incorrectly defined.\n",
      "Error parsing \"ON(=O)c1cc(cc(C2CCCCC2)c1O)N(=O)O\": Basic bonding laws have been violated.\n",
      "Error parsing \"[H]OC1=C(C([H])=C(C([H])=C1N(O)=O)N(O)=O)C1([H])C([H])([H])C([H])([H])C([H])([H])C([H])([H])C1([H])[H]\": Basic bonding laws have been violated.\n",
      "Error parsing \"ON(=O)c1cc(cc(C2CCCCC2)c1O)N(O)=O\": Basic bonding laws have been violated.\n",
      "Error parsing \"OC1=C(C=C(C=C1N(O)=O)N(O)=O)C1CCCCC1\": Basic bonding laws have been violated.\n",
      "Error parsing \"Oc1c(cc(cc1N(O)=O)N(O)=O)C1CCCCC1\": Basic bonding laws have been violated.\n",
      "explicit_single\n",
      "explicit_single\n",
      "Error parsing \"Cc1nc(=O)n(C(C)CC)c(=O)c1Br\": Aromaticity incorrectly defined.\n",
      "Error parsing \"O=c1ccnc2cc(ccc12)C(F)(F)F\": Aromaticity incorrectly defined.\n"
     ]
    }
   ],
   "source": [
    "from chython import smiles\n",
    "import time\n",
    "\n",
    "# Открываем файл для чтения и файл для записи ошибок\n",
    "with open('smiles_data.txt', 'r') as smiles_file, open('errors.txt', 'a') as errors_file:\n",
    "    for line in smiles_file:\n",
    "        smile = line.strip() # Удаляем пробелы и переносы строк\n",
    "        start_time = time.time() # Запоминаем время начала обработки\n",
    "        try:\n",
    "            m = smiles(smile)\n",
    "            m.clean2d()\n",
    "            # Здесь можно добавить дополнительную обработку, если это необходимо\n",
    "        except Exception as e:\n",
    "            # Записываем строку и описание ошибки в файл errors.txt\n",
    "            errors_file.write(f\"{smile} - {str(e)}\\n\")\n",
    "        else:\n",
    "            # Проверяем, не превысило ли время обработки 5 секунд\n",
    "            elapsed_time = time.time() - start_time\n",
    "            if elapsed_time > 5:\n",
    "                # Если время обработки превысило 5 секунд, записываем строку как ошибку\n",
    "                errors_file.write(f\"{smile} - Processing took more than 5 seconds\\n\")"
   ]
  }
 ],
 "metadata": {
  "kernelspec": {
   "display_name": "myenv",
   "language": "python",
   "name": "python3"
  },
  "language_info": {
   "codemirror_mode": {
    "name": "ipython",
    "version": 3
   },
   "file_extension": ".py",
   "mimetype": "text/x-python",
   "name": "python",
   "nbconvert_exporter": "python",
   "pygments_lexer": "ipython3",
   "version": "3.10.14"
  }
 },
 "nbformat": 4,
 "nbformat_minor": 2
}
