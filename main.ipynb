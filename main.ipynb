{
 "cells": [
  {
   "cell_type": "code",
   "execution_count": 7,
   "metadata": {},
   "outputs": [
    {
     "ename": "ModuleNotFoundError",
     "evalue": "No module named 'CachedMethods'",
     "output_type": "error",
     "traceback": [
      "\u001b[0;31m---------------------------------------------------------------------------\u001b[0m",
      "\u001b[0;31mModuleNotFoundError\u001b[0m                       Traceback (most recent call last)",
      "Cell \u001b[0;32mIn[7], line 1\u001b[0m\n\u001b[0;32m----> 1\u001b[0m \u001b[38;5;28;01mfrom\u001b[39;00m \u001b[38;5;21;01mchython\u001b[39;00m \u001b[38;5;28;01mimport\u001b[39;00m smiles\n\u001b[1;32m      2\u001b[0m m \u001b[38;5;241m=\u001b[39m smiles(\u001b[38;5;124m'\u001b[39m\u001b[38;5;124mCCO\u001b[39m\u001b[38;5;124m'\u001b[39m)\n\u001b[1;32m      3\u001b[0m m\u001b[38;5;241m.\u001b[39mclean2d()\n",
      "File \u001b[0;32m~/work/chython/chython/__init__.py:21\u001b[0m\n\u001b[1;32m      1\u001b[0m \u001b[38;5;66;03m# -*- coding: utf-8 -*-\u001b[39;00m\n\u001b[1;32m      2\u001b[0m \u001b[38;5;66;03m#\u001b[39;00m\n\u001b[1;32m      3\u001b[0m \u001b[38;5;66;03m#  Copyright 2014-2023 Ramil Nugmanov <nougmanoff@protonmail.com>\u001b[39;00m\n\u001b[0;32m   (...)\u001b[0m\n\u001b[1;32m     19\u001b[0m \u001b[38;5;66;03m#  along with this program; if not, see <https://www.gnu.org/licenses/>.\u001b[39;00m\n\u001b[1;32m     20\u001b[0m \u001b[38;5;66;03m#\u001b[39;00m\n\u001b[0;32m---> 21\u001b[0m \u001b[38;5;28;01mfrom\u001b[39;00m \u001b[38;5;21;01m.\u001b[39;00m\u001b[38;5;21;01malgorithms\u001b[39;00m\u001b[38;5;21;01m.\u001b[39;00m\u001b[38;5;21;01mdepict\u001b[39;00m \u001b[38;5;28;01mimport\u001b[39;00m depict_settings\n\u001b[1;32m     22\u001b[0m \u001b[38;5;28;01mfrom\u001b[39;00m \u001b[38;5;21;01m.\u001b[39;00m\u001b[38;5;21;01mcontainers\u001b[39;00m \u001b[38;5;28;01mimport\u001b[39;00m \u001b[38;5;241m*\u001b[39m\n\u001b[1;32m     23\u001b[0m \u001b[38;5;28;01mfrom\u001b[39;00m \u001b[38;5;21;01m.\u001b[39;00m\u001b[38;5;21;01mfiles\u001b[39;00m \u001b[38;5;28;01mimport\u001b[39;00m \u001b[38;5;241m*\u001b[39m\n",
      "File \u001b[0;32m~/work/chython/chython/algorithms/depict.py:20\u001b[0m\n\u001b[1;32m      1\u001b[0m \u001b[38;5;66;03m# -*- coding: utf-8 -*-\u001b[39;00m\n\u001b[1;32m      2\u001b[0m \u001b[38;5;66;03m#\u001b[39;00m\n\u001b[1;32m      3\u001b[0m \u001b[38;5;66;03m#  Copyright 2018-2022 Ramil Nugmanov <nougmanoff@protonmail.com>\u001b[39;00m\n\u001b[0;32m   (...)\u001b[0m\n\u001b[1;32m     18\u001b[0m \u001b[38;5;66;03m#  along with this program; if not, see <https://www.gnu.org/licenses/>.\u001b[39;00m\n\u001b[1;32m     19\u001b[0m \u001b[38;5;66;03m#\u001b[39;00m\n\u001b[0;32m---> 20\u001b[0m \u001b[38;5;28;01mfrom\u001b[39;00m \u001b[38;5;21;01mCachedMethods\u001b[39;00m \u001b[38;5;28;01mimport\u001b[39;00m cached_method\n\u001b[1;32m     21\u001b[0m \u001b[38;5;28;01mfrom\u001b[39;00m \u001b[38;5;21;01mcollections\u001b[39;00m \u001b[38;5;28;01mimport\u001b[39;00m defaultdict\n\u001b[1;32m     22\u001b[0m \u001b[38;5;28;01mfrom\u001b[39;00m \u001b[38;5;21;01mmath\u001b[39;00m \u001b[38;5;28;01mimport\u001b[39;00m atan2, sin, cos, hypot\n",
      "\u001b[0;31mModuleNotFoundError\u001b[0m: No module named 'CachedMethods'"
     ]
    }
   ],
   "source": [
    "from chython import smiles\n",
    "m = smiles('CCO')\n",
    "m.clean2d()\n",
    "m"
   ]
  },
  {
   "cell_type": "code",
   "execution_count": 6,
   "metadata": {},
   "outputs": [
    {
     "name": "stdout",
     "output_type": "stream",
     "text": [
      "             Город  Площадь (кв. км)  Население (человек)\n",
      "0           Москва              2561             12615882\n",
      "1  Санкт-Петербург              1439              5383890\n",
      "2        Ярославль               205               609828\n",
      "3        Хабаровск               383              1321473\n"
     ]
    }
   ],
   "source": [
    "import pandas as pd\n",
    "\n",
    "tabledata = [[\"Москва\", 2561, 12615882],\n",
    "             [\"Санкт-Петербург\", 1439, 5383890],\n",
    "             [\"Ярославль\", 205, 609828],\n",
    "             [\"Хабаровск\", 383, 1321473]]\n",
    "\n",
    "df = pd.DataFrame(tabledata, columns=[\"Город\",\"Площадь (кв. км)\", \"Население (человек)\"])\n",
    "print(df)"
   ]
  }
 ],
 "metadata": {
  "kernelspec": {
   "display_name": "Python 3",
   "language": "python",
   "name": "python3"
  },
  "language_info": {
   "codemirror_mode": {
    "name": "ipython",
    "version": 3
   },
   "file_extension": ".py",
   "mimetype": "text/x-python",
   "name": "python",
   "nbconvert_exporter": "python",
   "pygments_lexer": "ipython3",
   "version": "3.12.2"
  }
 },
 "nbformat": 4,
 "nbformat_minor": 4
}
