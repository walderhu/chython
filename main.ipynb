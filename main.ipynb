{
 "cells": [
  {
   "cell_type": "code",
   "execution_count": 34,
   "metadata": {},
   "outputs": [
    {
     "name": "stdout",
     "output_type": "stream",
     "text": [
      "CC(Nc1ncnc2ccccc12)c3ccccc3\n"
     ]
    },
    {
     "data": {
      "image/svg+xml": [
       "<svg width=\"6.66cm\" height=\"6.35cm\" viewBox=\"-4.22 -2.79 6.66 6.35\" xmlns=\"http://www.w3.org/2000/svg\" xmlns:xlink=\"http://www.w3.org/1999/xlink\" version=\"1.1\">\n",
       "  <g id=\"551f54d3-8015-4243-83fe-e60e28123ab5-molecule\">\n",
       "    <defs>\n",
       "      <g id=\"551f54d3-8015-4243-83fe-e60e28123ab5-symbols\" font-size=\"0.50\" font-family=\"sans-serif\">\n",
       "        <text id=\"551f54d3-8015-4243-83fe-e60e28123ab5-3\" x=\"-1.14\" y=\"0.24\" dx=\"-0.20\" dy=\"0.20\">NH</text>\n",
       "        <text id=\"551f54d3-8015-4243-83fe-e60e28123ab5-5\" x=\"-2.47\" y=\"0.78\" dx=\"-0.20\" dy=\"0.20\">N</text>\n",
       "        <text id=\"551f54d3-8015-4243-83fe-e60e28123ab5-7\" x=\"-3.59\" y=\"-0.10\" dx=\"-0.20\" dy=\"0.20\">N</text>\n",
       "      </g>\n",
       "      <g id=\"551f54d3-8015-4243-83fe-e60e28123ab5-mapping\" font-size=\"0.25\" font-family=\"monospace\" text-anchor=\"end\">\n",
       "        <text x=\"0.00\" y=\"-0.00\" dx=\"-0.05\" dy=\"0.20\">1</text>\n",
       "        <text x=\"-0.45\" y=\"0.69\" dx=\"-0.05\" dy=\"0.20\">2</text>\n",
       "        <text x=\"-1.14\" y=\"0.24\" dx=\"-0.15\" dy=\"0.35\">3</text>\n",
       "        <text x=\"-1.96\" y=\"0.13\" dx=\"-0.05\" dy=\"0.20\">4</text>\n",
       "        <text x=\"-2.47\" y=\"0.78\" dx=\"-0.15\" dy=\"0.35\">5</text>\n",
       "        <text x=\"-3.28\" y=\"0.66\" dx=\"-0.05\" dy=\"0.20\">6</text>\n",
       "        <text x=\"-3.59\" y=\"-0.10\" dx=\"-0.15\" dy=\"0.35\">7</text>\n",
       "        <text x=\"-3.08\" y=\"-0.75\" dx=\"-0.05\" dy=\"0.20\">8</text>\n",
       "        <text x=\"-3.39\" y=\"-1.52\" dx=\"-0.05\" dy=\"0.20\">9</text>\n",
       "        <text x=\"-2.89\" y=\"-2.17\" dx=\"-0.05\" dy=\"0.20\">10</text>\n",
       "        <text x=\"-2.07\" y=\"-2.05\" dx=\"-0.05\" dy=\"0.20\">11</text>\n",
       "        <text x=\"-1.76\" y=\"-1.29\" dx=\"-0.05\" dy=\"0.20\">12</text>\n",
       "        <text x=\"-2.27\" y=\"-0.64\" dx=\"-0.05\" dy=\"0.20\">13</text>\n",
       "        <text x=\"-0.10\" y=\"1.44\" dx=\"-0.05\" dy=\"0.20\">14</text>\n",
       "        <text x=\"0.72\" y=\"1.51\" dx=\"-0.05\" dy=\"0.20\">15</text>\n",
       "        <text x=\"1.07\" y=\"2.26\" dx=\"-0.05\" dy=\"0.20\">16</text>\n",
       "        <text x=\"0.60\" y=\"2.94\" dx=\"-0.05\" dy=\"0.20\">17</text>\n",
       "        <text x=\"-0.23\" y=\"2.86\" dx=\"-0.05\" dy=\"0.20\">18</text>\n",
       "        <text x=\"-0.57\" y=\"2.12\" dx=\"-0.05\" dy=\"0.20\">19</text>\n",
       "      </g>\n",
       "      <mask id=\"551f54d3-8015-4243-83fe-e60e28123ab5-mask\">\n",
       "        <rect x=\"-4.22\" y=\"-2.79\" width=\"6.66\" height=\"6.35\" fill=\"white\"/>\n",
       "        <g>\n",
       "          <circle cx=\"-1.14\" cy=\"0.24\" r=\"0.20\"/>\n",
       "          <circle cx=\"-2.47\" cy=\"0.78\" r=\"0.20\"/>\n",
       "          <circle cx=\"-3.59\" cy=\"-0.10\" r=\"0.20\"/>\n",
       "        </g>\n",
       "        <g stroke=\"black\">\n",
       "          <use xlink:href=\"#551f54d3-8015-4243-83fe-e60e28123ab5-symbols\" stroke-width=\"0.05\"/>\n",
       "          <use xlink:href=\"#551f54d3-8015-4243-83fe-e60e28123ab5-mapping\" stroke-width=\"0.03\"/>\n",
       "        </g>\n",
       "      </mask>\n",
       "    </defs>\n",
       "    <g fill=\"none\" stroke=\"black\" stroke-width=\"0.04\" mask=\"url(#551f54d3-8015-4243-83fe-e60e28123ab5-mask)\">\n",
       "      <line x1=\"0.00\" y1=\"-0.00\" x2=\"-0.45\" y2=\"0.69\"/>\n",
       "      <line x1=\"-0.45\" y1=\"0.69\" x2=\"-1.14\" y2=\"0.24\"/>\n",
       "      <line x1=\"-0.45\" y1=\"0.69\" x2=\"-0.10\" y2=\"1.44\"/>\n",
       "      <line x1=\"-1.14\" y1=\"0.24\" x2=\"-1.96\" y2=\"0.13\"/>\n",
       "      <line x1=\"-1.96\" y1=\"0.13\" x2=\"-2.47\" y2=\"0.78\"/>\n",
       "      <line x1=\"-1.96\" y1=\"0.13\" x2=\"-2.27\" y2=\"-0.64\"/>\n",
       "      <line x1=\"-2.47\" y1=\"0.78\" x2=\"-3.28\" y2=\"0.66\"/>\n",
       "      <line x1=\"-3.28\" y1=\"0.66\" x2=\"-3.59\" y2=\"-0.10\"/>\n",
       "      <line x1=\"-3.59\" y1=\"-0.10\" x2=\"-3.08\" y2=\"-0.75\"/>\n",
       "      <line x1=\"-3.08\" y1=\"-0.75\" x2=\"-3.39\" y2=\"-1.52\"/>\n",
       "      <line x1=\"-3.08\" y1=\"-0.75\" x2=\"-2.27\" y2=\"-0.64\"/>\n",
       "      <line x1=\"-3.39\" y1=\"-1.52\" x2=\"-2.89\" y2=\"-2.17\"/>\n",
       "      <line x1=\"-2.89\" y1=\"-2.17\" x2=\"-2.07\" y2=\"-2.05\"/>\n",
       "      <line x1=\"-2.07\" y1=\"-2.05\" x2=\"-1.76\" y2=\"-1.29\"/>\n",
       "      <line x1=\"-1.76\" y1=\"-1.29\" x2=\"-2.27\" y2=\"-0.64\"/>\n",
       "      <line x1=\"-0.10\" y1=\"1.44\" x2=\"0.72\" y2=\"1.51\"/>\n",
       "      <line x1=\"-0.10\" y1=\"1.44\" x2=\"-0.57\" y2=\"2.12\"/>\n",
       "      <line x1=\"0.72\" y1=\"1.51\" x2=\"1.07\" y2=\"2.26\"/>\n",
       "      <line x1=\"1.07\" y1=\"2.26\" x2=\"0.60\" y2=\"2.94\"/>\n",
       "      <line x1=\"0.60\" y1=\"2.94\" x2=\"-0.23\" y2=\"2.86\"/>\n",
       "      <line x1=\"-0.23\" y1=\"2.86\" x2=\"-0.57\" y2=\"2.12\"/>\n",
       "      <line x1=\"-0.03\" y1=\"1.59\" x2=\"0.63\" y2=\"1.64\" stroke-dasharray=\"0.15 0.05\"/>\n",
       "      <line x1=\"0.63\" y1=\"1.64\" x2=\"0.91\" y2=\"2.25\" stroke-dasharray=\"0.15 0.05\"/>\n",
       "      <line x1=\"0.91\" y1=\"2.25\" x2=\"0.53\" y2=\"2.79\" stroke-dasharray=\"0.15 0.05\"/>\n",
       "      <line x1=\"0.53\" y1=\"2.79\" x2=\"-0.13\" y2=\"2.73\" stroke-dasharray=\"0.15 0.05\"/>\n",
       "      <line x1=\"-0.13\" y1=\"2.73\" x2=\"-0.41\" y2=\"2.13\" stroke-dasharray=\"0.15 0.05\"/>\n",
       "      <line x1=\"-0.41\" y1=\"2.13\" x2=\"-0.03\" y2=\"1.59\" stroke-dasharray=\"0.15 0.05\"/>\n",
       "      <line x1=\"-2.12\" y1=\"0.11\" x2=\"-2.53\" y2=\"0.63\" stroke-dasharray=\"0.15 0.05\"/>\n",
       "      <line x1=\"-2.53\" y1=\"0.63\" x2=\"-3.18\" y2=\"0.54\" stroke-dasharray=\"0.15 0.05\"/>\n",
       "      <line x1=\"-3.18\" y1=\"0.54\" x2=\"-3.43\" y2=\"-0.08\" stroke-dasharray=\"0.15 0.05\"/>\n",
       "      <line x1=\"-3.43\" y1=\"-0.08\" x2=\"-3.02\" y2=\"-0.60\" stroke-dasharray=\"0.15 0.05\"/>\n",
       "      <line x1=\"-3.02\" y1=\"-0.60\" x2=\"-2.37\" y2=\"-0.51\" stroke-dasharray=\"0.15 0.05\"/>\n",
       "      <line x1=\"-2.37\" y1=\"-0.51\" x2=\"-2.12\" y2=\"0.11\" stroke-dasharray=\"0.15 0.05\"/>\n",
       "      <line x1=\"-2.98\" y1=\"-0.88\" x2=\"-3.23\" y2=\"-1.49\" stroke-dasharray=\"0.15 0.05\"/>\n",
       "      <line x1=\"-3.23\" y1=\"-1.49\" x2=\"-2.82\" y2=\"-2.02\" stroke-dasharray=\"0.15 0.05\"/>\n",
       "      <line x1=\"-2.82\" y1=\"-2.02\" x2=\"-2.17\" y2=\"-1.92\" stroke-dasharray=\"0.15 0.05\"/>\n",
       "      <line x1=\"-2.17\" y1=\"-1.92\" x2=\"-1.92\" y2=\"-1.31\" stroke-dasharray=\"0.15 0.05\"/>\n",
       "      <line x1=\"-1.92\" y1=\"-1.31\" x2=\"-2.33\" y2=\"-0.79\" stroke-dasharray=\"0.15 0.05\"/>\n",
       "      <line x1=\"-2.33\" y1=\"-0.79\" x2=\"-2.98\" y2=\"-0.88\" stroke-dasharray=\"0.15 0.05\"/>\n",
       "    </g>\n",
       "    <g font-size=\"0.50\" font-family=\"sans-serif\">\n",
       "      <use xlink:href=\"#551f54d3-8015-4243-83fe-e60e28123ab5-3\" fill=\"#3050F8\"/>\n",
       "      <use xlink:href=\"#551f54d3-8015-4243-83fe-e60e28123ab5-5\" fill=\"#3050F8\"/>\n",
       "      <use xlink:href=\"#551f54d3-8015-4243-83fe-e60e28123ab5-7\" fill=\"#3050F8\"/>\n",
       "    </g>\n",
       "    <use xlink:href=\"#551f54d3-8015-4243-83fe-e60e28123ab5-mapping\" fill=\"#0305A7\"/>\n",
       "  </g>\n",
       "</svg>"
      ],
      "text/plain": [
       "<chython.containers.molecule.MoleculeContainer at 0x7f2618d8a400>"
      ]
     },
     "execution_count": 34,
     "metadata": {},
     "output_type": "execute_result"
    }
   ],
   "source": [
    "from chython import smiles\n",
    "lst1 = ['Cn1c(CN2CCN(CC2)c3ccc(Cl)cc3)nc4ccccc14',\n",
    "'CCSc1c(Cc2ccccc2C(F)(F)F)sc3N(CC(C)C)C(=O)N(C)C(=O)c13',\n",
    "'CCN1C[C@H](OC1=O)[C@H](O)[C@H](CC1CCCCC1)NC(=O)[C@H](CC1=CC=CS1)N=C(O)[C@@H](CC(=O)N1CCOCC1)CC1=CC=CC=C1'\n",
    "'COc1ccc(cn1)C2=Cc3c(C)nc(N)nc3N([C@@H]4CC[C@H](CC4)OCCO)C2=O',\n",
    "'CC(Nc1ncnc2ccccc12)c3ccccc3',\n",
    "'CC(C)c1ccc2Oc3nc(N)c(cc3C(=O)c2c1)C(=O)O',\n",
    "'O[C@@H](CNCCCOCCOCCc1cccc2ccccc12)c3ccc(O)c4NC(=O)Sc34',\n",
    "'COc1ccccc1Cn2c(C)nc3ccccc23',\n",
    "'OC(=O)c1ccc(NC(=O)c2cc(OCc3ccccc3F)cc(OCc4ccccc4F)c2)nc1',\n",
    "'CCC(CC)NC(=O)c1cnn(C)c1NS(=O)(=O)c2ccc(C)cc2',\n",
    "'O=C1NC(=NC(=C1C#N)c2ccccc2)SCCc3ccccc3',\n",
    "'O=C(COc1ccccc1)c2ccccc2',\n",
    "]\n",
    "lst2 = [\n",
    "'[H]C1=C([H])C([H])=C2N(C3=C([H])C([H])=C([H])C([H])=C3SC2=C1[H])C([H])([H])C([H])(N(C([H])([H])[H])C([H])([H])[H])C([H])([H])N(C([H])([H])[H])C([H])([H])[H]',\n",
    "'[H]SC(N=NC([H])(C1=C([H])C([H])=C([H])C([H])=N1)C1=C([H])C([H])=C([H])C([H])=N1)=NC1=C([H])C([H])=C([H])C([H])=C1[H]',\n",
    "'[H]SC(=NN=C(C1=C([H])C([H])=C([H])C([H])=N1)C1=C([H])C([H])=C([H])C([H])=N1)N([H])C1=C([H])C([H])=C([H])C([H])=C1[H]',\n",
    "'C([H])([H])([H])([H])',\n",
    "]\n",
    "lst = lst1\n",
    "smile = lst[3]\n",
    "# smile = 'CCS(=O)(=O)c1ccc(c(C)c1)c2cc(ccc2O[C@H](C)C(=O)O)C(F)(F)F' #error kekulise\n",
    "m = smiles(smile)\n",
    "print(smile)\n",
    "m.clean2d()\n",
    "m"
   ]
  },
  {
   "cell_type": "code",
   "execution_count": 33,
   "metadata": {},
   "outputs": [
    {
     "data": {
      "image/jpeg": "[encoded data removed]",
      "image/png": "[encoded data removed]",
      "text/plain": [
       "<PIL.PngImagePlugin.PngImageFile image mode=RGB size=300x300>"
      ]
     },
     "metadata": {},
     "output_type": "display_data"
    }
   ],
   "source": [
    "from rdkit import Chem\n",
    "from rdkit.Chem import Draw\n",
    "from rdkit.Chem.Draw import IPythonConsole\n",
    "IPythonConsole.ipython_useSVG = True  \n",
    "smile = 'CCN1C[C@H](OC1=O)[C@H](O)[C@H](CC1CCCCC1)NC(=O)[C@H](CC1=CC=CS1)N=C(O)[C@@H](CC(=O)N1CCOCC1)CC1=CC=CC=C1'\n",
    "smile = 'CCS(=O)(=O)c1ccc(c(C)c1)c2cc(ccc2O[C@H](C)C(=O)O)C(F)(F)F'\n",
    "molecule = Chem.MolFromSmiles(smile)  \n",
    "Draw.MolToImage(molecule).show()\n"
   ]
  }
 ],
 "metadata": {
  "kernelspec": {
   "display_name": "myenv",
   "language": "python",
   "name": "python3"
  },
  "language_info": {
   "codemirror_mode": {
    "name": "ipython",
    "version": 3
   },
   "file_extension": ".py",
   "mimetype": "text/x-python",
   "name": "python",
   "nbconvert_exporter": "python",
   "pygments_lexer": "ipython3",
   "version": "3.8.19"
  }
 },
 "nbformat": 4,
 "nbformat_minor": 2
}
