{
 "cells": [
  {
   "cell_type": "code",
   "execution_count": 1,
   "metadata": {},
   "outputs": [
    {
     "name": "stdout",
     "output_type": "stream",
     "text": [
      "Error parsing \"CC1=NC=C(N1CCN=N=N)N(O)=O\": Basic bonding laws have been violated.\n"
     ]
    },
    {
     "ename": "AttributeError",
     "evalue": "'NoneType' object has no attribute 'kekulise'",
     "output_type": "error",
     "traceback": [
      "\u001b[0;31m---------------------------------------------------------------------------\u001b[0m",
      "\u001b[0;31mAttributeError\u001b[0m                            Traceback (most recent call last)",
      "Cell \u001b[0;32mIn[1], line 11\u001b[0m\n\u001b[1;32m      9\u001b[0m smile \u001b[38;5;241m=\u001b[39m \u001b[38;5;124m'\u001b[39m\u001b[38;5;124mCC1=NC=C(N1CCN=[N+]=[N-])[N+]([O-])=O\u001b[39m\u001b[38;5;124m'\u001b[39m\n\u001b[1;32m     10\u001b[0m m \u001b[38;5;241m=\u001b[39m smiles(smile)\n\u001b[0;32m---> 11\u001b[0m \u001b[43mm\u001b[49m\u001b[38;5;241;43m.\u001b[39;49m\u001b[43mclean2d\u001b[49m\u001b[43m(\u001b[49m\u001b[43m)\u001b[49m\n\u001b[1;32m     12\u001b[0m m\n",
      "File \u001b[0;32m~/chython/chython/algorithms/calculate2d/clean2d.py:23\u001b[0m, in \u001b[0;36mCalculate2DMolecule.clean2d\u001b[0;34m(self)\u001b[0m\n\u001b[1;32m     21\u001b[0m \u001b[38;5;28;01mfor\u001b[39;00m _ \u001b[38;5;129;01min\u001b[39;00m \u001b[38;5;28mrange\u001b[39m(\u001b[38;5;28mmin\u001b[39m(\u001b[38;5;241m5\u001b[39m, \u001b[38;5;28mlen\u001b[39m(\u001b[38;5;28mself\u001b[39m))):\n\u001b[1;32m     22\u001b[0m     smiles, order \u001b[38;5;241m=\u001b[39m \u001b[38;5;28mself\u001b[39m\u001b[38;5;241m.\u001b[39m__clean2d_prepare(\u001b[38;5;28mnext\u001b[39m(entry))\n\u001b[0;32m---> 23\u001b[0m     xy \u001b[38;5;241m=\u001b[39m \u001b[43mindex\u001b[49m\u001b[43m(\u001b[49m\u001b[43msmiles\u001b[49m\u001b[43m)\u001b[49m\n\u001b[1;32m     24\u001b[0m     \u001b[38;5;28;01mif\u001b[39;00m xy \u001b[38;5;129;01mis\u001b[39;00m \u001b[38;5;129;01mnot\u001b[39;00m \u001b[38;5;28;01mNone\u001b[39;00m:\n\u001b[1;32m     25\u001b[0m         \u001b[38;5;28;01mbreak\u001b[39;00m\n",
      "File \u001b[0;32m~/chython/chython/algorithms/calculate2d/index.py:8\u001b[0m, in \u001b[0;36mclean2d\u001b[0;34m(smiles)\u001b[0m\n\u001b[1;32m      6\u001b[0m \u001b[38;5;28;01mdef\u001b[39;00m \u001b[38;5;21mclean2d\u001b[39m(smiles):\n\u001b[1;32m      7\u001b[0m     structure\u001b[38;5;241m=\u001b[39mread_smiles(smiles)\n\u001b[0;32m----> 8\u001b[0m     drawer \u001b[38;5;241m=\u001b[39m \u001b[43mDrawer\u001b[49m\u001b[43m(\u001b[49m\u001b[43mstructure\u001b[49m\u001b[43m)\u001b[49m\n\u001b[1;32m      9\u001b[0m     drawer\u001b[38;5;241m.\u001b[39m_process_structure()\n\u001b[1;32m     10\u001b[0m     drawn_atoms \u001b[38;5;241m=\u001b[39m drawer\u001b[38;5;241m.\u001b[39mstructure\u001b[38;5;241m.\u001b[39mget_drawn_atoms()\n",
      "File \u001b[0;32m~/chython/chython/algorithms/calculate2d/drawing/drawing.py:331\u001b[0m, in \u001b[0;36mDrawer.__init__\u001b[0;34m(self, structure, options, coords_only, multiple, kekulise)\u001b[0m\n\u001b[1;32m    329\u001b[0m     \u001b[38;5;28mself\u001b[39m\u001b[38;5;241m.\u001b[39moptions: Options \u001b[38;5;241m=\u001b[39m options\n\u001b[1;32m    330\u001b[0m \u001b[38;5;28;01mif\u001b[39;00m kekulise:\n\u001b[0;32m--> 331\u001b[0m     \u001b[38;5;28mself\u001b[39m\u001b[38;5;241m.\u001b[39mstructure \u001b[38;5;241m=\u001b[39m \u001b[43mstructure\u001b[49m\u001b[38;5;241;43m.\u001b[39;49m\u001b[43mkekulise\u001b[49m()\n\u001b[1;32m    332\u001b[0m \u001b[38;5;28;01melse\u001b[39;00m:\n\u001b[1;32m    333\u001b[0m     \u001b[38;5;28mself\u001b[39m\u001b[38;5;241m.\u001b[39mstructure \u001b[38;5;241m=\u001b[39m structure\n",
      "\u001b[0;31mAttributeError\u001b[0m: 'NoneType' object has no attribute 'kekulise'"
     ]
    }
   ],
   "source": [
    "from chython import smiles\n",
    "# smile = 'CCCCCCCCCC(=O)N[C@@H](CC1=CNC2=CC=CC=C21)C(=O)N[C@@H](CC(=O)N)C(=O)N[C@@H](CC(=O)O)C(=O)N[C@H]3[C@H](OC(=O)[C@@H](NC(=O)[C@@H](NC(=O)[C@H](NC(=O)CNC(=O)[C@@H](NC(=O)[C@H](NC(=O)[C@@H](NC(=O)[C@@H](NC(=O)CNC3=O)CCCN)CC(=O)O)C)CC(=O)O)CO)[C@H](C)CC(=O)O)CC(=O)C4=CC=CC=C4N)C'\n",
    "# smile = '[Na+].CN(C)c2ccc(/N=N/c1ccc(cc1)S([O-])(=O)=O)cc2'\n",
    "smile = 'CCN1C[C@H](OC1=O)[C@H](O)[C@H](CC1CCCCC1)NC(=O)[C@H](CC1=CC=CS1)N=C(O)[C@@H](CC(=O)N1CCOCC1)CC1=CC=CC=C1'\n",
    "# smile = '[H]OC([H])([H])C([H])(O[H])C1([H])OC(=O)C([H])(O[H])C1=O'\n",
    "# smile = 'CN1C(=O)c2[nH]c[n]c2N(C)C1=O'\n",
    "smile = '[H]C1=C([H])C([H])=C2N(C3=C([H])C([H])=C([H])C([H])=C3SC2=C1[H])C([H])([H])C([H])(N(C([H])([H])[H])C([H])([H])[H])C([H])([H])N(C([H])([H])[H])C([H])([H])[H]'\n",
    "smile = 'COc1ccc(cc1)n1nnnc1N'\n",
    "smile = 'CC1=NC=C(N1CCN=[N+]=[N-])[N+]([O-])=O'\n",
    "m = smiles(smile)\n",
    "m.clean2d()\n",
    "m\n",
    "\n"
   ]
  }
 ],
 "metadata": {
  "kernelspec": {
   "display_name": "myenv",
   "language": "python",
   "name": "python3"
  },
  "language_info": {
   "codemirror_mode": {
    "name": "ipython",
    "version": 3
   },
   "file_extension": ".py",
   "mimetype": "text/x-python",
   "name": "python",
   "nbconvert_exporter": "python",
   "pygments_lexer": "ipython3",
   "version": "3.8.19"
  }
 },
 "nbformat": 4,
 "nbformat_minor": 2
}
