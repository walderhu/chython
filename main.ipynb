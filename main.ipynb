{
 "cells": [
  {
   "cell_type": "code",
   "execution_count": 1,
   "metadata": {},
   "outputs": [
    {
     "name": "stdout",
     "output_type": "stream",
     "text": [
      "H_0\n",
      "1sp1\n",
      "[H_0_1_1sp1_-0.5, H_1_1_1s_0.5]\n",
      "Error parsing \"[H]C([H])([H])[H]\": Can't form enough sigma bonds.\n"
     ]
    },
    {
     "ename": "AttributeError",
     "evalue": "'NoneType' object has no attribute 'kekulise'",
     "output_type": "error",
     "traceback": [
      "\u001b[0;31m---------------------------------------------------------------------------\u001b[0m",
      "\u001b[0;31mAttributeError\u001b[0m                            Traceback (most recent call last)",
      "Cell \u001b[0;32mIn[1], line 13\u001b[0m\n\u001b[1;32m     11\u001b[0m smile \u001b[38;5;241m=\u001b[39m lst[\u001b[38;5;241m-\u001b[39m\u001b[38;5;241m1\u001b[39m]\n\u001b[1;32m     12\u001b[0m m \u001b[38;5;241m=\u001b[39m smiles(smile)\n\u001b[0;32m---> 13\u001b[0m \u001b[43mm\u001b[49m\u001b[38;5;241;43m.\u001b[39;49m\u001b[43mclean2d\u001b[49m\u001b[43m(\u001b[49m\u001b[43m)\u001b[49m\n\u001b[1;32m     14\u001b[0m m\n",
      "File \u001b[0;32m~/chython/chython/algorithms/calculate2d/clean2d.py:23\u001b[0m, in \u001b[0;36mCalculate2DMolecule.clean2d\u001b[0;34m(self)\u001b[0m\n\u001b[1;32m     21\u001b[0m \u001b[38;5;28;01mfor\u001b[39;00m _ \u001b[38;5;129;01min\u001b[39;00m \u001b[38;5;28mrange\u001b[39m(\u001b[38;5;28mmin\u001b[39m(\u001b[38;5;241m5\u001b[39m, \u001b[38;5;28mlen\u001b[39m(\u001b[38;5;28mself\u001b[39m))):\n\u001b[1;32m     22\u001b[0m     smiles, order \u001b[38;5;241m=\u001b[39m \u001b[38;5;28mself\u001b[39m\u001b[38;5;241m.\u001b[39m__clean2d_prepare(\u001b[38;5;28mnext\u001b[39m(entry))\n\u001b[0;32m---> 23\u001b[0m     xy \u001b[38;5;241m=\u001b[39m \u001b[43mindex\u001b[49m\u001b[43m(\u001b[49m\u001b[43msmiles\u001b[49m\u001b[43m)\u001b[49m\n\u001b[1;32m     24\u001b[0m     \u001b[38;5;28;01mif\u001b[39;00m xy \u001b[38;5;129;01mis\u001b[39;00m \u001b[38;5;129;01mnot\u001b[39;00m \u001b[38;5;28;01mNone\u001b[39;00m:\n\u001b[1;32m     25\u001b[0m         \u001b[38;5;28;01mbreak\u001b[39;00m\n",
      "File \u001b[0;32m~/chython/chython/algorithms/calculate2d/index.py:7\u001b[0m, in \u001b[0;36mclean2d\u001b[0;34m(smiles)\u001b[0m\n\u001b[1;32m      5\u001b[0m \u001b[38;5;28;01mdef\u001b[39;00m \u001b[38;5;21mclean2d\u001b[39m(smiles):\n\u001b[1;32m      6\u001b[0m     structure\u001b[38;5;241m=\u001b[39mread_smiles(smiles)\n\u001b[0;32m----> 7\u001b[0m     drawer \u001b[38;5;241m=\u001b[39m \u001b[43mDrawer\u001b[49m\u001b[43m(\u001b[49m\u001b[43mstructure\u001b[49m\u001b[43m)\u001b[49m\n\u001b[1;32m      8\u001b[0m     drawer\u001b[38;5;241m.\u001b[39m_process_structure()\n\u001b[1;32m      9\u001b[0m     drawn_atoms \u001b[38;5;241m=\u001b[39m drawer\u001b[38;5;241m.\u001b[39mstructure\u001b[38;5;241m.\u001b[39mget_drawn_atoms()\n",
      "File \u001b[0;32m~/chython/chython/algorithms/calculate2d/drawing/drawing.py:63\u001b[0m, in \u001b[0;36mDrawer.__init__\u001b[0;34m(self, structure, options, coords_only, multiple, kekulise)\u001b[0m\n\u001b[1;32m     61\u001b[0m     \u001b[38;5;28mself\u001b[39m\u001b[38;5;241m.\u001b[39moptions: Options \u001b[38;5;241m=\u001b[39m options\n\u001b[1;32m     62\u001b[0m \u001b[38;5;28;01mif\u001b[39;00m kekulise:\n\u001b[0;32m---> 63\u001b[0m     \u001b[38;5;28mself\u001b[39m\u001b[38;5;241m.\u001b[39mstructure \u001b[38;5;241m=\u001b[39m \u001b[43mstructure\u001b[49m\u001b[38;5;241;43m.\u001b[39;49m\u001b[43mkekulise\u001b[49m()\n\u001b[1;32m     64\u001b[0m \u001b[38;5;28;01melse\u001b[39;00m:\n\u001b[1;32m     65\u001b[0m     \u001b[38;5;28mself\u001b[39m\u001b[38;5;241m.\u001b[39mstructure \u001b[38;5;241m=\u001b[39m structure\n",
      "\u001b[0;31mAttributeError\u001b[0m: 'NoneType' object has no attribute 'kekulise'"
     ]
    }
   ],
   "source": [
    "from chython import smiles\n",
    "lst1 = ['Cn1c(CN2CCN(CC2)c3ccc(Cl)cc3)nc4ccccc14',\n",
    "'CCSc1c(Cc2ccccc2C(F)(F)F)sc3N(CC(C)C)C(=O)N(C)C(=O)c13',\n",
    "]\n",
    "lst2 = [\n",
    "'[H]SC(=NN=C(C1=C([H])C([H])=C([H])C([H])=N1)C1=C([H])C([H])=C([H])C([H])=N1)N([H])C1=C([H])C([H])=C([H])C([H])=C1[H]',\n",
    "'C([H])([H])([H])([H])',\n",
    "# 'C([H[4]])'\n",
    "]\n",
    "lst = lst2\n",
    "smile = lst[-1]\n",
    "m = smiles(smile)\n",
    "m.clean2d()\n",
    "m"
   ]
  }
 ],
 "metadata": {
  "kernelspec": {
   "display_name": "myenv",
   "language": "python",
   "name": "python3"
  },
  "language_info": {
   "codemirror_mode": {
    "name": "ipython",
    "version": 3
   },
   "file_extension": ".py",
   "mimetype": "text/x-python",
   "name": "python",
   "nbconvert_exporter": "python",
   "pygments_lexer": "ipython3",
   "version": "3.8.19"
  }
 },
 "nbformat": 4,
 "nbformat_minor": 2
}
