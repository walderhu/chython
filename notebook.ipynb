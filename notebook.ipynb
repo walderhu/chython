{
 "cells": [
  {
   "cell_type": "markdown",
   "metadata": {
    "pycharm": {
     "name": "#%% md\n"
    }
   },
   "source": [
    "# 1. Input-output operations\n",
    "\n",
    "*chython.files* subpackage contains file readers and writers classes.\n",
    "\n",
    "## 1.1. MDL RDF reader\n",
    "\n",
    "**RDFRead** class can be used for RDF files reading.\n",
    "Instance of this class is file-like object which support **iteration**, has a method **read()** for parsing all data and **context manager**.\n",
    "\n",
    "### 1.1.1. Read file from disk"
   ]
  },
  {
   "cell_type": "code",
   "execution_count": 1,
   "metadata": {
    "pycharm": {
     "name": "#%%\n"
    }
   },
   "outputs": [
    {
     "ename": "FileNotFoundError",
     "evalue": "[Errno 2] No such file or directory: 'example.rdf'",
     "output_type": "error",
     "traceback": [
      "\u001b[0;31m---------------------------------------------------------------------------\u001b[0m",
      "\u001b[0;31mFileNotFoundError\u001b[0m                         Traceback (most recent call last)",
      "Cell \u001b[0;32mIn[1], line 3\u001b[0m\n\u001b[1;32m      1\u001b[0m \u001b[38;5;28;01mfrom\u001b[39;00m \u001b[38;5;21;01mchython\u001b[39;00m\u001b[38;5;21;01m.\u001b[39;00m\u001b[38;5;21;01mfiles\u001b[39;00m \u001b[38;5;28;01mimport\u001b[39;00m \u001b[38;5;241m*\u001b[39m \u001b[38;5;66;03m# import all available readers and writers\u001b[39;00m\n\u001b[0;32m----> 3\u001b[0m \u001b[38;5;28;01mwith\u001b[39;00m \u001b[43mRDFRead\u001b[49m\u001b[43m(\u001b[49m\u001b[38;5;124;43m'\u001b[39;49m\u001b[38;5;124;43mexample.rdf\u001b[39;49m\u001b[38;5;124;43m'\u001b[39;49m\u001b[43m)\u001b[49m \u001b[38;5;28;01mas\u001b[39;00m f:\n\u001b[1;32m      4\u001b[0m     first \u001b[38;5;241m=\u001b[39m \u001b[38;5;28mnext\u001b[39m(f)  \u001b[38;5;66;03m# get first reaction using generator\u001b[39;00m\n\u001b[1;32m      5\u001b[0m     data \u001b[38;5;241m=\u001b[39m f\u001b[38;5;241m.\u001b[39mread()  \u001b[38;5;66;03m# read remaining reactions to list of ReactionContainers\u001b[39;00m\n",
      "File \u001b[0;32m/opt/conda/lib/python3.11/site-packages/chython/files/_mdl/read.py:40\u001b[0m, in \u001b[0;36mMDLReadMeta.__call__\u001b[0;34m(cls, *args, **kwargs)\u001b[0m\n\u001b[1;32m     38\u001b[0m \u001b[38;5;28;01melse\u001b[39;00m:\n\u001b[1;32m     39\u001b[0m     obj \u001b[38;5;241m=\u001b[39m \u001b[38;5;28mobject\u001b[39m\u001b[38;5;241m.\u001b[39m\u001b[38;5;21m__new__\u001b[39m(\u001b[38;5;28mcls\u001b[39m)  \u001b[38;5;66;03m# noqa\u001b[39;00m\n\u001b[0;32m---> 40\u001b[0m \u001b[43mobj\u001b[49m\u001b[38;5;241;43m.\u001b[39;49m\u001b[38;5;21;43m__init__\u001b[39;49m\u001b[43m(\u001b[49m\u001b[38;5;241;43m*\u001b[39;49m\u001b[43margs\u001b[49m\u001b[43m,\u001b[49m\u001b[43m \u001b[49m\u001b[38;5;241;43m*\u001b[39;49m\u001b[38;5;241;43m*\u001b[39;49m\u001b[43mkwargs\u001b[49m\u001b[43m)\u001b[49m\n\u001b[1;32m     41\u001b[0m \u001b[38;5;28;01mreturn\u001b[39;00m obj\n",
      "File \u001b[0;32m/opt/conda/lib/python3.11/site-packages/chython/files/RDFrw.py:61\u001b[0m, in \u001b[0;36mRDFRead.__init__\u001b[0;34m(self, file, buffer_size, indexable, ignore, remap, calc_cis_trans, ignore_stereo, ignore_bad_isotopes)\u001b[0m\n\u001b[1;32m     45\u001b[0m \u001b[38;5;28;01mdef\u001b[39;00m \u001b[38;5;21m__init__\u001b[39m(\u001b[38;5;28mself\u001b[39m, file, \u001b[38;5;241m*\u001b[39m, buffer_size\u001b[38;5;241m=\u001b[39m\u001b[38;5;241m10000\u001b[39m, indexable: \u001b[38;5;28mbool\u001b[39m \u001b[38;5;241m=\u001b[39m \u001b[38;5;28;01mFalse\u001b[39;00m, ignore: \u001b[38;5;28mbool\u001b[39m \u001b[38;5;241m=\u001b[39m \u001b[38;5;28;01mTrue\u001b[39;00m, remap: \u001b[38;5;28mbool\u001b[39m \u001b[38;5;241m=\u001b[39m \u001b[38;5;28;01mFalse\u001b[39;00m,\n\u001b[1;32m     46\u001b[0m              calc_cis_trans: \u001b[38;5;28mbool\u001b[39m \u001b[38;5;241m=\u001b[39m \u001b[38;5;28;01mFalse\u001b[39;00m, ignore_stereo: \u001b[38;5;28mbool\u001b[39m \u001b[38;5;241m=\u001b[39m \u001b[38;5;28;01mFalse\u001b[39;00m, ignore_bad_isotopes: \u001b[38;5;28mbool\u001b[39m \u001b[38;5;241m=\u001b[39m \u001b[38;5;28;01mFalse\u001b[39;00m):\n\u001b[1;32m     47\u001b[0m \u001b[38;5;250m    \u001b[39m\u001b[38;5;124;03m\"\"\"\u001b[39;00m\n\u001b[1;32m     48\u001b[0m \u001b[38;5;124;03m    :param buffer_size: readahead size. increase if you have big molecules or metadata records.\u001b[39;00m\n\u001b[1;32m     49\u001b[0m \u001b[38;5;124;03m    :param indexable: if True: supported methods seek, tell, object size and subscription, it only works when\u001b[39;00m\n\u001b[0;32m   (...)\u001b[0m\n\u001b[1;32m     59\u001b[0m \u001b[38;5;124;03m    :param ignore_bad_isotopes: reset invalid isotope mark to non-isotopic.\u001b[39;00m\n\u001b[1;32m     60\u001b[0m \u001b[38;5;124;03m    \"\"\"\u001b[39;00m\n\u001b[0;32m---> 61\u001b[0m     \u001b[38;5;28;43msuper\u001b[39;49m\u001b[43m(\u001b[49m\u001b[43m)\u001b[49m\u001b[38;5;241;43m.\u001b[39;49m\u001b[38;5;21;43m__init__\u001b[39;49m\u001b[43m(\u001b[49m\u001b[43mfile\u001b[49m\u001b[43m,\u001b[49m\u001b[43m \u001b[49m\u001b[43mindexable\u001b[49m\u001b[38;5;241;43m=\u001b[39;49m\u001b[43mindexable\u001b[49m\u001b[43m,\u001b[49m\u001b[43m \u001b[49m\u001b[43mignore\u001b[49m\u001b[38;5;241;43m=\u001b[39;49m\u001b[43mignore\u001b[49m\u001b[43m,\u001b[49m\u001b[43m \u001b[49m\u001b[43mremap\u001b[49m\u001b[38;5;241;43m=\u001b[39;49m\u001b[43mremap\u001b[49m\u001b[43m,\u001b[49m\u001b[43m \u001b[49m\u001b[43mignore_bad_isotopes\u001b[49m\u001b[38;5;241;43m=\u001b[39;49m\u001b[43mignore_bad_isotopes\u001b[49m\u001b[43m,\u001b[49m\n\u001b[1;32m     62\u001b[0m \u001b[43m                     \u001b[49m\u001b[43mignore_stereo\u001b[49m\u001b[38;5;241;43m=\u001b[39;49m\u001b[43mignore_stereo\u001b[49m\u001b[43m,\u001b[49m\u001b[43m \u001b[49m\u001b[43mcalc_cis_trans\u001b[49m\u001b[38;5;241;43m=\u001b[39;49m\u001b[43mcalc_cis_trans\u001b[49m\u001b[43m,\u001b[49m\u001b[43m \u001b[49m\u001b[43mbuffer_size\u001b[49m\u001b[38;5;241;43m=\u001b[39;49m\u001b[43mbuffer_size\u001b[49m\u001b[43m)\u001b[49m\n\u001b[1;32m     63\u001b[0m     \u001b[38;5;28mself\u001b[39m\u001b[38;5;241m.\u001b[39m__m_start \u001b[38;5;241m=\u001b[39m \u001b[38;5;28;01mNone\u001b[39;00m\n",
      "File \u001b[0;32m/opt/conda/lib/python3.11/site-packages/chython/files/_mdl/read.py:48\u001b[0m, in \u001b[0;36mMDLRead.__init__\u001b[0;34m(self, file, buffer_size, indexable, ignore, remap, ignore_bad_isotopes, ignore_stereo, calc_cis_trans)\u001b[0m\n\u001b[1;32m     45\u001b[0m \u001b[38;5;28;01mdef\u001b[39;00m \u001b[38;5;21m__init__\u001b[39m(\u001b[38;5;28mself\u001b[39m, file, buffer_size\u001b[38;5;241m=\u001b[39m\u001b[38;5;241m1000\u001b[39m, indexable\u001b[38;5;241m=\u001b[39m\u001b[38;5;28;01mFalse\u001b[39;00m, ignore\u001b[38;5;241m=\u001b[39m\u001b[38;5;28;01mTrue\u001b[39;00m, remap\u001b[38;5;241m=\u001b[39m\u001b[38;5;28;01mFalse\u001b[39;00m, ignore_bad_isotopes\u001b[38;5;241m=\u001b[39m\u001b[38;5;28;01mFalse\u001b[39;00m,\n\u001b[1;32m     46\u001b[0m              ignore_stereo\u001b[38;5;241m=\u001b[39m\u001b[38;5;28;01mFalse\u001b[39;00m, calc_cis_trans\u001b[38;5;241m=\u001b[39m\u001b[38;5;28;01mFalse\u001b[39;00m):\n\u001b[1;32m     47\u001b[0m     \u001b[38;5;28;01mif\u001b[39;00m \u001b[38;5;28misinstance\u001b[39m(file, \u001b[38;5;28mstr\u001b[39m):\n\u001b[0;32m---> 48\u001b[0m         \u001b[38;5;28mself\u001b[39m\u001b[38;5;241m.\u001b[39m_file \u001b[38;5;241m=\u001b[39m \u001b[38;5;28;43mopen\u001b[39;49m\u001b[43m(\u001b[49m\u001b[43mfile\u001b[49m\u001b[43m)\u001b[49m\n\u001b[1;32m     49\u001b[0m         \u001b[38;5;28mself\u001b[39m\u001b[38;5;241m.\u001b[39m_is_buffer \u001b[38;5;241m=\u001b[39m \u001b[38;5;28;01mFalse\u001b[39;00m\n\u001b[1;32m     50\u001b[0m     \u001b[38;5;28;01melif\u001b[39;00m \u001b[38;5;28misinstance\u001b[39m(file, Path):\n",
      "\u001b[0;31mFileNotFoundError\u001b[0m: [Errno 2] No such file or directory: 'example.rdf'"
     ]
    }
   ],
   "source": [
    "from chython.files import * # import all available readers and writers\n",
    "\n",
    "with RDFRead('example.rdf') as f:\n",
    "    first = next(f)  # get first reaction using generator\n",
    "    data = f.read()  # read remaining reactions to list of ReactionContainers\n",
    "\n",
    "data = []\n",
    "with RDFRead('example.rdf') as f:\n",
    "    for r in f:  # looping is supported. Useful for large files.\n",
    "        data.append(r)"
   ]
  },
  {
   "cell_type": "markdown",
   "metadata": {
    "pycharm": {
     "name": "#%% md\n"
    }
   },
   "source": [
    "#### OOP-stype Pathlib supported"
   ]
  },
  {
   "cell_type": "code",
   "execution_count": 2,
   "metadata": {
    "pycharm": {
     "name": "#%%\n"
    }
   },
   "outputs": [],
   "source": [
    "from pathlib import Path\n",
    "\n",
    "with RDFRead(Path('example.rdf')) as r: # OOP style call\n",
    "    r = next(r)"
   ]
  },
  {
   "cell_type": "markdown",
   "metadata": {
    "pycharm": {
     "name": "#%% md\n"
    }
   },
   "source": [
    "#### opened files supported\n",
    "RDF file should be opened in text mode"
   ]
  },
  {
   "cell_type": "code",
   "execution_count": 3,
   "metadata": {
    "pycharm": {
     "name": "#%%\n"
    }
   },
   "outputs": [],
   "source": [
    "with open('example.rdf') as f, RDFRead(f) as r:\n",
    "    r = next(r) # OOP style application"
   ]
  },
  {
   "cell_type": "markdown",
   "metadata": {
    "pycharm": {
     "name": "#%% md\n"
    }
   },
   "source": [
    "### 1.1.2. Transparent loading from archives and network\n",
    "Readers designed transparently support any type of data sources. \n",
    "\n",
    "Data sources should be file-like objects."
   ]
  },
  {
   "cell_type": "code",
   "execution_count": 4,
   "metadata": {
    "pycharm": {
     "name": "#%%\n"
    }
   },
   "outputs": [],
   "source": [
    "from requests import get\n",
    "from io import StringIO\n",
    "\n",
    "# get function return requested URL which has attribute text. \n",
    "# in example this text is whole RDF stored in single string.\n",
    "# RDFread does not support parsing of strings, but one can emulate files with data \n",
    "# instead of strings by using io.StringIO\n",
    "with StringIO(get('https://github.com/chython/chython/raw/master/doc/tutorial/example.rdf').text) as f, RDFRead(f) as r:\n",
    "    r = next(r)\n",
    "\n",
    "# python support gzipped data. This example shows how to work with compressed \n",
    "# data directly without decompressing them to disk.\n",
    "from gzip import open as gzip_open\n",
    "with gzip_open('example.rdf.gz', 'rt') as f, RDFRead(f) as r:\n",
    "    r = next(r)\n",
    "\n",
    "# zip-files also supported out of the box \n",
    "# zipped files can be opened only in binary mode. io.TextIOWrapper can be used for transparent decoding them into text\n",
    "from zipfile import ZipFile\n",
    "from io import TextIOWrapper\n",
    "with ZipFile('example.zip') as z, z.open('example.rdf') as c:\n",
    "    with TextIOWrapper(c) as f, RDFRead(f) as r:\n",
    "        r = next(r)\n",
    "\n",
    "# tar-file reading example\n",
    "from tarfile import open as tar_open\n",
    "from io import TextIOWrapper\n",
    "with tar_open('example.tar.gz') as t:\n",
    "    c = t.extractfile('example.rdf')\n",
    "    with TextIOWrapper(c) as f, RDFRead(f) as r:\n",
    "        r = next(r)"
   ]
  },
  {
   "cell_type": "markdown",
   "metadata": {
    "pycharm": {
     "name": "#%% md\n"
    }
   },
   "source": [
    "## 1.2. Other Readers\n",
    "* SDFRead - MOL, SDF files reader (versions v2000, v3000 are supported)\n",
    "* MRVRead - ChemAxon MRV files reader (lxml parser is used)\n",
    "* SMILESRead - SMILES strings files reader (coho backend used). Every row should start with new SMILES\n",
    "* INCHIRead - INCHI strings files reader (INCHI trust backend used). Every row should start with new InChI\n",
    "* XYZRead - xyz files reader (only structures with explicit hydrogens supported)\n",
    "* PDBRead - PDB files parser (only structures with explicit hydrogens supported)\n",
    "\n",
    "All files except MRV should be opened in **text-mode**  \n",
    "MRV requires binary mode `open('/path/to/data.mrv', 'rb')`"
   ]
  },
  {
   "cell_type": "code",
   "execution_count": 5,
   "metadata": {
    "pycharm": {
     "name": "#%%\n"
    }
   },
   "outputs": [],
   "source": [
    "with MRVRead(open('example.mrv', 'rb')) as f:\n",
    "    m = next(f)"
   ]
  },
  {
   "cell_type": "markdown",
   "metadata": {
    "pycharm": {
     "name": "#%% md\n"
    }
   },
   "source": [
    "## 1.3. File writers\n",
    "Export in following file formats is supported:\n",
    "\n",
    "* RDFWrite (v2000) - molecules and reactions export in RDF format\n",
    "* SDFWrite (v2000) - molecules export in SDF format\n",
    "* ERDFWrite (v3000) - molecules and reactions export in RDF format\n",
    "* ESDFWrite (v3000) - molecules export in SDF format\n",
    "* MRVWrite - molecules and reactions export in MRV format\n",
    "\n",
    "Writers have the same API as readers. All writers work with text-files\n",
    "Writers have `write` method which accepts as argument single reaction or molecule object"
   ]
  },
  {
   "cell_type": "code",
   "execution_count": 6,
   "metadata": {
    "pycharm": {
     "name": "#%%\n"
    }
   },
   "outputs": [],
   "source": [
    "with RDFWrite('out.rdf') as f: # context manager supported\n",
    "    for r in data:\n",
    "        f.write(r)\n",
    "# file out.rdf will be overriden"
   ]
  },
  {
   "cell_type": "code",
   "execution_count": 7,
   "metadata": {
    "pycharm": {
     "name": "#%%\n"
    }
   },
   "outputs": [],
   "source": [
    "f = RDFWrite('out.rdf') # ongoing writing into a single file\n",
    "for r in data:\n",
    "    f.write(r)\n",
    "\n",
    "f.write(r)\n",
    "f.close() # close file. Flushes Python writer buffers."
   ]
  },
  {
   "cell_type": "markdown",
   "metadata": {
    "pycharm": {
     "name": "#%% md\n"
    }
   },
   "source": [
    "## 1.4. Pickle support\n",
    "\n",
    "Chython containers fully support pickle dumping and loading.\n",
    "\n",
    "Pickle dumps are more fast than common files and could be used as temporal storage."
   ]
  },
  {
   "cell_type": "code",
   "execution_count": 8,
   "metadata": {
    "pycharm": {
     "name": "#%%\n"
    }
   },
   "outputs": [],
   "source": [
    "from pickle import loads, dumps"
   ]
  },
  {
   "cell_type": "code",
   "execution_count": 1,
   "metadata": {
    "pycharm": {
     "name": "#%%\n"
    }
   },
   "outputs": [
    {
     "ename": "NameError",
     "evalue": "name 'loads' is not defined",
     "output_type": "error",
     "traceback": [
      "\u001b[0;31m---------------------------------------------------------------------------\u001b[0m",
      "\u001b[0;31mNameError\u001b[0m                                 Traceback (most recent call last)",
      "Cell \u001b[0;32mIn[1], line 1\u001b[0m\n\u001b[0;32m----> 1\u001b[0m \u001b[43mloads\u001b[49m(dumps(r)) \u001b[38;5;66;03m# load reaction from Pickle dump\u001b[39;00m\n",
      "\u001b[0;31mNameError\u001b[0m: name 'loads' is not defined"
     ]
    }
   ],
   "source": [
    "loads(dumps(r)) # load reaction from Pickle dump"
   ]
  },
  {
   "cell_type": "markdown",
   "metadata": {
    "pycharm": {
     "name": "#%% md\n"
    }
   },
   "source": [
    "## 1.5. Chython binary format (chython pack)\n",
    "\n",
    "Chython introduce new effective format for molecules and reactions, which combine benefits from MDL and SMILES formats.\n",
    "Molecules store 2d-coordinates; tetrahedron, allene and cis-trans stereo; explicit bonds, implicit hydrogen count, atom numbers, radical mark, charge, isotope.\n",
    "\n",
    "Size only 1.5-2 times larger than SMILES. Parsing speed is faster than pickle.\n",
    "Full specification described in source code."
   ]
  },
  {
   "cell_type": "code",
   "execution_count": 10,
   "metadata": {
    "pycharm": {
     "name": "#%%\n"
    }
   },
   "outputs": [],
   "source": [
    "from chython import MoleculeContainer, ReactionContainer\n",
    "\n",
    "b = r.pack()\n",
    "r = ReactionContainer.unpack(b)\n",
    "\n",
    "# same for molecules\n",
    "# MoleculeContainer.unpack(m.pack())"
   ]
  },
  {
   "cell_type": "markdown",
   "metadata": {
    "pycharm": {
     "name": "#%% md\n"
    }
   },
   "source": [
    "## 1.6. Metadata access\n",
    "\n",
    "RDF, SDF, etc - files have metadata which stored in molecules and reactions objects"
   ]
  },
  {
   "cell_type": "code",
   "execution_count": 11,
   "metadata": {
    "pycharm": {
     "name": "#%%\n"
    }
   },
   "outputs": [
    {
     "data": {
      "text/plain": [
       "{'CdId': '1872',\n",
       " 'solvent': '3',\n",
       " 'temperature': '129.5',\n",
       " 'tabulated_constant': '-6.87'}"
      ]
     },
     "execution_count": 11,
     "metadata": {},
     "output_type": "execute_result"
    }
   ],
   "source": [
    "r = next(RDFRead('example.rdf'))\n",
    "r.meta # dictionary for molecule/reaction properties storage. For example, DTYPE/DATUM fields of RDF file are read into this dictionary"
   ]
  },
  {
   "cell_type": "code",
   "execution_count": 12,
   "metadata": {
    "pycharm": {
     "name": "#%%\n"
    }
   },
   "outputs": [
    {
     "data": {
      "text/plain": [
       "'reaction title'"
      ]
     },
     "execution_count": 12,
     "metadata": {},
     "output_type": "execute_result"
    }
   ],
   "source": [
    "r.name  # string with reaction title from RDF"
   ]
  },
  {
   "cell_type": "code",
   "execution_count": 13,
   "metadata": {
    "pycharm": {
     "name": "#%%\n"
    }
   },
   "outputs": [
    {
     "data": {
      "text/plain": [
       "'molecule title'"
      ]
     },
     "execution_count": 13,
     "metadata": {},
     "output_type": "execute_result"
    }
   ],
   "source": [
    "r.reactants[0].name # string with reactant molecule title from MOL"
   ]
  },
  {
   "cell_type": "markdown",
   "metadata": {
    "pycharm": {
     "name": "#%% md\n"
    }
   },
   "source": [
    "## 1.7. Depiction into SVG"
   ]
  },
  {
   "cell_type": "code",
   "execution_count": 14,
   "metadata": {
    "pycharm": {
     "name": "#%%\n"
    },
    "scrolled": true
   },
   "outputs": [
    {
     "data": {
      "text/plain": [
       "'<svg width=\"18.32cm\" height=\"3.39cm\" viewBox=\"-0.62 -1.70 18.32 3.39\" xmlns=\"http://www.w3.org/2000/'"
      ]
     },
     "execution_count": 14,
     "metadata": {},
     "output_type": "execute_result"
    }
   ],
   "source": [
    "r.depict()[:100] # show only part of string"
   ]
  },
  {
   "cell_type": "code",
   "execution_count": 15,
   "metadata": {
    "pycharm": {
     "name": "#%%\n"
    }
   },
   "outputs": [
    {
     "data": {
      "image/svg+xml": [
       "<svg width=\"18.32cm\" height=\"3.39cm\" viewBox=\"-0.62 -1.70 18.32 3.39\" xmlns=\"http://www.w3.org/2000/svg\" xmlns:xlink=\"http://www.w3.org/1999/xlink\" version=\"1.1\">\n",
       "  <defs>\n",
       "    <marker id=\"arrow\" markerWidth=\"10\" markerHeight=\"10\" refX=\"0\" refY=\"3\" orient=\"auto\">\n",
       "      <path d=\"M0,0 L0,6 L9,3\"/>\n",
       "    </marker>\n",
       "  </defs>\n",
       "  <line x1=\"8.32\" y1=\"0\" x2=\"10.32\" y2=\"0\" fill=\"none\" stroke=\"black\" stroke-width=\".04\" marker-end=\"url(#arrow)\"/>\n",
       "  <g fill=\"none\" stroke=\"black\" stroke-width=\".04\">\n",
       "    <line x1=\"1.98\" y1=\"0\" x2=\"2.28\" y2=\"0\"/>\n",
       "    <line x1=\"2.13\" y1=\"0.15\" x2=\"2.13\" y2=\"-0.15\"/>\n",
       "    <line x1=\"5.24\" y1=\"0\" x2=\"5.54\" y2=\"0\"/>\n",
       "    <line x1=\"5.39\" y1=\"0.15\" x2=\"5.39\" y2=\"-0.15\"/>\n",
       "  </g>\n",
       "  <g id=\"edd9a6d6-7d15-4e0f-bad9-03adf28a39ea-molecule\">\n",
       "    <defs>\n",
       "      <g id=\"edd9a6d6-7d15-4e0f-bad9-03adf28a39ea-symbols\" font-size=\"0.50\" font-family=\"sans-serif\">\n",
       "        <text id=\"edd9a6d6-7d15-4e0f-bad9-03adf28a39ea-1\" x=\"1.43\" y=\"-0.21\" dx=\"-0.20\" dy=\"0.20\">OH</text>\n",
       "      </g>\n",
       "      <g id=\"edd9a6d6-7d15-4e0f-bad9-03adf28a39ea-mapping\" font-size=\"0.25\" font-family=\"monospace\" text-anchor=\"end\">\n",
       "        <text x=\"0.00\" y=\"-0.21\" dx=\"-0.05\" dy=\"0.20\">3</text>\n",
       "        <text x=\"0.71\" y=\"0.21\" dx=\"-0.05\" dy=\"0.20\">4</text>\n",
       "        <text x=\"1.43\" y=\"-0.21\" dx=\"-0.15\" dy=\"0.35\">1</text>\n",
       "      </g>\n",
       "      <mask id=\"edd9a6d6-7d15-4e0f-bad9-03adf28a39ea-mask\">\n",
       "        <rect x=\"-0.62\" y=\"-1.70\" width=\"18.32\" height=\"3.39\" fill=\"white\"/>\n",
       "        <g>\n",
       "          <circle cx=\"1.43\" cy=\"-0.21\" r=\"0.20\"/>\n",
       "        </g>\n",
       "        <g stroke=\"black\">\n",
       "          <use xlink:href=\"#edd9a6d6-7d15-4e0f-bad9-03adf28a39ea-symbols\" stroke-width=\"0.05\"/>\n",
       "          <use xlink:href=\"#edd9a6d6-7d15-4e0f-bad9-03adf28a39ea-mapping\" stroke-width=\"0.03\"/>\n",
       "        </g>\n",
       "      </mask>\n",
       "    </defs>\n",
       "    <g fill=\"none\" stroke=\"black\" stroke-width=\"0.04\" mask=\"url(#edd9a6d6-7d15-4e0f-bad9-03adf28a39ea-mask)\">\n",
       "      <line x1=\"0.00\" y1=\"-0.21\" x2=\"0.71\" y2=\"0.21\"/>\n",
       "      <line x1=\"0.71\" y1=\"0.21\" x2=\"1.43\" y2=\"-0.21\"/>\n",
       "    </g>\n",
       "    <g font-size=\"0.50\" font-family=\"sans-serif\">\n",
       "      <use xlink:href=\"#edd9a6d6-7d15-4e0f-bad9-03adf28a39ea-1\" fill=\"#FF0D0D\"/>\n",
       "    </g>\n",
       "    <use xlink:href=\"#edd9a6d6-7d15-4e0f-bad9-03adf28a39ea-mapping\" fill=\"#0305A7\"/>\n",
       "  </g>\n",
       "  <g id=\"d80f03b1-8292-411b-bcb3-296e70bcbc42-molecule\">\n",
       "    <defs>\n",
       "      <g id=\"d80f03b1-8292-411b-bcb3-296e70bcbc42-symbols\" font-size=\"0.50\" font-family=\"sans-serif\">\n",
       "        <text id=\"d80f03b1-8292-411b-bcb3-296e70bcbc42-7\" x=\"3.45\" y=\"-1.07\" dx=\"-0.20\" dy=\"0.20\">O</text>\n",
       "        <text id=\"d80f03b1-8292-411b-bcb3-296e70bcbc42-8\" x=\"4.69\" y=\"-0.36\" dx=\"-0.20\" dy=\"0.20\">OH</text>\n",
       "        <text id=\"d80f03b1-8292-411b-bcb3-296e70bcbc42-9\" x=\"3.87\" y=\"1.07\" dx=\"-0.20\" dy=\"0.20\">O</text>\n",
       "        <text id=\"d80f03b1-8292-411b-bcb3-296e70bcbc42-10\" x=\"2.63\" y=\"0.36\" dx=\"-0.20\" dy=\"0.20\">OH</text>\n",
       "      </g>\n",
       "      <g id=\"d80f03b1-8292-411b-bcb3-296e70bcbc42-mapping\" font-size=\"0.25\" font-family=\"monospace\" text-anchor=\"end\">\n",
       "        <text x=\"3.87\" y=\"-0.36\" dx=\"-0.05\" dy=\"0.20\">5</text>\n",
       "        <text x=\"3.45\" y=\"0.36\" dx=\"-0.05\" dy=\"0.20\">6</text>\n",
       "        <text x=\"3.45\" y=\"-1.07\" dx=\"-0.15\" dy=\"0.35\">7</text>\n",
       "        <text x=\"4.69\" y=\"-0.36\" dx=\"-0.15\" dy=\"0.35\">8</text>\n",
       "        <text x=\"3.87\" y=\"1.07\" dx=\"-0.15\" dy=\"0.35\">9</text>\n",
       "        <text x=\"2.63\" y=\"0.36\" dx=\"-0.15\" dy=\"0.35\">10</text>\n",
       "      </g>\n",
       "      <mask id=\"d80f03b1-8292-411b-bcb3-296e70bcbc42-mask\">\n",
       "        <rect x=\"-0.62\" y=\"-1.70\" width=\"18.32\" height=\"3.39\" fill=\"white\"/>\n",
       "        <g>\n",
       "          <circle cx=\"3.45\" cy=\"-1.07\" r=\"0.20\"/>\n",
       "          <circle cx=\"4.69\" cy=\"-0.36\" r=\"0.20\"/>\n",
       "          <circle cx=\"3.87\" cy=\"1.07\" r=\"0.20\"/>\n",
       "          <circle cx=\"2.63\" cy=\"0.36\" r=\"0.20\"/>\n",
       "        </g>\n",
       "        <g stroke=\"black\">\n",
       "          <use xlink:href=\"#d80f03b1-8292-411b-bcb3-296e70bcbc42-symbols\" stroke-width=\"0.05\"/>\n",
       "          <use xlink:href=\"#d80f03b1-8292-411b-bcb3-296e70bcbc42-mapping\" stroke-width=\"0.03\"/>\n",
       "        </g>\n",
       "      </mask>\n",
       "    </defs>\n",
       "    <g fill=\"none\" stroke=\"black\" stroke-width=\"0.04\" mask=\"url(#d80f03b1-8292-411b-bcb3-296e70bcbc42-mask)\">\n",
       "      <line x1=\"3.87\" y1=\"-0.36\" x2=\"3.45\" y2=\"0.36\"/>\n",
       "      <line x1=\"3.81\" y1=\"-0.33\" x2=\"3.40\" y2=\"-1.04\"/>\n",
       "      <line x1=\"3.92\" y1=\"-0.39\" x2=\"3.51\" y2=\"-1.10\"/>\n",
       "      <line x1=\"3.87\" y1=\"-0.36\" x2=\"4.69\" y2=\"-0.36\"/>\n",
       "      <line x1=\"3.51\" y1=\"0.33\" x2=\"3.92\" y2=\"1.04\"/>\n",
       "      <line x1=\"3.40\" y1=\"0.39\" x2=\"3.81\" y2=\"1.10\"/>\n",
       "      <line x1=\"3.45\" y1=\"0.36\" x2=\"2.63\" y2=\"0.36\"/>\n",
       "    </g>\n",
       "    <g font-size=\"0.50\" font-family=\"sans-serif\">\n",
       "      <use xlink:href=\"#d80f03b1-8292-411b-bcb3-296e70bcbc42-7\" fill=\"#FF0D0D\"/>\n",
       "      <use xlink:href=\"#d80f03b1-8292-411b-bcb3-296e70bcbc42-8\" fill=\"#FF0D0D\"/>\n",
       "      <use xlink:href=\"#d80f03b1-8292-411b-bcb3-296e70bcbc42-9\" fill=\"#FF0D0D\"/>\n",
       "      <use xlink:href=\"#d80f03b1-8292-411b-bcb3-296e70bcbc42-10\" fill=\"#FF0D0D\"/>\n",
       "    </g>\n",
       "    <use xlink:href=\"#d80f03b1-8292-411b-bcb3-296e70bcbc42-mapping\" fill=\"#0305A7\"/>\n",
       "  </g>\n",
       "  <g id=\"c3655e90-6ec9-4e71-a89e-752ddabec73a-molecule\">\n",
       "    <defs>\n",
       "      <g id=\"c3655e90-6ec9-4e71-a89e-752ddabec73a-symbols\" font-size=\"0.50\" font-family=\"sans-serif\">\n",
       "        <text id=\"c3655e90-6ec9-4e71-a89e-752ddabec73a-2\" x=\"7.32\" y=\"-0.21\" dx=\"-0.20\" dy=\"0.20\">OH</text>\n",
       "      </g>\n",
       "      <g id=\"c3655e90-6ec9-4e71-a89e-752ddabec73a-mapping\" font-size=\"0.25\" font-family=\"monospace\" text-anchor=\"end\">\n",
       "        <text x=\"6.61\" y=\"0.21\" dx=\"-0.05\" dy=\"0.20\">11</text>\n",
       "        <text x=\"5.89\" y=\"-0.21\" dx=\"-0.05\" dy=\"0.20\">12</text>\n",
       "        <text x=\"7.32\" y=\"-0.21\" dx=\"-0.15\" dy=\"0.35\">2</text>\n",
       "      </g>\n",
       "      <mask id=\"c3655e90-6ec9-4e71-a89e-752ddabec73a-mask\">\n",
       "        <rect x=\"-0.62\" y=\"-1.70\" width=\"18.32\" height=\"3.39\" fill=\"white\"/>\n",
       "        <g>\n",
       "          <circle cx=\"7.32\" cy=\"-0.21\" r=\"0.20\"/>\n",
       "        </g>\n",
       "        <g stroke=\"black\">\n",
       "          <use xlink:href=\"#c3655e90-6ec9-4e71-a89e-752ddabec73a-symbols\" stroke-width=\"0.05\"/>\n",
       "          <use xlink:href=\"#c3655e90-6ec9-4e71-a89e-752ddabec73a-mapping\" stroke-width=\"0.03\"/>\n",
       "        </g>\n",
       "      </mask>\n",
       "    </defs>\n",
       "    <g fill=\"none\" stroke=\"black\" stroke-width=\"0.04\" mask=\"url(#c3655e90-6ec9-4e71-a89e-752ddabec73a-mask)\">\n",
       "      <line x1=\"6.61\" y1=\"0.21\" x2=\"5.89\" y2=\"-0.21\"/>\n",
       "      <line x1=\"6.61\" y1=\"0.21\" x2=\"7.32\" y2=\"-0.21\"/>\n",
       "    </g>\n",
       "    <g font-size=\"0.50\" font-family=\"sans-serif\">\n",
       "      <use xlink:href=\"#c3655e90-6ec9-4e71-a89e-752ddabec73a-2\" fill=\"#FF0D0D\"/>\n",
       "    </g>\n",
       "    <use xlink:href=\"#c3655e90-6ec9-4e71-a89e-752ddabec73a-mapping\" fill=\"#0305A7\"/>\n",
       "  </g>\n",
       "  <g id=\"66acc9f7-abb8-44ab-b5ef-d6bcfb92fff1-molecule\">\n",
       "    <defs>\n",
       "      <g id=\"66acc9f7-abb8-44ab-b5ef-d6bcfb92fff1-symbols\" font-size=\"0.50\" font-family=\"sans-serif\">\n",
       "        <text id=\"66acc9f7-abb8-44ab-b5ef-d6bcfb92fff1-2\" x=\"14.89\" y=\"-0.21\" dx=\"-0.20\" dy=\"0.20\">O</text>\n",
       "        <text id=\"66acc9f7-abb8-44ab-b5ef-d6bcfb92fff1-1\" x=\"12.75\" y=\"0.21\" dx=\"-0.20\" dy=\"0.20\">O</text>\n",
       "        <text id=\"66acc9f7-abb8-44ab-b5ef-d6bcfb92fff1-9\" x=\"13.46\" y=\"-1.03\" dx=\"-0.20\" dy=\"0.20\">O</text>\n",
       "        <text id=\"66acc9f7-abb8-44ab-b5ef-d6bcfb92fff1-7\" x=\"14.18\" y=\"1.03\" dx=\"-0.20\" dy=\"0.20\">O</text>\n",
       "      </g>\n",
       "      <g id=\"66acc9f7-abb8-44ab-b5ef-d6bcfb92fff1-mapping\" font-size=\"0.25\" font-family=\"monospace\" text-anchor=\"end\">\n",
       "        <text x=\"14.18\" y=\"0.21\" dx=\"-0.05\" dy=\"0.20\">5</text>\n",
       "        <text x=\"13.46\" y=\"-0.21\" dx=\"-0.05\" dy=\"0.20\">6</text>\n",
       "        <text x=\"14.89\" y=\"-0.21\" dx=\"-0.15\" dy=\"0.35\">2</text>\n",
       "        <text x=\"12.75\" y=\"0.21\" dx=\"-0.15\" dy=\"0.35\">1</text>\n",
       "        <text x=\"13.46\" y=\"-1.03\" dx=\"-0.15\" dy=\"0.35\">9</text>\n",
       "        <text x=\"14.18\" y=\"1.03\" dx=\"-0.15\" dy=\"0.35\">7</text>\n",
       "        <text x=\"15.61\" y=\"0.21\" dx=\"-0.05\" dy=\"0.20\">11</text>\n",
       "        <text x=\"16.32\" y=\"-0.21\" dx=\"-0.05\" dy=\"0.20\">12</text>\n",
       "        <text x=\"12.03\" y=\"-0.21\" dx=\"-0.05\" dy=\"0.20\">4</text>\n",
       "        <text x=\"11.32\" y=\"0.21\" dx=\"-0.05\" dy=\"0.20\">3</text>\n",
       "      </g>\n",
       "      <mask id=\"66acc9f7-abb8-44ab-b5ef-d6bcfb92fff1-mask\">\n",
       "        <rect x=\"-0.62\" y=\"-1.70\" width=\"18.32\" height=\"3.39\" fill=\"white\"/>\n",
       "        <g>\n",
       "          <circle cx=\"14.89\" cy=\"-0.21\" r=\"0.20\"/>\n",
       "          <circle cx=\"12.75\" cy=\"0.21\" r=\"0.20\"/>\n",
       "          <circle cx=\"13.46\" cy=\"-1.03\" r=\"0.20\"/>\n",
       "          <circle cx=\"14.18\" cy=\"1.03\" r=\"0.20\"/>\n",
       "        </g>\n",
       "        <g stroke=\"black\">\n",
       "          <use xlink:href=\"#66acc9f7-abb8-44ab-b5ef-d6bcfb92fff1-symbols\" stroke-width=\"0.05\"/>\n",
       "          <use xlink:href=\"#66acc9f7-abb8-44ab-b5ef-d6bcfb92fff1-mapping\" stroke-width=\"0.03\"/>\n",
       "        </g>\n",
       "      </mask>\n",
       "    </defs>\n",
       "    <g fill=\"none\" stroke=\"black\" stroke-width=\"0.04\" mask=\"url(#66acc9f7-abb8-44ab-b5ef-d6bcfb92fff1-mask)\">\n",
       "      <line x1=\"14.18\" y1=\"0.21\" x2=\"13.46\" y2=\"-0.21\"/>\n",
       "      <line x1=\"14.18\" y1=\"0.21\" x2=\"14.89\" y2=\"-0.21\"/>\n",
       "      <line x1=\"14.24\" y1=\"0.21\" x2=\"14.24\" y2=\"1.03\"/>\n",
       "      <line x1=\"14.12\" y1=\"0.21\" x2=\"14.12\" y2=\"1.03\"/>\n",
       "      <line x1=\"13.46\" y1=\"-0.21\" x2=\"12.75\" y2=\"0.21\"/>\n",
       "      <line x1=\"13.40\" y1=\"-0.21\" x2=\"13.40\" y2=\"-1.03\"/>\n",
       "      <line x1=\"13.52\" y1=\"-0.21\" x2=\"13.52\" y2=\"-1.03\"/>\n",
       "      <line x1=\"14.89\" y1=\"-0.21\" x2=\"15.61\" y2=\"0.21\"/>\n",
       "      <line x1=\"12.75\" y1=\"0.21\" x2=\"12.03\" y2=\"-0.21\"/>\n",
       "      <line x1=\"15.61\" y1=\"0.21\" x2=\"16.32\" y2=\"-0.21\"/>\n",
       "      <line x1=\"12.03\" y1=\"-0.21\" x2=\"11.32\" y2=\"0.21\"/>\n",
       "    </g>\n",
       "    <g font-size=\"0.50\" font-family=\"sans-serif\">\n",
       "      <use xlink:href=\"#66acc9f7-abb8-44ab-b5ef-d6bcfb92fff1-2\" fill=\"#FF0D0D\"/>\n",
       "      <use xlink:href=\"#66acc9f7-abb8-44ab-b5ef-d6bcfb92fff1-1\" fill=\"#FF0D0D\"/>\n",
       "      <use xlink:href=\"#66acc9f7-abb8-44ab-b5ef-d6bcfb92fff1-9\" fill=\"#FF0D0D\"/>\n",
       "      <use xlink:href=\"#66acc9f7-abb8-44ab-b5ef-d6bcfb92fff1-7\" fill=\"#FF0D0D\"/>\n",
       "    </g>\n",
       "    <use xlink:href=\"#66acc9f7-abb8-44ab-b5ef-d6bcfb92fff1-mapping\" fill=\"#0305A7\"/>\n",
       "  </g>\n",
       "</svg>"
      ],
      "text/plain": [
       "<chython.containers.reaction.ReactionContainer at 0x1682c05cc40>"
      ]
     },
     "execution_count": 15,
     "metadata": {},
     "output_type": "execute_result"
    }
   ],
   "source": [
    "r # Notebooks supported!"
   ]
  },
  {
   "cell_type": "code",
   "execution_count": 16,
   "metadata": {},
   "outputs": [],
   "source": [
    "from chython import depict_settings\n",
    "\n",
    "depict_settings(aam=False)  # configure depiction"
   ]
  },
  {
   "cell_type": "code",
   "execution_count": 17,
   "metadata": {
    "pycharm": {
     "name": "#%%\n"
    }
   },
   "outputs": [
    {
     "data": {
      "image/svg+xml": [
       "<svg width=\"18.32cm\" height=\"3.39cm\" viewBox=\"-0.62 -1.70 18.32 3.39\" xmlns=\"http://www.w3.org/2000/svg\" xmlns:xlink=\"http://www.w3.org/1999/xlink\" version=\"1.1\">\n",
       "  <defs>\n",
       "    <marker id=\"arrow\" markerWidth=\"10\" markerHeight=\"10\" refX=\"0\" refY=\"3\" orient=\"auto\">\n",
       "      <path d=\"M0,0 L0,6 L9,3\"/>\n",
       "    </marker>\n",
       "  </defs>\n",
       "  <line x1=\"8.32\" y1=\"0\" x2=\"10.32\" y2=\"0\" fill=\"none\" stroke=\"black\" stroke-width=\".04\" marker-end=\"url(#arrow)\"/>\n",
       "  <g fill=\"none\" stroke=\"black\" stroke-width=\".04\">\n",
       "    <line x1=\"1.98\" y1=\"0\" x2=\"2.28\" y2=\"0\"/>\n",
       "    <line x1=\"2.13\" y1=\"0.15\" x2=\"2.13\" y2=\"-0.15\"/>\n",
       "    <line x1=\"5.24\" y1=\"0\" x2=\"5.54\" y2=\"0\"/>\n",
       "    <line x1=\"5.39\" y1=\"0.15\" x2=\"5.39\" y2=\"-0.15\"/>\n",
       "  </g>\n",
       "  <g id=\"71def97b-109c-4c21-a588-6559d9590a39-molecule\">\n",
       "    <defs>\n",
       "      <g id=\"71def97b-109c-4c21-a588-6559d9590a39-symbols\" font-size=\"0.50\" font-family=\"sans-serif\">\n",
       "        <text id=\"71def97b-109c-4c21-a588-6559d9590a39-1\" x=\"1.43\" y=\"-0.21\" dx=\"-0.20\" dy=\"0.20\">OH</text>\n",
       "      </g>\n",
       "      <mask id=\"71def97b-109c-4c21-a588-6559d9590a39-mask\">\n",
       "        <rect x=\"-0.62\" y=\"-1.70\" width=\"18.32\" height=\"3.39\" fill=\"white\"/>\n",
       "        <g>\n",
       "          <circle cx=\"1.43\" cy=\"-0.21\" r=\"0.20\"/>\n",
       "        </g>\n",
       "        <g stroke=\"black\">\n",
       "          <use xlink:href=\"#71def97b-109c-4c21-a588-6559d9590a39-symbols\" stroke-width=\"0.05\"/>\n",
       "        </g>\n",
       "      </mask>\n",
       "    </defs>\n",
       "    <g fill=\"none\" stroke=\"black\" stroke-width=\"0.04\" mask=\"url(#71def97b-109c-4c21-a588-6559d9590a39-mask)\">\n",
       "      <line x1=\"0.00\" y1=\"-0.21\" x2=\"0.71\" y2=\"0.21\"/>\n",
       "      <line x1=\"0.71\" y1=\"0.21\" x2=\"1.43\" y2=\"-0.21\"/>\n",
       "    </g>\n",
       "    <g font-size=\"0.50\" font-family=\"sans-serif\">\n",
       "      <use xlink:href=\"#71def97b-109c-4c21-a588-6559d9590a39-1\" fill=\"#FF0D0D\"/>\n",
       "    </g>\n",
       "  </g>\n",
       "  <g id=\"be3d8460-7bfa-4b08-9bc7-f9419ba4f217-molecule\">\n",
       "    <defs>\n",
       "      <g id=\"be3d8460-7bfa-4b08-9bc7-f9419ba4f217-symbols\" font-size=\"0.50\" font-family=\"sans-serif\">\n",
       "        <text id=\"be3d8460-7bfa-4b08-9bc7-f9419ba4f217-7\" x=\"3.45\" y=\"-1.07\" dx=\"-0.20\" dy=\"0.20\">O</text>\n",
       "        <text id=\"be3d8460-7bfa-4b08-9bc7-f9419ba4f217-8\" x=\"4.69\" y=\"-0.36\" dx=\"-0.20\" dy=\"0.20\">OH</text>\n",
       "        <text id=\"be3d8460-7bfa-4b08-9bc7-f9419ba4f217-9\" x=\"3.87\" y=\"1.07\" dx=\"-0.20\" dy=\"0.20\">O</text>\n",
       "        <text id=\"be3d8460-7bfa-4b08-9bc7-f9419ba4f217-10\" x=\"2.63\" y=\"0.36\" dx=\"-0.20\" dy=\"0.20\">OH</text>\n",
       "      </g>\n",
       "      <mask id=\"be3d8460-7bfa-4b08-9bc7-f9419ba4f217-mask\">\n",
       "        <rect x=\"-0.62\" y=\"-1.70\" width=\"18.32\" height=\"3.39\" fill=\"white\"/>\n",
       "        <g>\n",
       "          <circle cx=\"3.45\" cy=\"-1.07\" r=\"0.20\"/>\n",
       "          <circle cx=\"4.69\" cy=\"-0.36\" r=\"0.20\"/>\n",
       "          <circle cx=\"3.87\" cy=\"1.07\" r=\"0.20\"/>\n",
       "          <circle cx=\"2.63\" cy=\"0.36\" r=\"0.20\"/>\n",
       "        </g>\n",
       "        <g stroke=\"black\">\n",
       "          <use xlink:href=\"#be3d8460-7bfa-4b08-9bc7-f9419ba4f217-symbols\" stroke-width=\"0.05\"/>\n",
       "        </g>\n",
       "      </mask>\n",
       "    </defs>\n",
       "    <g fill=\"none\" stroke=\"black\" stroke-width=\"0.04\" mask=\"url(#be3d8460-7bfa-4b08-9bc7-f9419ba4f217-mask)\">\n",
       "      <line x1=\"3.87\" y1=\"-0.36\" x2=\"3.45\" y2=\"0.36\"/>\n",
       "      <line x1=\"3.81\" y1=\"-0.33\" x2=\"3.40\" y2=\"-1.04\"/>\n",
       "      <line x1=\"3.92\" y1=\"-0.39\" x2=\"3.51\" y2=\"-1.10\"/>\n",
       "      <line x1=\"3.87\" y1=\"-0.36\" x2=\"4.69\" y2=\"-0.36\"/>\n",
       "      <line x1=\"3.51\" y1=\"0.33\" x2=\"3.92\" y2=\"1.04\"/>\n",
       "      <line x1=\"3.40\" y1=\"0.39\" x2=\"3.81\" y2=\"1.10\"/>\n",
       "      <line x1=\"3.45\" y1=\"0.36\" x2=\"2.63\" y2=\"0.36\"/>\n",
       "    </g>\n",
       "    <g font-size=\"0.50\" font-family=\"sans-serif\">\n",
       "      <use xlink:href=\"#be3d8460-7bfa-4b08-9bc7-f9419ba4f217-7\" fill=\"#FF0D0D\"/>\n",
       "      <use xlink:href=\"#be3d8460-7bfa-4b08-9bc7-f9419ba4f217-8\" fill=\"#FF0D0D\"/>\n",
       "      <use xlink:href=\"#be3d8460-7bfa-4b08-9bc7-f9419ba4f217-9\" fill=\"#FF0D0D\"/>\n",
       "      <use xlink:href=\"#be3d8460-7bfa-4b08-9bc7-f9419ba4f217-10\" fill=\"#FF0D0D\"/>\n",
       "    </g>\n",
       "  </g>\n",
       "  <g id=\"4894630d-ed08-4d27-84cc-4ccc54583f8f-molecule\">\n",
       "    <defs>\n",
       "      <g id=\"4894630d-ed08-4d27-84cc-4ccc54583f8f-symbols\" font-size=\"0.50\" font-family=\"sans-serif\">\n",
       "        <text id=\"4894630d-ed08-4d27-84cc-4ccc54583f8f-2\" x=\"7.32\" y=\"-0.21\" dx=\"-0.20\" dy=\"0.20\">OH</text>\n",
       "      </g>\n",
       "      <mask id=\"4894630d-ed08-4d27-84cc-4ccc54583f8f-mask\">\n",
       "        <rect x=\"-0.62\" y=\"-1.70\" width=\"18.32\" height=\"3.39\" fill=\"white\"/>\n",
       "        <g>\n",
       "          <circle cx=\"7.32\" cy=\"-0.21\" r=\"0.20\"/>\n",
       "        </g>\n",
       "        <g stroke=\"black\">\n",
       "          <use xlink:href=\"#4894630d-ed08-4d27-84cc-4ccc54583f8f-symbols\" stroke-width=\"0.05\"/>\n",
       "        </g>\n",
       "      </mask>\n",
       "    </defs>\n",
       "    <g fill=\"none\" stroke=\"black\" stroke-width=\"0.04\" mask=\"url(#4894630d-ed08-4d27-84cc-4ccc54583f8f-mask)\">\n",
       "      <line x1=\"6.61\" y1=\"0.21\" x2=\"5.89\" y2=\"-0.21\"/>\n",
       "      <line x1=\"6.61\" y1=\"0.21\" x2=\"7.32\" y2=\"-0.21\"/>\n",
       "    </g>\n",
       "    <g font-size=\"0.50\" font-family=\"sans-serif\">\n",
       "      <use xlink:href=\"#4894630d-ed08-4d27-84cc-4ccc54583f8f-2\" fill=\"#FF0D0D\"/>\n",
       "    </g>\n",
       "  </g>\n",
       "  <g id=\"5746b9b2-bf43-407a-a52d-64ea859550a9-molecule\">\n",
       "    <defs>\n",
       "      <g id=\"5746b9b2-bf43-407a-a52d-64ea859550a9-symbols\" font-size=\"0.50\" font-family=\"sans-serif\">\n",
       "        <text id=\"5746b9b2-bf43-407a-a52d-64ea859550a9-2\" x=\"14.89\" y=\"-0.21\" dx=\"-0.20\" dy=\"0.20\">O</text>\n",
       "        <text id=\"5746b9b2-bf43-407a-a52d-64ea859550a9-1\" x=\"12.75\" y=\"0.21\" dx=\"-0.20\" dy=\"0.20\">O</text>\n",
       "        <text id=\"5746b9b2-bf43-407a-a52d-64ea859550a9-9\" x=\"13.46\" y=\"-1.03\" dx=\"-0.20\" dy=\"0.20\">O</text>\n",
       "        <text id=\"5746b9b2-bf43-407a-a52d-64ea859550a9-7\" x=\"14.18\" y=\"1.03\" dx=\"-0.20\" dy=\"0.20\">O</text>\n",
       "      </g>\n",
       "      <mask id=\"5746b9b2-bf43-407a-a52d-64ea859550a9-mask\">\n",
       "        <rect x=\"-0.62\" y=\"-1.70\" width=\"18.32\" height=\"3.39\" fill=\"white\"/>\n",
       "        <g>\n",
       "          <circle cx=\"14.89\" cy=\"-0.21\" r=\"0.20\"/>\n",
       "          <circle cx=\"12.75\" cy=\"0.21\" r=\"0.20\"/>\n",
       "          <circle cx=\"13.46\" cy=\"-1.03\" r=\"0.20\"/>\n",
       "          <circle cx=\"14.18\" cy=\"1.03\" r=\"0.20\"/>\n",
       "        </g>\n",
       "        <g stroke=\"black\">\n",
       "          <use xlink:href=\"#5746b9b2-bf43-407a-a52d-64ea859550a9-symbols\" stroke-width=\"0.05\"/>\n",
       "        </g>\n",
       "      </mask>\n",
       "    </defs>\n",
       "    <g fill=\"none\" stroke=\"black\" stroke-width=\"0.04\" mask=\"url(#5746b9b2-bf43-407a-a52d-64ea859550a9-mask)\">\n",
       "      <line x1=\"14.18\" y1=\"0.21\" x2=\"13.46\" y2=\"-0.21\"/>\n",
       "      <line x1=\"14.18\" y1=\"0.21\" x2=\"14.89\" y2=\"-0.21\"/>\n",
       "      <line x1=\"14.24\" y1=\"0.21\" x2=\"14.24\" y2=\"1.03\"/>\n",
       "      <line x1=\"14.12\" y1=\"0.21\" x2=\"14.12\" y2=\"1.03\"/>\n",
       "      <line x1=\"13.46\" y1=\"-0.21\" x2=\"12.75\" y2=\"0.21\"/>\n",
       "      <line x1=\"13.40\" y1=\"-0.21\" x2=\"13.40\" y2=\"-1.03\"/>\n",
       "      <line x1=\"13.52\" y1=\"-0.21\" x2=\"13.52\" y2=\"-1.03\"/>\n",
       "      <line x1=\"14.89\" y1=\"-0.21\" x2=\"15.61\" y2=\"0.21\"/>\n",
       "      <line x1=\"12.75\" y1=\"0.21\" x2=\"12.03\" y2=\"-0.21\"/>\n",
       "      <line x1=\"15.61\" y1=\"0.21\" x2=\"16.32\" y2=\"-0.21\"/>\n",
       "      <line x1=\"12.03\" y1=\"-0.21\" x2=\"11.32\" y2=\"0.21\"/>\n",
       "    </g>\n",
       "    <g font-size=\"0.50\" font-family=\"sans-serif\">\n",
       "      <use xlink:href=\"#5746b9b2-bf43-407a-a52d-64ea859550a9-2\" fill=\"#FF0D0D\"/>\n",
       "      <use xlink:href=\"#5746b9b2-bf43-407a-a52d-64ea859550a9-1\" fill=\"#FF0D0D\"/>\n",
       "      <use xlink:href=\"#5746b9b2-bf43-407a-a52d-64ea859550a9-9\" fill=\"#FF0D0D\"/>\n",
       "      <use xlink:href=\"#5746b9b2-bf43-407a-a52d-64ea859550a9-7\" fill=\"#FF0D0D\"/>\n",
       "    </g>\n",
       "  </g>\n",
       "</svg>"
      ],
      "text/plain": [
       "<chython.containers.reaction.ReactionContainer at 0x1682c05cc40>"
      ]
     },
     "execution_count": 17,
     "metadata": {},
     "output_type": "execute_result"
    }
   ],
   "source": [
    "r.flush_cache()  # drop cached depiction\n",
    "r"
   ]
  },
  {
   "cell_type": "code",
   "execution_count": 18,
   "metadata": {
    "pycharm": {
     "name": "#%%\n"
    }
   },
   "outputs": [],
   "source": [
    "depict_settings()  # restore defaults"
   ]
  },
  {
   "cell_type": "markdown",
   "metadata": {
    "pycharm": {
     "name": "#%% md\n"
    }
   },
   "source": [
    "## 1.8. String parsers"
   ]
  },
  {
   "cell_type": "code",
   "execution_count": 19,
   "metadata": {
    "pycharm": {
     "name": "#%%\n"
    }
   },
   "outputs": [],
   "source": [
    "from chython import smiles, smarts, mdl_mol, xyz, inchi"
   ]
  },
  {
   "cell_type": "code",
   "execution_count": 20,
   "metadata": {
    "pycharm": {
     "name": "#%%\n"
    }
   },
   "outputs": [
    {
     "data": {
      "image/svg+xml": [
       "<svg width=\"3.43cm\" height=\"1.66cm\" viewBox=\"-2.05 -1.04 3.43 1.66\" xmlns=\"http://www.w3.org/2000/svg\" xmlns:xlink=\"http://www.w3.org/1999/xlink\" version=\"1.1\">\n",
       "  <g id=\"f958171c-8396-464e-9d04-f2b21b0f0acf-molecule\">\n",
       "    <defs>\n",
       "      <g id=\"f958171c-8396-464e-9d04-f2b21b0f0acf-symbols\" font-size=\"0.50\" font-family=\"sans-serif\">\n",
       "        <text id=\"f958171c-8396-464e-9d04-f2b21b0f0acf-3\" x=\"0.00\" y=\"-0.00\" dx=\"-0.20\" dy=\"0.20\">OH</text>\n",
       "      </g>\n",
       "      <g id=\"f958171c-8396-464e-9d04-f2b21b0f0acf-mapping\" font-size=\"0.25\" font-family=\"monospace\" text-anchor=\"end\">\n",
       "        <text x=\"-1.43\" y=\"-0.00\" dx=\"-0.05\" dy=\"0.20\">1</text>\n",
       "        <text x=\"-0.71\" y=\"-0.41\" dx=\"-0.05\" dy=\"0.20\">2</text>\n",
       "        <text x=\"0.00\" y=\"-0.00\" dx=\"-0.15\" dy=\"0.35\">3</text>\n",
       "      </g>\n",
       "      <mask id=\"f958171c-8396-464e-9d04-f2b21b0f0acf-mask\">\n",
       "        <rect x=\"-2.05\" y=\"-1.04\" width=\"3.43\" height=\"1.66\" fill=\"white\"/>\n",
       "        <g>\n",
       "          <circle cx=\"0.00\" cy=\"-0.00\" r=\"0.20\"/>\n",
       "        </g>\n",
       "        <g stroke=\"black\">\n",
       "          <use xlink:href=\"#f958171c-8396-464e-9d04-f2b21b0f0acf-symbols\" stroke-width=\"0.05\"/>\n",
       "          <use xlink:href=\"#f958171c-8396-464e-9d04-f2b21b0f0acf-mapping\" stroke-width=\"0.03\"/>\n",
       "        </g>\n",
       "      </mask>\n",
       "    </defs>\n",
       "    <g fill=\"none\" stroke=\"black\" stroke-width=\"0.04\" mask=\"url(#f958171c-8396-464e-9d04-f2b21b0f0acf-mask)\">\n",
       "      <line x1=\"-1.43\" y1=\"-0.00\" x2=\"-0.71\" y2=\"-0.41\"/>\n",
       "      <line x1=\"-0.71\" y1=\"-0.41\" x2=\"0.00\" y2=\"-0.00\"/>\n",
       "    </g>\n",
       "    <g font-size=\"0.50\" font-family=\"sans-serif\">\n",
       "      <use xlink:href=\"#f958171c-8396-464e-9d04-f2b21b0f0acf-3\" fill=\"#FF0D0D\"/>\n",
       "    </g>\n",
       "    <use xlink:href=\"#f958171c-8396-464e-9d04-f2b21b0f0acf-mapping\" fill=\"#0305A7\"/>\n",
       "  </g>\n",
       "</svg>"
      ],
      "text/plain": [
       "<chython.containers.molecule.MoleculeContainer at 0x1682c006720>"
      ]
     },
     "execution_count": 20,
     "metadata": {},
     "output_type": "execute_result"
    }
   ],
   "source": [
    "m = smiles('CCO')\n",
    "m.clean2d()\n",
    "m"
   ]
  },
  {
   "cell_type": "code",
   "execution_count": 21,
   "metadata": {
    "pycharm": {
     "name": "#%%\n"
    }
   },
   "outputs": [
    {
     "data": {
      "image/svg+xml": [
       "<svg width=\"3.24cm\" height=\"1.96cm\" viewBox=\"-1.04 -1.34 3.24 1.96\" xmlns=\"http://www.w3.org/2000/svg\" xmlns:xlink=\"http://www.w3.org/1999/xlink\" version=\"1.1\">\n",
       "  <g id=\"08920f30-8a31-4d88-ac02-35477a4a70fe-molecule\">\n",
       "    <defs>\n",
       "      <g id=\"08920f30-8a31-4d88-ac02-35477a4a70fe-symbols\" font-size=\"0.50\" font-family=\"sans-serif\">\n",
       "        <text id=\"08920f30-8a31-4d88-ac02-35477a4a70fe-3\" x=\"-0.41\" y=\"-0.71\" dx=\"-0.20\" dy=\"0.20\">OH</text>\n",
       "      </g>\n",
       "      <g id=\"08920f30-8a31-4d88-ac02-35477a4a70fe-mapping\" font-size=\"0.25\" font-family=\"monospace\" text-anchor=\"end\">\n",
       "        <text x=\"0.82\" y=\"-0.00\" dx=\"-0.05\" dy=\"0.20\">1</text>\n",
       "        <text x=\"0.00\" y=\"-0.00\" dx=\"-0.05\" dy=\"0.20\">2</text>\n",
       "        <text x=\"-0.41\" y=\"-0.71\" dx=\"-0.15\" dy=\"0.35\">3</text>\n",
       "      </g>\n",
       "      <mask id=\"08920f30-8a31-4d88-ac02-35477a4a70fe-mask\">\n",
       "        <rect x=\"-1.04\" y=\"-1.34\" width=\"3.24\" height=\"1.96\" fill=\"white\"/>\n",
       "        <g>\n",
       "          <circle cx=\"-0.41\" cy=\"-0.71\" r=\"0.20\"/>\n",
       "        </g>\n",
       "        <g stroke=\"black\">\n",
       "          <use xlink:href=\"#08920f30-8a31-4d88-ac02-35477a4a70fe-symbols\" stroke-width=\"0.05\"/>\n",
       "          <use xlink:href=\"#08920f30-8a31-4d88-ac02-35477a4a70fe-mapping\" stroke-width=\"0.03\"/>\n",
       "        </g>\n",
       "      </mask>\n",
       "    </defs>\n",
       "    <g fill=\"none\" stroke=\"black\" stroke-width=\"0.04\" mask=\"url(#08920f30-8a31-4d88-ac02-35477a4a70fe-mask)\">\n",
       "      <line x1=\"0.82\" y1=\"-0.00\" x2=\"0.00\" y2=\"-0.00\"/>\n",
       "      <line x1=\"0.00\" y1=\"-0.00\" x2=\"-0.41\" y2=\"-0.71\"/>\n",
       "    </g>\n",
       "    <g font-size=\"0.50\" font-family=\"sans-serif\">\n",
       "      <use xlink:href=\"#08920f30-8a31-4d88-ac02-35477a4a70fe-3\" fill=\"#FF0D0D\"/>\n",
       "    </g>\n",
       "    <use xlink:href=\"#08920f30-8a31-4d88-ac02-35477a4a70fe-mapping\" fill=\"#0305A7\"/>\n",
       "  </g>\n",
       "</svg>"
      ],
      "text/plain": [
       "<chython.containers.molecule.MoleculeContainer at 0x1682c006900>"
      ]
     },
     "execution_count": 21,
     "metadata": {},
     "output_type": "execute_result"
    }
   ],
   "source": [
    "m = inchi('InChI=1S/C2H6O/c1-2-3/h3H,2H2,1H3')\n",
    "m.clean2d()\n",
    "m"
   ]
  },
  {
   "cell_type": "code",
   "execution_count": 22,
   "metadata": {
    "pycharm": {
     "name": "#%%\n"
    }
   },
   "outputs": [
    {
     "data": {
      "image/svg+xml": [
       "<svg width=\"3.43cm\" height=\"1.66cm\" viewBox=\"0.61 0.09 3.43 1.66\" xmlns=\"http://www.w3.org/2000/svg\" xmlns:xlink=\"http://www.w3.org/1999/xlink\" version=\"1.1\">\n",
       "  <g id=\"defbda1e-74eb-49f8-8047-d2cf4d484a0b-molecule\">\n",
       "    <defs>\n",
       "      <g id=\"defbda1e-74eb-49f8-8047-d2cf4d484a0b-symbols\" font-size=\"0.50\" font-family=\"sans-serif\">\n",
       "        <text id=\"defbda1e-74eb-49f8-8047-d2cf4d484a0b-3\" x=\"2.67\" y=\"0.71\" dx=\"-0.20\" dy=\"0.20\">OH</text>\n",
       "      </g>\n",
       "      <g id=\"defbda1e-74eb-49f8-8047-d2cf4d484a0b-mapping\" font-size=\"0.25\" font-family=\"monospace\" text-anchor=\"end\">\n",
       "        <text x=\"1.24\" y=\"0.71\" dx=\"-0.05\" dy=\"0.20\">1</text>\n",
       "        <text x=\"1.95\" y=\"1.13\" dx=\"-0.05\" dy=\"0.20\">2</text>\n",
       "        <text x=\"2.67\" y=\"0.71\" dx=\"-0.15\" dy=\"0.35\">3</text>\n",
       "      </g>\n",
       "      <mask id=\"defbda1e-74eb-49f8-8047-d2cf4d484a0b-mask\">\n",
       "        <rect x=\"0.61\" y=\"0.09\" width=\"3.43\" height=\"1.66\" fill=\"white\"/>\n",
       "        <g>\n",
       "          <circle cx=\"2.67\" cy=\"0.71\" r=\"0.20\"/>\n",
       "        </g>\n",
       "        <g stroke=\"black\">\n",
       "          <use xlink:href=\"#defbda1e-74eb-49f8-8047-d2cf4d484a0b-symbols\" stroke-width=\"0.05\"/>\n",
       "          <use xlink:href=\"#defbda1e-74eb-49f8-8047-d2cf4d484a0b-mapping\" stroke-width=\"0.03\"/>\n",
       "        </g>\n",
       "      </mask>\n",
       "    </defs>\n",
       "    <g fill=\"none\" stroke=\"black\" stroke-width=\"0.04\" mask=\"url(#defbda1e-74eb-49f8-8047-d2cf4d484a0b-mask)\">\n",
       "      <line x1=\"1.24\" y1=\"0.71\" x2=\"1.95\" y2=\"1.13\"/>\n",
       "      <line x1=\"1.95\" y1=\"1.13\" x2=\"2.67\" y2=\"0.71\"/>\n",
       "    </g>\n",
       "    <g font-size=\"0.50\" font-family=\"sans-serif\">\n",
       "      <use xlink:href=\"#defbda1e-74eb-49f8-8047-d2cf4d484a0b-3\" fill=\"#FF0D0D\"/>\n",
       "    </g>\n",
       "    <use xlink:href=\"#defbda1e-74eb-49f8-8047-d2cf4d484a0b-mapping\" fill=\"#0305A7\"/>\n",
       "  </g>\n",
       "</svg>"
      ],
      "text/plain": [
       "<chython.containers.molecule.MoleculeContainer at 0x1682c036b80>"
      ]
     },
     "execution_count": 22,
     "metadata": {},
     "output_type": "execute_result"
    }
   ],
   "source": [
    "m = mdl_mol('''\n",
    "  Mrv2115 04202210182D          \n",
    "\n",
    "  3  2  0  0  0  0            999 V2000\n",
    "    1.2375   -0.7145    0.0000 C   0  0  0  0  0  0  0  0  0  0  0  0\n",
    "    1.9520   -1.1270    0.0000 C   0  0  0  0  0  0  0  0  0  0  0  0\n",
    "    2.6664   -0.7145    0.0000 O   0  0  0  0  0  0  0  0  0  0  0  0\n",
    "  1  2  1  0  0  0  0\n",
    "  2  3  1  0  0  0  0\n",
    "M  END''')\n",
    "m"
   ]
  },
  {
   "cell_type": "code",
   "execution_count": 23,
   "metadata": {
    "pycharm": {
     "name": "#%%\n"
    }
   },
   "outputs": [
    {
     "data": {
      "image/svg+xml": [
       "<svg width=\"3.43cm\" height=\"1.66cm\" viewBox=\"-2.05 -1.04 3.43 1.66\" xmlns=\"http://www.w3.org/2000/svg\" xmlns:xlink=\"http://www.w3.org/1999/xlink\" version=\"1.1\">\n",
       "  <g id=\"cd15923d-77ef-40e7-8d2b-64996e711b14-molecule\">\n",
       "    <defs>\n",
       "      <g id=\"cd15923d-77ef-40e7-8d2b-64996e711b14-symbols\" font-size=\"0.50\" font-family=\"sans-serif\">\n",
       "        <text id=\"cd15923d-77ef-40e7-8d2b-64996e711b14-1\" x=\"-0.71\" y=\"-0.41\" dx=\"-0.20\" dy=\"0.20\">O</text>\n",
       "        <text id=\"cd15923d-77ef-40e7-8d2b-64996e711b14-2\" x=\"-1.43\" y=\"-0.00\" dx=\"-0.20\" dy=\"0.20\">H</text>\n",
       "        <text id=\"cd15923d-77ef-40e7-8d2b-64996e711b14-3\" x=\"0.00\" y=\"-0.00\" dx=\"-0.20\" dy=\"0.20\">H</text>\n",
       "      </g>\n",
       "      <g id=\"cd15923d-77ef-40e7-8d2b-64996e711b14-mapping\" font-size=\"0.25\" font-family=\"monospace\" text-anchor=\"end\">\n",
       "        <text x=\"-0.71\" y=\"-0.41\" dx=\"-0.15\" dy=\"0.35\">1</text>\n",
       "        <text x=\"-1.43\" y=\"-0.00\" dx=\"-0.15\" dy=\"0.35\">2</text>\n",
       "        <text x=\"0.00\" y=\"-0.00\" dx=\"-0.15\" dy=\"0.35\">3</text>\n",
       "      </g>\n",
       "      <mask id=\"cd15923d-77ef-40e7-8d2b-64996e711b14-mask\">\n",
       "        <rect x=\"-2.05\" y=\"-1.04\" width=\"3.43\" height=\"1.66\" fill=\"white\"/>\n",
       "        <g>\n",
       "          <circle cx=\"-0.71\" cy=\"-0.41\" r=\"0.20\"/>\n",
       "          <circle cx=\"-1.43\" cy=\"-0.00\" r=\"0.20\"/>\n",
       "          <circle cx=\"0.00\" cy=\"-0.00\" r=\"0.20\"/>\n",
       "        </g>\n",
       "        <g stroke=\"black\">\n",
       "          <use xlink:href=\"#cd15923d-77ef-40e7-8d2b-64996e711b14-symbols\" stroke-width=\"0.05\"/>\n",
       "          <use xlink:href=\"#cd15923d-77ef-40e7-8d2b-64996e711b14-mapping\" stroke-width=\"0.03\"/>\n",
       "        </g>\n",
       "      </mask>\n",
       "    </defs>\n",
       "    <g fill=\"none\" stroke=\"black\" stroke-width=\"0.04\" mask=\"url(#cd15923d-77ef-40e7-8d2b-64996e711b14-mask)\">\n",
       "      <line x1=\"-0.71\" y1=\"-0.41\" x2=\"-1.43\" y2=\"-0.00\"/>\n",
       "      <line x1=\"-0.71\" y1=\"-0.41\" x2=\"0.00\" y2=\"-0.00\"/>\n",
       "    </g>\n",
       "    <g font-size=\"0.50\" font-family=\"sans-serif\">\n",
       "      <use xlink:href=\"#cd15923d-77ef-40e7-8d2b-64996e711b14-1\" fill=\"#FF0D0D\"/>\n",
       "      <use xlink:href=\"#cd15923d-77ef-40e7-8d2b-64996e711b14-2\" fill=\"#909090\"/>\n",
       "      <use xlink:href=\"#cd15923d-77ef-40e7-8d2b-64996e711b14-3\" fill=\"#909090\"/>\n",
       "    </g>\n",
       "    <use xlink:href=\"#cd15923d-77ef-40e7-8d2b-64996e711b14-mapping\" fill=\"#0305A7\"/>\n",
       "  </g>\n",
       "</svg>"
      ],
      "text/plain": [
       "<chython.containers.molecule.MoleculeContainer at 0x1682c0369a0>"
      ]
     },
     "execution_count": 23,
     "metadata": {},
     "output_type": "execute_result"
    }
   ],
   "source": [
    "m = xyz((('O', 0., 0., 0.), ('H', 1., 0., 0.), ('H', 0., 1., 0.)))\n",
    "m.clean2d()\n",
    "m"
   ]
  },
  {
   "cell_type": "markdown",
   "metadata": {
    "pycharm": {
     "name": "#%% md\n"
    }
   },
   "source": [
    "### 1.8.1. SMARTS\n",
    "\n",
    "Only limited features list supported.\n",
    "\n",
    "* stereo ignored.\n",
    "* only D, a, h, r and !R atom primitives supported.\n",
    "* bond order list and not bond supported.\n",
    "* [not]ring bond supported only in combination with explicit bonds, not bonds and bonds orders lists.\n",
    "* mapping, charge and isotopes supported.\n",
    "* list of elements supported.\n",
    "* A - treats as any element. A-primitive (aliphatic) ignored.\n",
    "* M - treats as any metal..\n",
    "* &-logic operator unsupported.\n",
    "* ;-logic operator is mandatory except for charge, isotope, stereo marks. however preferable.\n",
    "* CXSMARTS radicals supported.\n",
    "* hybridization and heteroatoms count in CXSMARTS atomProp notation as <hyb> and <het> keys supported.\n",
    "\n",
    "For example::\n",
    "\n",
    "`[C;r5,r6;a]-;!@[C;h0,h1] |^1:1,atomProp:1.hyb.32:1.het.0|` - aromatic C member of 5 or 6 atoms ring connected with non-ring single bond to SP3 or SP2 radical C with 0 or 1 hydrogen and no heteroatom neighbors."
   ]
  },
  {
   "cell_type": "code",
   "execution_count": 24,
   "metadata": {
    "pycharm": {
     "name": "#%%\n"
    }
   },
   "outputs": [
    {
     "name": "stdout",
     "output_type": "stream",
     "text": [
      "[C;r5,r6;a]-;!@[C;h0,h1] |^1:1,atomProp:1.hyb.32:1.het.0|\n"
     ]
    }
   ],
   "source": [
    "q = smarts('[C;r5,r6;a]-;!@[C;h0,h1] |^1:1,atomProp:1.hyb.32:1.het.0|')\n",
    "print(q)  # canonic atoms order!"
   ]
  },
  {
   "cell_type": "markdown",
   "metadata": {
    "pycharm": {
     "name": "#%% md\n"
    }
   },
   "source": [
    "# 2. Signatures and duplicates selection\n",
    "\n",
    "## 2.1. Molecule Signatures\n",
    "*MoleculeContainer* has methods for unique molecule signature generation.\n",
    "Signature is SMILES string with canonical atoms ordering. Order of atoms calculated by Morgan-like algorithm.\n",
    "\n",
    "For signature generation one need to call `str` function on MoleculeContainer object.\n",
    "Fixed length hash of signature could be retrieved by calling `bytes` function on molecule (correspond to SHA 512 bitstring).\n",
    "\n",
    "Next string formatting keys supported:\n",
    "\n",
    "a - Generate asymmetric closures.\n",
    "!s - Disable stereo marks.\n",
    "A - Use aromatic bonds instead aromatic atoms.\n",
    "m - Set atom mapping.\n",
    "r - Generate random-ordered smiles.\n",
    "h - Show implicit hydrogens.\n",
    "!b - Disable bonds tokens."
   ]
  },
  {
   "cell_type": "code",
   "execution_count": 25,
   "metadata": {
    "pycharm": {
     "name": "#%%\n"
    }
   },
   "outputs": [
    {
     "name": "stdout",
     "output_type": "stream",
     "text": [
      "c1ccccc1C=2C=CC=CC=2[C@H](O)C\n",
      "f string c1ccccc1C=2C=CC=CC=2[C@H](O)C\n",
      "C-style string c1ccccc1C=2C=CC=CC=2[C@H](O)C\n",
      "format method c1ccccc1C=2C=CC=CC=2[C@H](O)C\n",
      "C:1:C:C:C:C:C:1C=2C=CC=CC=2[C@H](O)C\n",
      "[c]1[c][c][c][c][c]1[C]2[CH][CH][CH][CH][C]2[C@H]([OH])[CH3]\n"
     ]
    }
   ],
   "source": [
    "from chython import smiles  # smiles string parser\n",
    "\n",
    "m = smiles('c1ccccc1C=2C=CC=CC=2[C@H](O)C')\n",
    "str(m) # signature\n",
    "bytes(m) # cryptographic signature hash\n",
    "hash(m) # runtime-dependent signature hash. See Python str hash behavior\n",
    "\n",
    "print(m)\n",
    "print(f'f string {m}')  # use signature in string formatting\n",
    "print('C-style string %s' % m)\n",
    "print('format method {}'.format(m))\n",
    "print(f'{m:A}')\n",
    "print(f'{m:h!b}') # combination supported"
   ]
  },
  {
   "cell_type": "markdown",
   "metadata": {
    "pycharm": {
     "name": "#%% md\n"
    }
   },
   "source": [
    "Molecules comparable and hashable\n",
    "\n",
    "Comparison of MoleculeContainer is based on its signatures. Moreover, since strings in Python are hashable, MoleculeContaier also hashable.\n",
    "\n",
    "NOTE: MoleculeContainer can be changed. This can lead to unobvious behavior of the sets and dictionaries in which these molecules were placed before the change. Avoid changing molecules (standardize, aromatize, hydrogens and atoms/bonds changes) placed inside sets and dictionaries."
   ]
  },
  {
   "cell_type": "code",
   "execution_count": 26,
   "metadata": {
    "pycharm": {
     "name": "#%%\n"
    }
   },
   "outputs": [
    {
     "data": {
      "text/plain": [
       "True"
      ]
     },
     "execution_count": 26,
     "metadata": {},
     "output_type": "execute_result"
    }
   ],
   "source": [
    "m != smiles('c1ccccc1')"
   ]
  },
  {
   "cell_type": "code",
   "execution_count": 27,
   "metadata": {
    "pycharm": {
     "name": "#%%\n"
    }
   },
   "outputs": [
    {
     "data": {
      "text/plain": [
       "True"
      ]
     },
     "execution_count": 27,
     "metadata": {},
     "output_type": "execute_result"
    }
   ],
   "source": [
    "# Simplest way to exclude duplicated structures\n",
    "len({m, m, smiles('c1ccccc1')}) == 2 # create set of unique molecules. Only 2 of them were different."
   ]
  },
  {
   "cell_type": "markdown",
   "metadata": {
    "pycharm": {
     "name": "#%% md\n"
    }
   },
   "source": [
    "## 2.2. Reaction signatures\n",
    "ReactionContainer have its signature. Signature is SMIRKS string in which molecules of reactants, reagents, products presented in canonical order.\n",
    "\n",
    "API is the same as for molecules\n",
    "\n",
    "Next extra formatting keys supported:\n",
    "\n",
    "!c - Keep nested containers order\n",
    "!C - skip cxsmiles fragments contract"
   ]
  },
  {
   "cell_type": "code",
   "execution_count": 28,
   "metadata": {
    "pycharm": {
     "name": "#%%\n"
    }
   },
   "outputs": [
    {
     "name": "stdout",
     "output_type": "stream",
     "text": [
      "C(C(=O)O)(=O)O.C(C)O.C(C)O>>CCOC(=O)C(OCC)=O\n"
     ]
    }
   ],
   "source": [
    "print(r)"
   ]
  },
  {
   "cell_type": "code",
   "execution_count": 29,
   "metadata": {
    "pycharm": {
     "name": "#%%\n"
    }
   },
   "outputs": [
    {
     "data": {
      "text/plain": [
       "'C(C)O.C(C(=O)O)(=O)O.C(C)O>>CCOC(=O)C(OCC)=O'"
      ]
     },
     "execution_count": 29,
     "metadata": {},
     "output_type": "execute_result"
    }
   ],
   "source": [
    "format(r, '!c')"
   ]
  },
  {
   "cell_type": "markdown",
   "metadata": {
    "pycharm": {
     "name": "#%% md\n"
    }
   },
   "source": [
    "# 3. Structure standardization\n",
    "\n",
    "## 3.1. Molecules\n",
    "\n",
    "MoleculeContainer has `standardize`, `kekule`, `thiele`, `neutralize`, `implicify_hydrogens`, `explicify_hidrogens` and `canonicalize` methods.\n",
    "\n",
    "Method `thiele` transforms Kekule representation of rings into aromatized.\n",
    "Method `standardize` applies functional group standardization rules to molecules (more than 80 rules).\n",
    "\n",
    "Method `canonicalize` apply set of methods: `neutralize`, `standardize`, `kekule`, `implicify_hydrogens`, `thiele`"
   ]
  },
  {
   "cell_type": "code",
   "execution_count": 30,
   "metadata": {
    "pycharm": {
     "name": "#%%\n"
    }
   },
   "outputs": [
    {
     "data": {
      "image/svg+xml": [
       "<svg width=\"4.89cm\" height=\"2.68cm\" viewBox=\"-1.04 -0.63 4.89 2.68\" xmlns=\"http://www.w3.org/2000/svg\" xmlns:xlink=\"http://www.w3.org/1999/xlink\" version=\"1.1\">\n",
       "  <g id=\"8a2e0b26-2608-46ef-920a-10f47741b441-molecule\">\n",
       "    <defs>\n",
       "      <g id=\"8a2e0b26-2608-46ef-920a-10f47741b441-symbols\" font-size=\"0.50\" font-family=\"sans-serif\">\n",
       "        <text id=\"8a2e0b26-2608-46ef-920a-10f47741b441-7\" x=\"2.06\" y=\"0.71\" dx=\"-0.20\" dy=\"0.20\">N</text>\n",
       "        <text id=\"8a2e0b26-2608-46ef-920a-10f47741b441-8\" x=\"2.47\" y=\"1.43\" dx=\"-0.20\" dy=\"0.20\">O</text>\n",
       "        <text id=\"8a2e0b26-2608-46ef-920a-10f47741b441-9\" x=\"2.47\" y=\"-0.00\" dx=\"-0.20\" dy=\"0.20\">O</text>\n",
       "      </g>\n",
       "      <g id=\"8a2e0b26-2608-46ef-920a-10f47741b441-mapping\" font-size=\"0.25\" font-family=\"monospace\" text-anchor=\"end\">\n",
       "        <text x=\"0.82\" y=\"-0.00\" dx=\"-0.05\" dy=\"0.20\">1</text>\n",
       "        <text x=\"0.00\" y=\"-0.00\" dx=\"-0.05\" dy=\"0.20\">2</text>\n",
       "        <text x=\"-0.41\" y=\"0.71\" dx=\"-0.05\" dy=\"0.20\">3</text>\n",
       "        <text x=\"0.00\" y=\"1.43\" dx=\"-0.05\" dy=\"0.20\">4</text>\n",
       "        <text x=\"0.83\" y=\"1.43\" dx=\"-0.05\" dy=\"0.20\">5</text>\n",
       "        <text x=\"1.24\" y=\"0.71\" dx=\"-0.05\" dy=\"0.20\">6</text>\n",
       "        <text x=\"2.06\" y=\"0.71\" dx=\"-0.15\" dy=\"0.35\">7</text>\n",
       "        <text x=\"2.47\" y=\"1.43\" dx=\"-0.15\" dy=\"0.35\">8</text>\n",
       "        <text x=\"2.47\" y=\"-0.00\" dx=\"-0.15\" dy=\"0.35\">9</text>\n",
       "      </g>\n",
       "      <mask id=\"8a2e0b26-2608-46ef-920a-10f47741b441-mask\">\n",
       "        <rect x=\"-1.04\" y=\"-0.63\" width=\"4.89\" height=\"2.68\" fill=\"white\"/>\n",
       "        <g>\n",
       "          <circle cx=\"2.06\" cy=\"0.71\" r=\"0.20\"/>\n",
       "          <circle cx=\"2.47\" cy=\"1.43\" r=\"0.20\"/>\n",
       "          <circle cx=\"2.47\" cy=\"-0.00\" r=\"0.20\"/>\n",
       "        </g>\n",
       "        <g stroke=\"black\">\n",
       "          <use xlink:href=\"#8a2e0b26-2608-46ef-920a-10f47741b441-symbols\" stroke-width=\"0.05\"/>\n",
       "          <use xlink:href=\"#8a2e0b26-2608-46ef-920a-10f47741b441-mapping\" stroke-width=\"0.03\"/>\n",
       "        </g>\n",
       "      </mask>\n",
       "    </defs>\n",
       "    <g fill=\"none\" stroke=\"black\" stroke-width=\"0.04\" mask=\"url(#8a2e0b26-2608-46ef-920a-10f47741b441-mask)\">\n",
       "      <line x1=\"0.82\" y1=\"-0.00\" x2=\"0.00\" y2=\"-0.00\"/>\n",
       "      <line x1=\"0.82\" y1=\"-0.00\" x2=\"1.24\" y2=\"0.71\"/>\n",
       "      <line x1=\"0.00\" y1=\"-0.00\" x2=\"-0.41\" y2=\"0.71\"/>\n",
       "      <line x1=\"-0.41\" y1=\"0.71\" x2=\"0.00\" y2=\"1.43\"/>\n",
       "      <line x1=\"0.00\" y1=\"1.43\" x2=\"0.83\" y2=\"1.43\"/>\n",
       "      <line x1=\"0.83\" y1=\"1.43\" x2=\"1.24\" y2=\"0.71\"/>\n",
       "      <line x1=\"1.24\" y1=\"0.71\" x2=\"2.06\" y2=\"0.71\"/>\n",
       "      <line x1=\"2.11\" y1=\"0.68\" x2=\"2.53\" y2=\"1.40\"/>\n",
       "      <line x1=\"2.01\" y1=\"0.74\" x2=\"2.42\" y2=\"1.46\"/>\n",
       "      <line x1=\"2.01\" y1=\"0.68\" x2=\"2.42\" y2=\"-0.03\"/>\n",
       "      <line x1=\"2.11\" y1=\"0.74\" x2=\"2.53\" y2=\"0.03\"/>\n",
       "      <line x1=\"0.74\" y1=\"0.14\" x2=\"0.08\" y2=\"0.14\" stroke-dasharray=\"0.15 0.05\"/>\n",
       "      <line x1=\"0.08\" y1=\"0.14\" x2=\"-0.25\" y2=\"0.71\" stroke-dasharray=\"0.15 0.05\"/>\n",
       "      <line x1=\"-0.25\" y1=\"0.71\" x2=\"0.08\" y2=\"1.29\" stroke-dasharray=\"0.15 0.05\"/>\n",
       "      <line x1=\"0.08\" y1=\"1.29\" x2=\"0.74\" y2=\"1.29\" stroke-dasharray=\"0.15 0.05\"/>\n",
       "      <line x1=\"0.74\" y1=\"1.29\" x2=\"1.08\" y2=\"0.71\" stroke-dasharray=\"0.15 0.05\"/>\n",
       "      <line x1=\"1.08\" y1=\"0.71\" x2=\"0.74\" y2=\"0.14\" stroke-dasharray=\"0.15 0.05\"/>\n",
       "    </g>\n",
       "    <g font-size=\"0.50\" font-family=\"sans-serif\">\n",
       "      <use xlink:href=\"#8a2e0b26-2608-46ef-920a-10f47741b441-7\" fill=\"#3050F8\"/>\n",
       "      <use xlink:href=\"#8a2e0b26-2608-46ef-920a-10f47741b441-8\" fill=\"#FF0D0D\"/>\n",
       "      <use xlink:href=\"#8a2e0b26-2608-46ef-920a-10f47741b441-9\" fill=\"#FF0D0D\"/>\n",
       "    </g>\n",
       "    <use xlink:href=\"#8a2e0b26-2608-46ef-920a-10f47741b441-mapping\" fill=\"#0305A7\"/>\n",
       "  </g>\n",
       "</svg>"
      ],
      "text/plain": [
       "<chython.containers.molecule.MoleculeContainer at 0x1682c036ae0>"
      ]
     },
     "execution_count": 30,
     "metadata": {},
     "output_type": "execute_result"
    }
   ],
   "source": [
    "m = smiles('c1ccccc1N(=O)=O')\n",
    "m.clean2d()  # calculate 2d layout\n",
    "m #  depict"
   ]
  },
  {
   "cell_type": "code",
   "execution_count": 31,
   "metadata": {
    "pycharm": {
     "name": "#%%\n"
    }
   },
   "outputs": [
    {
     "data": {
      "image/svg+xml": [
       "<svg width=\"4.89cm\" height=\"2.68cm\" viewBox=\"-1.04 -0.63 4.89 2.68\" xmlns=\"http://www.w3.org/2000/svg\" xmlns:xlink=\"http://www.w3.org/1999/xlink\" version=\"1.1\">\n",
       "  <g id=\"e48d3ef2-e0f1-4057-8f40-0f8b8cb5fe0e-molecule\">\n",
       "    <defs>\n",
       "      <g id=\"e48d3ef2-e0f1-4057-8f40-0f8b8cb5fe0e-symbols\" font-size=\"0.50\" font-family=\"sans-serif\">\n",
       "        <text id=\"e48d3ef2-e0f1-4057-8f40-0f8b8cb5fe0e-7\" x=\"2.06\" y=\"0.71\" dx=\"-0.20\" dy=\"0.20\">N</text>\n",
       "        <text id=\"e48d3ef2-e0f1-4057-8f40-0f8b8cb5fe0e-8\" x=\"2.47\" y=\"1.43\" dx=\"-0.20\" dy=\"0.20\">O</text>\n",
       "        <text id=\"e48d3ef2-e0f1-4057-8f40-0f8b8cb5fe0e-9\" x=\"2.47\" y=\"-0.00\" dx=\"-0.20\" dy=\"0.20\">O</text>\n",
       "      </g>\n",
       "      <g id=\"e48d3ef2-e0f1-4057-8f40-0f8b8cb5fe0e-mapping\" font-size=\"0.25\" font-family=\"monospace\" text-anchor=\"end\">\n",
       "        <text x=\"0.82\" y=\"-0.00\" dx=\"-0.05\" dy=\"0.20\">1</text>\n",
       "        <text x=\"0.00\" y=\"-0.00\" dx=\"-0.05\" dy=\"0.20\">2</text>\n",
       "        <text x=\"-0.41\" y=\"0.71\" dx=\"-0.05\" dy=\"0.20\">3</text>\n",
       "        <text x=\"0.00\" y=\"1.43\" dx=\"-0.05\" dy=\"0.20\">4</text>\n",
       "        <text x=\"0.83\" y=\"1.43\" dx=\"-0.05\" dy=\"0.20\">5</text>\n",
       "        <text x=\"1.24\" y=\"0.71\" dx=\"-0.05\" dy=\"0.20\">6</text>\n",
       "        <text x=\"2.06\" y=\"0.71\" dx=\"-0.15\" dy=\"0.35\">7</text>\n",
       "        <text x=\"2.47\" y=\"1.43\" dx=\"-0.15\" dy=\"0.35\">8</text>\n",
       "        <text x=\"2.47\" y=\"-0.00\" dx=\"-0.15\" dy=\"0.35\">9</text>\n",
       "      </g>\n",
       "      <mask id=\"e48d3ef2-e0f1-4057-8f40-0f8b8cb5fe0e-mask\">\n",
       "        <rect x=\"-1.04\" y=\"-0.63\" width=\"4.89\" height=\"2.68\" fill=\"white\"/>\n",
       "        <g>\n",
       "          <circle cx=\"2.06\" cy=\"0.71\" r=\"0.20\"/>\n",
       "          <circle cx=\"2.47\" cy=\"1.43\" r=\"0.20\"/>\n",
       "          <circle cx=\"2.47\" cy=\"-0.00\" r=\"0.20\"/>\n",
       "        </g>\n",
       "        <g stroke=\"black\">\n",
       "          <use xlink:href=\"#e48d3ef2-e0f1-4057-8f40-0f8b8cb5fe0e-symbols\" stroke-width=\"0.05\"/>\n",
       "          <use xlink:href=\"#e48d3ef2-e0f1-4057-8f40-0f8b8cb5fe0e-mapping\" stroke-width=\"0.03\"/>\n",
       "        </g>\n",
       "      </mask>\n",
       "    </defs>\n",
       "    <g fill=\"none\" stroke=\"black\" stroke-width=\"0.04\" mask=\"url(#e48d3ef2-e0f1-4057-8f40-0f8b8cb5fe0e-mask)\">\n",
       "      <line x1=\"0.82\" y1=\"0.06\" x2=\"0.00\" y2=\"0.06\"/>\n",
       "      <line x1=\"0.82\" y1=\"-0.06\" x2=\"-0.00\" y2=\"-0.06\"/>\n",
       "      <line x1=\"0.82\" y1=\"-0.00\" x2=\"1.24\" y2=\"0.71\"/>\n",
       "      <line x1=\"0.00\" y1=\"-0.00\" x2=\"-0.41\" y2=\"0.71\"/>\n",
       "      <line x1=\"-0.36\" y1=\"0.68\" x2=\"0.05\" y2=\"1.40\"/>\n",
       "      <line x1=\"-0.46\" y1=\"0.74\" x2=\"-0.05\" y2=\"1.46\"/>\n",
       "      <line x1=\"0.00\" y1=\"1.43\" x2=\"0.83\" y2=\"1.43\"/>\n",
       "      <line x1=\"0.77\" y1=\"1.40\" x2=\"1.19\" y2=\"0.68\"/>\n",
       "      <line x1=\"0.88\" y1=\"1.46\" x2=\"1.29\" y2=\"0.74\"/>\n",
       "      <line x1=\"1.24\" y1=\"0.71\" x2=\"2.06\" y2=\"0.71\"/>\n",
       "      <line x1=\"2.11\" y1=\"0.68\" x2=\"2.53\" y2=\"1.40\"/>\n",
       "      <line x1=\"2.01\" y1=\"0.74\" x2=\"2.42\" y2=\"1.46\"/>\n",
       "      <line x1=\"2.01\" y1=\"0.68\" x2=\"2.42\" y2=\"-0.03\"/>\n",
       "      <line x1=\"2.11\" y1=\"0.74\" x2=\"2.53\" y2=\"0.03\"/>\n",
       "    </g>\n",
       "    <g font-size=\"0.50\" font-family=\"sans-serif\">\n",
       "      <use xlink:href=\"#e48d3ef2-e0f1-4057-8f40-0f8b8cb5fe0e-7\" fill=\"#3050F8\"/>\n",
       "      <use xlink:href=\"#e48d3ef2-e0f1-4057-8f40-0f8b8cb5fe0e-8\" fill=\"#FF0D0D\"/>\n",
       "      <use xlink:href=\"#e48d3ef2-e0f1-4057-8f40-0f8b8cb5fe0e-9\" fill=\"#FF0D0D\"/>\n",
       "    </g>\n",
       "    <use xlink:href=\"#e48d3ef2-e0f1-4057-8f40-0f8b8cb5fe0e-mapping\" fill=\"#0305A7\"/>\n",
       "  </g>\n",
       "</svg>"
      ],
      "text/plain": [
       "<chython.containers.molecule.MoleculeContainer at 0x1682c036ae0>"
      ]
     },
     "execution_count": 31,
     "metadata": {},
     "output_type": "execute_result"
    }
   ],
   "source": [
    "m.kekule()  # transform to kekule form\n",
    "m"
   ]
  },
  {
   "cell_type": "code",
   "execution_count": 32,
   "metadata": {
    "pycharm": {
     "name": "#%%\n"
    }
   },
   "outputs": [
    {
     "data": {
      "image/svg+xml": [
       "<svg width=\"4.89cm\" height=\"2.68cm\" viewBox=\"-1.04 -0.63 4.89 2.68\" xmlns=\"http://www.w3.org/2000/svg\" xmlns:xlink=\"http://www.w3.org/1999/xlink\" version=\"1.1\">\n",
       "  <g id=\"b076e7a6-cffa-4728-a3ca-ca216c09106d-molecule\">\n",
       "    <defs>\n",
       "      <g id=\"b076e7a6-cffa-4728-a3ca-ca216c09106d-symbols\" font-size=\"0.50\" font-family=\"sans-serif\">\n",
       "        <text id=\"b076e7a6-cffa-4728-a3ca-ca216c09106d-7\" x=\"2.06\" y=\"0.71\" dx=\"-0.20\" dy=\"0.20\">N</text>\n",
       "        <text id=\"b076e7a6-cffa-4728-a3ca-ca216c09106d-8\" x=\"2.47\" y=\"1.43\" dx=\"-0.20\" dy=\"0.20\">O</text>\n",
       "        <text id=\"b076e7a6-cffa-4728-a3ca-ca216c09106d-9\" x=\"2.47\" y=\"-0.00\" dx=\"-0.20\" dy=\"0.20\">O</text>\n",
       "      </g>\n",
       "      <g id=\"b076e7a6-cffa-4728-a3ca-ca216c09106d-attrs\" font-size=\"0.30\" font-family=\"monospace\">\n",
       "        <text x=\"2.06\" y=\"0.71\" dx=\"0.05\" dy=\"-0.20\">+</text>\n",
       "        <text x=\"2.47\" y=\"1.43\" dx=\"0.05\" dy=\"-0.20\">-</text>\n",
       "      </g>\n",
       "      <g id=\"b076e7a6-cffa-4728-a3ca-ca216c09106d-mapping\" font-size=\"0.25\" font-family=\"monospace\" text-anchor=\"end\">\n",
       "        <text x=\"0.82\" y=\"-0.00\" dx=\"-0.05\" dy=\"0.20\">1</text>\n",
       "        <text x=\"0.00\" y=\"-0.00\" dx=\"-0.05\" dy=\"0.20\">2</text>\n",
       "        <text x=\"-0.41\" y=\"0.71\" dx=\"-0.05\" dy=\"0.20\">3</text>\n",
       "        <text x=\"0.00\" y=\"1.43\" dx=\"-0.05\" dy=\"0.20\">4</text>\n",
       "        <text x=\"0.83\" y=\"1.43\" dx=\"-0.05\" dy=\"0.20\">5</text>\n",
       "        <text x=\"1.24\" y=\"0.71\" dx=\"-0.05\" dy=\"0.20\">6</text>\n",
       "        <text x=\"2.06\" y=\"0.71\" dx=\"-0.15\" dy=\"0.35\">7</text>\n",
       "        <text x=\"2.47\" y=\"1.43\" dx=\"-0.15\" dy=\"0.35\">8</text>\n",
       "        <text x=\"2.47\" y=\"-0.00\" dx=\"-0.15\" dy=\"0.35\">9</text>\n",
       "      </g>\n",
       "      <mask id=\"b076e7a6-cffa-4728-a3ca-ca216c09106d-mask\">\n",
       "        <rect x=\"-1.04\" y=\"-0.63\" width=\"4.89\" height=\"2.68\" fill=\"white\"/>\n",
       "        <g>\n",
       "          <circle cx=\"2.06\" cy=\"0.71\" r=\"0.20\"/>\n",
       "          <circle cx=\"2.47\" cy=\"1.43\" r=\"0.20\"/>\n",
       "          <circle cx=\"2.47\" cy=\"-0.00\" r=\"0.20\"/>\n",
       "        </g>\n",
       "        <g stroke=\"black\">\n",
       "          <use xlink:href=\"#b076e7a6-cffa-4728-a3ca-ca216c09106d-symbols\" stroke-width=\"0.05\"/>\n",
       "          <use xlink:href=\"#b076e7a6-cffa-4728-a3ca-ca216c09106d-attrs\" stroke-width=\"0.03\"/>\n",
       "          <use xlink:href=\"#b076e7a6-cffa-4728-a3ca-ca216c09106d-mapping\" stroke-width=\"0.03\"/>\n",
       "        </g>\n",
       "      </mask>\n",
       "    </defs>\n",
       "    <g fill=\"none\" stroke=\"black\" stroke-width=\"0.04\" mask=\"url(#b076e7a6-cffa-4728-a3ca-ca216c09106d-mask)\">\n",
       "      <line x1=\"0.82\" y1=\"0.06\" x2=\"0.00\" y2=\"0.06\"/>\n",
       "      <line x1=\"0.82\" y1=\"-0.06\" x2=\"-0.00\" y2=\"-0.06\"/>\n",
       "      <line x1=\"0.82\" y1=\"-0.00\" x2=\"1.24\" y2=\"0.71\"/>\n",
       "      <line x1=\"0.00\" y1=\"-0.00\" x2=\"-0.41\" y2=\"0.71\"/>\n",
       "      <line x1=\"-0.36\" y1=\"0.68\" x2=\"0.05\" y2=\"1.40\"/>\n",
       "      <line x1=\"-0.46\" y1=\"0.74\" x2=\"-0.05\" y2=\"1.46\"/>\n",
       "      <line x1=\"0.00\" y1=\"1.43\" x2=\"0.83\" y2=\"1.43\"/>\n",
       "      <line x1=\"0.77\" y1=\"1.40\" x2=\"1.19\" y2=\"0.68\"/>\n",
       "      <line x1=\"0.88\" y1=\"1.46\" x2=\"1.29\" y2=\"0.74\"/>\n",
       "      <line x1=\"1.24\" y1=\"0.71\" x2=\"2.06\" y2=\"0.71\"/>\n",
       "      <line x1=\"2.06\" y1=\"0.71\" x2=\"2.47\" y2=\"1.43\"/>\n",
       "      <line x1=\"2.01\" y1=\"0.68\" x2=\"2.42\" y2=\"-0.03\"/>\n",
       "      <line x1=\"2.11\" y1=\"0.74\" x2=\"2.53\" y2=\"0.03\"/>\n",
       "    </g>\n",
       "    <g font-size=\"0.50\" font-family=\"sans-serif\">\n",
       "      <use xlink:href=\"#b076e7a6-cffa-4728-a3ca-ca216c09106d-7\" fill=\"#3050F8\"/>\n",
       "      <use xlink:href=\"#b076e7a6-cffa-4728-a3ca-ca216c09106d-8\" fill=\"#FF0D0D\"/>\n",
       "      <use xlink:href=\"#b076e7a6-cffa-4728-a3ca-ca216c09106d-9\" fill=\"#FF0D0D\"/>\n",
       "    </g>\n",
       "    <use xlink:href=\"#b076e7a6-cffa-4728-a3ca-ca216c09106d-attrs\" fill=\"black\"/>\n",
       "    <use xlink:href=\"#b076e7a6-cffa-4728-a3ca-ca216c09106d-mapping\" fill=\"#0305A7\"/>\n",
       "  </g>\n",
       "</svg>"
      ],
      "text/plain": [
       "<chython.containers.molecule.MoleculeContainer at 0x1682c036ae0>"
      ]
     },
     "execution_count": 32,
     "metadata": {},
     "output_type": "execute_result"
    }
   ],
   "source": [
    "m.standardize() # fix groups\n",
    "m"
   ]
  },
  {
   "cell_type": "code",
   "execution_count": 33,
   "metadata": {
    "pycharm": {
     "name": "#%%\n"
    }
   },
   "outputs": [
    {
     "data": {
      "image/svg+xml": [
       "<svg width=\"4.89cm\" height=\"2.68cm\" viewBox=\"-1.04 -0.63 4.89 2.68\" xmlns=\"http://www.w3.org/2000/svg\" xmlns:xlink=\"http://www.w3.org/1999/xlink\" version=\"1.1\">\n",
       "  <g id=\"e1f04275-8a87-416c-b571-d5873e216b93-molecule\">\n",
       "    <defs>\n",
       "      <g id=\"e1f04275-8a87-416c-b571-d5873e216b93-symbols\" font-size=\"0.50\" font-family=\"sans-serif\">\n",
       "        <text id=\"e1f04275-8a87-416c-b571-d5873e216b93-7\" x=\"2.06\" y=\"0.71\" dx=\"-0.20\" dy=\"0.20\">N</text>\n",
       "        <text id=\"e1f04275-8a87-416c-b571-d5873e216b93-8\" x=\"2.47\" y=\"1.43\" dx=\"-0.20\" dy=\"0.20\">O</text>\n",
       "        <text id=\"e1f04275-8a87-416c-b571-d5873e216b93-9\" x=\"2.47\" y=\"-0.00\" dx=\"-0.20\" dy=\"0.20\">O</text>\n",
       "      </g>\n",
       "      <g id=\"e1f04275-8a87-416c-b571-d5873e216b93-attrs\" font-size=\"0.30\" font-family=\"monospace\">\n",
       "        <text x=\"2.06\" y=\"0.71\" dx=\"0.05\" dy=\"-0.20\">+</text>\n",
       "        <text x=\"2.47\" y=\"1.43\" dx=\"0.05\" dy=\"-0.20\">-</text>\n",
       "      </g>\n",
       "      <g id=\"e1f04275-8a87-416c-b571-d5873e216b93-mapping\" font-size=\"0.25\" font-family=\"monospace\" text-anchor=\"end\">\n",
       "        <text x=\"0.82\" y=\"-0.00\" dx=\"-0.05\" dy=\"0.20\">1</text>\n",
       "        <text x=\"0.00\" y=\"-0.00\" dx=\"-0.05\" dy=\"0.20\">2</text>\n",
       "        <text x=\"-0.41\" y=\"0.71\" dx=\"-0.05\" dy=\"0.20\">3</text>\n",
       "        <text x=\"0.00\" y=\"1.43\" dx=\"-0.05\" dy=\"0.20\">4</text>\n",
       "        <text x=\"0.83\" y=\"1.43\" dx=\"-0.05\" dy=\"0.20\">5</text>\n",
       "        <text x=\"1.24\" y=\"0.71\" dx=\"-0.05\" dy=\"0.20\">6</text>\n",
       "        <text x=\"2.06\" y=\"0.71\" dx=\"-0.15\" dy=\"0.35\">7</text>\n",
       "        <text x=\"2.47\" y=\"1.43\" dx=\"-0.15\" dy=\"0.35\">8</text>\n",
       "        <text x=\"2.47\" y=\"-0.00\" dx=\"-0.15\" dy=\"0.35\">9</text>\n",
       "      </g>\n",
       "      <mask id=\"e1f04275-8a87-416c-b571-d5873e216b93-mask\">\n",
       "        <rect x=\"-1.04\" y=\"-0.63\" width=\"4.89\" height=\"2.68\" fill=\"white\"/>\n",
       "        <g>\n",
       "          <circle cx=\"2.06\" cy=\"0.71\" r=\"0.20\"/>\n",
       "          <circle cx=\"2.47\" cy=\"1.43\" r=\"0.20\"/>\n",
       "          <circle cx=\"2.47\" cy=\"-0.00\" r=\"0.20\"/>\n",
       "        </g>\n",
       "        <g stroke=\"black\">\n",
       "          <use xlink:href=\"#e1f04275-8a87-416c-b571-d5873e216b93-symbols\" stroke-width=\"0.05\"/>\n",
       "          <use xlink:href=\"#e1f04275-8a87-416c-b571-d5873e216b93-attrs\" stroke-width=\"0.03\"/>\n",
       "          <use xlink:href=\"#e1f04275-8a87-416c-b571-d5873e216b93-mapping\" stroke-width=\"0.03\"/>\n",
       "        </g>\n",
       "      </mask>\n",
       "    </defs>\n",
       "    <g fill=\"none\" stroke=\"black\" stroke-width=\"0.04\" mask=\"url(#e1f04275-8a87-416c-b571-d5873e216b93-mask)\">\n",
       "      <line x1=\"0.82\" y1=\"-0.00\" x2=\"0.00\" y2=\"-0.00\"/>\n",
       "      <line x1=\"0.82\" y1=\"-0.00\" x2=\"1.24\" y2=\"0.71\"/>\n",
       "      <line x1=\"0.00\" y1=\"-0.00\" x2=\"-0.41\" y2=\"0.71\"/>\n",
       "      <line x1=\"-0.41\" y1=\"0.71\" x2=\"0.00\" y2=\"1.43\"/>\n",
       "      <line x1=\"0.00\" y1=\"1.43\" x2=\"0.83\" y2=\"1.43\"/>\n",
       "      <line x1=\"0.83\" y1=\"1.43\" x2=\"1.24\" y2=\"0.71\"/>\n",
       "      <line x1=\"1.24\" y1=\"0.71\" x2=\"2.06\" y2=\"0.71\"/>\n",
       "      <line x1=\"2.06\" y1=\"0.71\" x2=\"2.47\" y2=\"1.43\"/>\n",
       "      <line x1=\"2.01\" y1=\"0.68\" x2=\"2.42\" y2=\"-0.03\"/>\n",
       "      <line x1=\"2.11\" y1=\"0.74\" x2=\"2.53\" y2=\"0.03\"/>\n",
       "      <line x1=\"0.74\" y1=\"0.14\" x2=\"0.08\" y2=\"0.14\" stroke-dasharray=\"0.15 0.05\"/>\n",
       "      <line x1=\"0.08\" y1=\"0.14\" x2=\"-0.25\" y2=\"0.71\" stroke-dasharray=\"0.15 0.05\"/>\n",
       "      <line x1=\"-0.25\" y1=\"0.71\" x2=\"0.08\" y2=\"1.29\" stroke-dasharray=\"0.15 0.05\"/>\n",
       "      <line x1=\"0.08\" y1=\"1.29\" x2=\"0.74\" y2=\"1.29\" stroke-dasharray=\"0.15 0.05\"/>\n",
       "      <line x1=\"0.74\" y1=\"1.29\" x2=\"1.08\" y2=\"0.71\" stroke-dasharray=\"0.15 0.05\"/>\n",
       "      <line x1=\"1.08\" y1=\"0.71\" x2=\"0.74\" y2=\"0.14\" stroke-dasharray=\"0.15 0.05\"/>\n",
       "    </g>\n",
       "    <g font-size=\"0.50\" font-family=\"sans-serif\">\n",
       "      <use xlink:href=\"#e1f04275-8a87-416c-b571-d5873e216b93-7\" fill=\"#3050F8\"/>\n",
       "      <use xlink:href=\"#e1f04275-8a87-416c-b571-d5873e216b93-8\" fill=\"#FF0D0D\"/>\n",
       "      <use xlink:href=\"#e1f04275-8a87-416c-b571-d5873e216b93-9\" fill=\"#FF0D0D\"/>\n",
       "    </g>\n",
       "    <use xlink:href=\"#e1f04275-8a87-416c-b571-d5873e216b93-attrs\" fill=\"black\"/>\n",
       "    <use xlink:href=\"#e1f04275-8a87-416c-b571-d5873e216b93-mapping\" fill=\"#0305A7\"/>\n",
       "  </g>\n",
       "</svg>"
      ],
      "text/plain": [
       "<chython.containers.molecule.MoleculeContainer at 0x1682c036ae0>"
      ]
     },
     "execution_count": 33,
     "metadata": {},
     "output_type": "execute_result"
    }
   ],
   "source": [
    "m.thiele() # transform to aromatized form\n",
    "m"
   ]
  },
  {
   "cell_type": "code",
   "execution_count": 34,
   "metadata": {
    "pycharm": {
     "name": "#%%\n"
    }
   },
   "outputs": [
    {
     "data": {
      "image/svg+xml": [
       "<svg width=\"4.14cm\" height=\"2.49cm\" viewBox=\"-2.77 -1.86 4.14 2.49\" xmlns=\"http://www.w3.org/2000/svg\" xmlns:xlink=\"http://www.w3.org/1999/xlink\" version=\"1.1\">\n",
       "  <g id=\"5463f72d-3cf1-4e33-93a9-bd1ddef52c50-molecule\">\n",
       "    <defs>\n",
       "      <g id=\"5463f72d-3cf1-4e33-93a9-bd1ddef52c50-symbols\" font-size=\"0.50\" font-family=\"sans-serif\">\n",
       "        <text id=\"5463f72d-3cf1-4e33-93a9-bd1ddef52c50-1\" x=\"-2.14\" y=\"-0.41\" dx=\"-0.20\" dy=\"0.20\">NH<tspan  dy=\"0.15\" font-size=\"0.35\">2</tspan></text>\n",
       "        <text id=\"5463f72d-3cf1-4e33-93a9-bd1ddef52c50-4\" x=\"-0.71\" y=\"-1.24\" dx=\"-0.20\" dy=\"0.20\">O</text>\n",
       "        <text id=\"5463f72d-3cf1-4e33-93a9-bd1ddef52c50-5\" x=\"0.00\" y=\"-0.00\" dx=\"-0.20\" dy=\"0.20\">OH</text>\n",
       "      </g>\n",
       "      <g id=\"5463f72d-3cf1-4e33-93a9-bd1ddef52c50-mapping\" font-size=\"0.25\" font-family=\"monospace\" text-anchor=\"end\">\n",
       "        <text x=\"-2.14\" y=\"-0.41\" dx=\"-0.15\" dy=\"0.35\">1</text>\n",
       "        <text x=\"-1.43\" y=\"-0.00\" dx=\"-0.05\" dy=\"0.20\">2</text>\n",
       "        <text x=\"-0.71\" y=\"-0.41\" dx=\"-0.05\" dy=\"0.20\">3</text>\n",
       "        <text x=\"-0.71\" y=\"-1.24\" dx=\"-0.15\" dy=\"0.35\">4</text>\n",
       "        <text x=\"0.00\" y=\"-0.00\" dx=\"-0.15\" dy=\"0.35\">5</text>\n",
       "      </g>\n",
       "      <mask id=\"5463f72d-3cf1-4e33-93a9-bd1ddef52c50-mask\">\n",
       "        <rect x=\"-2.77\" y=\"-1.86\" width=\"4.14\" height=\"2.49\" fill=\"white\"/>\n",
       "        <g>\n",
       "          <circle cx=\"-2.14\" cy=\"-0.41\" r=\"0.20\"/>\n",
       "          <circle cx=\"-0.71\" cy=\"-1.24\" r=\"0.20\"/>\n",
       "          <circle cx=\"0.00\" cy=\"-0.00\" r=\"0.20\"/>\n",
       "        </g>\n",
       "        <g stroke=\"black\">\n",
       "          <use xlink:href=\"#5463f72d-3cf1-4e33-93a9-bd1ddef52c50-symbols\" stroke-width=\"0.05\"/>\n",
       "          <use xlink:href=\"#5463f72d-3cf1-4e33-93a9-bd1ddef52c50-mapping\" stroke-width=\"0.03\"/>\n",
       "        </g>\n",
       "      </mask>\n",
       "    </defs>\n",
       "    <g fill=\"none\" stroke=\"black\" stroke-width=\"0.04\" mask=\"url(#5463f72d-3cf1-4e33-93a9-bd1ddef52c50-mask)\">\n",
       "      <line x1=\"-2.14\" y1=\"-0.41\" x2=\"-1.43\" y2=\"-0.00\"/>\n",
       "      <line x1=\"-1.43\" y1=\"-0.00\" x2=\"-0.71\" y2=\"-0.41\"/>\n",
       "      <line x1=\"-0.77\" y1=\"-0.41\" x2=\"-0.77\" y2=\"-1.24\"/>\n",
       "      <line x1=\"-0.65\" y1=\"-0.41\" x2=\"-0.65\" y2=\"-1.24\"/>\n",
       "      <line x1=\"-0.71\" y1=\"-0.41\" x2=\"0.00\" y2=\"-0.00\"/>\n",
       "    </g>\n",
       "    <g font-size=\"0.50\" font-family=\"sans-serif\">\n",
       "      <use xlink:href=\"#5463f72d-3cf1-4e33-93a9-bd1ddef52c50-1\" fill=\"#3050F8\"/>\n",
       "      <use xlink:href=\"#5463f72d-3cf1-4e33-93a9-bd1ddef52c50-4\" fill=\"#FF0D0D\"/>\n",
       "      <use xlink:href=\"#5463f72d-3cf1-4e33-93a9-bd1ddef52c50-5\" fill=\"#FF0D0D\"/>\n",
       "    </g>\n",
       "    <use xlink:href=\"#5463f72d-3cf1-4e33-93a9-bd1ddef52c50-mapping\" fill=\"#0305A7\"/>\n",
       "  </g>\n",
       "</svg>"
      ],
      "text/plain": [
       "<chython.containers.molecule.MoleculeContainer at 0x1682c036cc0>"
      ]
     },
     "execution_count": 34,
     "metadata": {},
     "output_type": "execute_result"
    }
   ],
   "source": [
    "m = smiles('[NH3+]CC(=O)[O-]')\n",
    "m.clean2d()\n",
    "m.neutralize() # fix zwitter-ions\n",
    "m"
   ]
  },
  {
   "cell_type": "markdown",
   "metadata": {
    "pycharm": {
     "name": "#%% md\n"
    }
   },
   "source": [
    "Molecules has `explicify_hydrogens` and `implicify_hydrogens` methods to handle hydrogens.\n",
    "\n",
    "This methods is used to add or remove hydrogens in molecule.\n",
    "\n",
    "Note `implicify_hydrogens` working for aromatic rings only in `kekule` form. `explicify_hydrogens` for `aromatized` forms required `kekule` and optionally `thiele` procedures applied before."
   ]
  },
  {
   "cell_type": "code",
   "execution_count": 35,
   "metadata": {
    "pycharm": {
     "name": "#%%\n"
    }
   },
   "outputs": [
    {
     "name": "stdout",
     "output_type": "stream",
     "text": [
      "5\n"
     ]
    },
    {
     "data": {
      "image/svg+xml": [
       "<svg width=\"5.57cm\" height=\"3.20cm\" viewBox=\"-4.20 -1.75 5.57 3.20\" xmlns=\"http://www.w3.org/2000/svg\" xmlns:xlink=\"http://www.w3.org/1999/xlink\" version=\"1.1\">\n",
       "  <g id=\"430f6e89-5095-4d77-87a7-5f1c1a264014-molecule\">\n",
       "    <defs>\n",
       "      <g id=\"430f6e89-5095-4d77-87a7-5f1c1a264014-symbols\" font-size=\"0.50\" font-family=\"sans-serif\">\n",
       "        <text id=\"430f6e89-5095-4d77-87a7-5f1c1a264014-1\" x=\"-2.86\" y=\"-0.00\" dx=\"-0.20\" dy=\"0.20\">N</text>\n",
       "        <text id=\"430f6e89-5095-4d77-87a7-5f1c1a264014-4\" x=\"-1.43\" y=\"0.82\" dx=\"-0.20\" dy=\"0.20\">O</text>\n",
       "        <text id=\"430f6e89-5095-4d77-87a7-5f1c1a264014-5\" x=\"-0.71\" y=\"-0.41\" dx=\"-0.20\" dy=\"0.20\">O</text>\n",
       "        <text id=\"430f6e89-5095-4d77-87a7-5f1c1a264014-6\" x=\"-2.86\" y=\"0.82\" dx=\"-0.20\" dy=\"0.20\">H</text>\n",
       "        <text id=\"430f6e89-5095-4d77-87a7-5f1c1a264014-7\" x=\"-3.57\" y=\"-0.41\" dx=\"-0.20\" dy=\"0.20\">H</text>\n",
       "        <text id=\"430f6e89-5095-4d77-87a7-5f1c1a264014-8\" x=\"-2.56\" y=\"-1.13\" dx=\"-0.20\" dy=\"0.20\">H</text>\n",
       "        <text id=\"430f6e89-5095-4d77-87a7-5f1c1a264014-9\" x=\"-1.73\" y=\"-1.13\" dx=\"-0.20\" dy=\"0.20\">H</text>\n",
       "        <text id=\"430f6e89-5095-4d77-87a7-5f1c1a264014-10\" x=\"0.00\" y=\"-0.00\" dx=\"-0.20\" dy=\"0.20\">H</text>\n",
       "      </g>\n",
       "      <g id=\"430f6e89-5095-4d77-87a7-5f1c1a264014-mapping\" font-size=\"0.25\" font-family=\"monospace\" text-anchor=\"end\">\n",
       "        <text x=\"-2.86\" y=\"-0.00\" dx=\"-0.15\" dy=\"0.35\">1</text>\n",
       "        <text x=\"-2.14\" y=\"-0.41\" dx=\"-0.05\" dy=\"0.20\">2</text>\n",
       "        <text x=\"-1.43\" y=\"-0.00\" dx=\"-0.05\" dy=\"0.20\">3</text>\n",
       "        <text x=\"-1.43\" y=\"0.82\" dx=\"-0.15\" dy=\"0.35\">4</text>\n",
       "        <text x=\"-0.71\" y=\"-0.41\" dx=\"-0.15\" dy=\"0.35\">5</text>\n",
       "        <text x=\"-2.86\" y=\"0.82\" dx=\"-0.15\" dy=\"0.35\">6</text>\n",
       "        <text x=\"-3.57\" y=\"-0.41\" dx=\"-0.15\" dy=\"0.35\">7</text>\n",
       "        <text x=\"-2.56\" y=\"-1.13\" dx=\"-0.15\" dy=\"0.35\">8</text>\n",
       "        <text x=\"-1.73\" y=\"-1.13\" dx=\"-0.15\" dy=\"0.35\">9</text>\n",
       "        <text x=\"0.00\" y=\"-0.00\" dx=\"-0.15\" dy=\"0.35\">10</text>\n",
       "      </g>\n",
       "      <mask id=\"430f6e89-5095-4d77-87a7-5f1c1a264014-mask\">\n",
       "        <rect x=\"-4.20\" y=\"-1.75\" width=\"5.57\" height=\"3.20\" fill=\"white\"/>\n",
       "        <g>\n",
       "          <circle cx=\"-2.86\" cy=\"-0.00\" r=\"0.20\"/>\n",
       "          <circle cx=\"-1.43\" cy=\"0.82\" r=\"0.20\"/>\n",
       "          <circle cx=\"-0.71\" cy=\"-0.41\" r=\"0.20\"/>\n",
       "          <circle cx=\"-2.86\" cy=\"0.82\" r=\"0.20\"/>\n",
       "          <circle cx=\"-3.57\" cy=\"-0.41\" r=\"0.20\"/>\n",
       "          <circle cx=\"-2.56\" cy=\"-1.13\" r=\"0.20\"/>\n",
       "          <circle cx=\"-1.73\" cy=\"-1.13\" r=\"0.20\"/>\n",
       "          <circle cx=\"0.00\" cy=\"-0.00\" r=\"0.20\"/>\n",
       "        </g>\n",
       "        <g stroke=\"black\">\n",
       "          <use xlink:href=\"#430f6e89-5095-4d77-87a7-5f1c1a264014-symbols\" stroke-width=\"0.05\"/>\n",
       "          <use xlink:href=\"#430f6e89-5095-4d77-87a7-5f1c1a264014-mapping\" stroke-width=\"0.03\"/>\n",
       "        </g>\n",
       "      </mask>\n",
       "    </defs>\n",
       "    <g fill=\"none\" stroke=\"black\" stroke-width=\"0.04\" mask=\"url(#430f6e89-5095-4d77-87a7-5f1c1a264014-mask)\">\n",
       "      <line x1=\"-2.86\" y1=\"-0.00\" x2=\"-2.14\" y2=\"-0.41\"/>\n",
       "      <line x1=\"-2.86\" y1=\"-0.00\" x2=\"-2.86\" y2=\"0.82\"/>\n",
       "      <line x1=\"-2.86\" y1=\"-0.00\" x2=\"-3.57\" y2=\"-0.41\"/>\n",
       "      <line x1=\"-2.14\" y1=\"-0.41\" x2=\"-1.43\" y2=\"-0.00\"/>\n",
       "      <line x1=\"-2.14\" y1=\"-0.41\" x2=\"-2.56\" y2=\"-1.13\"/>\n",
       "      <line x1=\"-2.14\" y1=\"-0.41\" x2=\"-1.73\" y2=\"-1.13\"/>\n",
       "      <line x1=\"-1.37\" y1=\"-0.00\" x2=\"-1.37\" y2=\"0.82\"/>\n",
       "      <line x1=\"-1.49\" y1=\"-0.00\" x2=\"-1.49\" y2=\"0.82\"/>\n",
       "      <line x1=\"-1.43\" y1=\"-0.00\" x2=\"-0.71\" y2=\"-0.41\"/>\n",
       "      <line x1=\"-0.71\" y1=\"-0.41\" x2=\"0.00\" y2=\"-0.00\"/>\n",
       "    </g>\n",
       "    <g font-size=\"0.50\" font-family=\"sans-serif\">\n",
       "      <use xlink:href=\"#430f6e89-5095-4d77-87a7-5f1c1a264014-1\" fill=\"#3050F8\"/>\n",
       "      <use xlink:href=\"#430f6e89-5095-4d77-87a7-5f1c1a264014-4\" fill=\"#FF0D0D\"/>\n",
       "      <use xlink:href=\"#430f6e89-5095-4d77-87a7-5f1c1a264014-5\" fill=\"#FF0D0D\"/>\n",
       "      <use xlink:href=\"#430f6e89-5095-4d77-87a7-5f1c1a264014-6\" fill=\"#909090\"/>\n",
       "      <use xlink:href=\"#430f6e89-5095-4d77-87a7-5f1c1a264014-7\" fill=\"#909090\"/>\n",
       "      <use xlink:href=\"#430f6e89-5095-4d77-87a7-5f1c1a264014-8\" fill=\"#909090\"/>\n",
       "      <use xlink:href=\"#430f6e89-5095-4d77-87a7-5f1c1a264014-9\" fill=\"#909090\"/>\n",
       "      <use xlink:href=\"#430f6e89-5095-4d77-87a7-5f1c1a264014-10\" fill=\"#909090\"/>\n",
       "    </g>\n",
       "    <use xlink:href=\"#430f6e89-5095-4d77-87a7-5f1c1a264014-mapping\" fill=\"#0305A7\"/>\n",
       "  </g>\n",
       "</svg>"
      ],
      "text/plain": [
       "<chython.containers.molecule.MoleculeContainer at 0x1682c036cc0>"
      ]
     },
     "execution_count": 35,
     "metadata": {},
     "output_type": "execute_result"
    }
   ],
   "source": [
    "print(m.explicify_hydrogens()) # return number of added hydrogens\n",
    "m.clean2d()\n",
    "m"
   ]
  },
  {
   "cell_type": "code",
   "execution_count": 36,
   "metadata": {
    "pycharm": {
     "name": "#%%\n"
    }
   },
   "outputs": [
    {
     "data": {
      "image/svg+xml": [
       "<svg width=\"4.14cm\" height=\"2.49cm\" viewBox=\"-3.48 -1.04 4.14 2.49\" xmlns=\"http://www.w3.org/2000/svg\" xmlns:xlink=\"http://www.w3.org/1999/xlink\" version=\"1.1\">\n",
       "  <g id=\"bf087a1e-9831-4a37-aa05-4d6717ef46ad-molecule\">\n",
       "    <defs>\n",
       "      <g id=\"bf087a1e-9831-4a37-aa05-4d6717ef46ad-symbols\" font-size=\"0.50\" font-family=\"sans-serif\">\n",
       "        <text id=\"bf087a1e-9831-4a37-aa05-4d6717ef46ad-1\" x=\"-2.86\" y=\"-0.00\" dx=\"-0.20\" dy=\"0.20\">NH<tspan  dy=\"0.15\" font-size=\"0.35\">2</tspan></text>\n",
       "        <text id=\"bf087a1e-9831-4a37-aa05-4d6717ef46ad-4\" x=\"-1.43\" y=\"0.82\" dx=\"-0.20\" dy=\"0.20\">O</text>\n",
       "        <text id=\"bf087a1e-9831-4a37-aa05-4d6717ef46ad-5\" x=\"-0.71\" y=\"-0.41\" dx=\"-0.20\" dy=\"0.20\">OH</text>\n",
       "      </g>\n",
       "      <g id=\"bf087a1e-9831-4a37-aa05-4d6717ef46ad-mapping\" font-size=\"0.25\" font-family=\"monospace\" text-anchor=\"end\">\n",
       "        <text x=\"-2.86\" y=\"-0.00\" dx=\"-0.15\" dy=\"0.35\">1</text>\n",
       "        <text x=\"-2.14\" y=\"-0.41\" dx=\"-0.05\" dy=\"0.20\">2</text>\n",
       "        <text x=\"-1.43\" y=\"-0.00\" dx=\"-0.05\" dy=\"0.20\">3</text>\n",
       "        <text x=\"-1.43\" y=\"0.82\" dx=\"-0.15\" dy=\"0.35\">4</text>\n",
       "        <text x=\"-0.71\" y=\"-0.41\" dx=\"-0.15\" dy=\"0.35\">5</text>\n",
       "      </g>\n",
       "      <mask id=\"bf087a1e-9831-4a37-aa05-4d6717ef46ad-mask\">\n",
       "        <rect x=\"-3.48\" y=\"-1.04\" width=\"4.14\" height=\"2.49\" fill=\"white\"/>\n",
       "        <g>\n",
       "          <circle cx=\"-2.86\" cy=\"-0.00\" r=\"0.20\"/>\n",
       "          <circle cx=\"-1.43\" cy=\"0.82\" r=\"0.20\"/>\n",
       "          <circle cx=\"-0.71\" cy=\"-0.41\" r=\"0.20\"/>\n",
       "        </g>\n",
       "        <g stroke=\"black\">\n",
       "          <use xlink:href=\"#bf087a1e-9831-4a37-aa05-4d6717ef46ad-symbols\" stroke-width=\"0.05\"/>\n",
       "          <use xlink:href=\"#bf087a1e-9831-4a37-aa05-4d6717ef46ad-mapping\" stroke-width=\"0.03\"/>\n",
       "        </g>\n",
       "      </mask>\n",
       "    </defs>\n",
       "    <g fill=\"none\" stroke=\"black\" stroke-width=\"0.04\" mask=\"url(#bf087a1e-9831-4a37-aa05-4d6717ef46ad-mask)\">\n",
       "      <line x1=\"-2.86\" y1=\"-0.00\" x2=\"-2.14\" y2=\"-0.41\"/>\n",
       "      <line x1=\"-2.14\" y1=\"-0.41\" x2=\"-1.43\" y2=\"-0.00\"/>\n",
       "      <line x1=\"-1.37\" y1=\"-0.00\" x2=\"-1.37\" y2=\"0.82\"/>\n",
       "      <line x1=\"-1.49\" y1=\"-0.00\" x2=\"-1.49\" y2=\"0.82\"/>\n",
       "      <line x1=\"-1.43\" y1=\"-0.00\" x2=\"-0.71\" y2=\"-0.41\"/>\n",
       "    </g>\n",
       "    <g font-size=\"0.50\" font-family=\"sans-serif\">\n",
       "      <use xlink:href=\"#bf087a1e-9831-4a37-aa05-4d6717ef46ad-1\" fill=\"#3050F8\"/>\n",
       "      <use xlink:href=\"#bf087a1e-9831-4a37-aa05-4d6717ef46ad-4\" fill=\"#FF0D0D\"/>\n",
       "      <use xlink:href=\"#bf087a1e-9831-4a37-aa05-4d6717ef46ad-5\" fill=\"#FF0D0D\"/>\n",
       "    </g>\n",
       "    <use xlink:href=\"#bf087a1e-9831-4a37-aa05-4d6717ef46ad-mapping\" fill=\"#0305A7\"/>\n",
       "  </g>\n",
       "</svg>"
      ],
      "text/plain": [
       "<chython.containers.molecule.MoleculeContainer at 0x1682c036cc0>"
      ]
     },
     "execution_count": 36,
     "metadata": {},
     "output_type": "execute_result"
    }
   ],
   "source": [
    "m.implicify_hydrogens()\n",
    "m"
   ]
  },
  {
   "cell_type": "markdown",
   "metadata": {
    "pycharm": {
     "name": "#%% md\n"
    }
   },
   "source": [
    "To use GPU for AAM calculations, specify device:\n",
    "\n",
    "    import chython\n",
    "    chython.torch_device = 'cuda'\n",
    "\n",
    "Note: `reset_mapping` loads torch neural network once. So, it is impossible to change device on the fly. Do it before first call of `reset_mapping`! To parallelize AAM with multiprocessing, call `reset_mapping` only in workers, to avoid bottleneck with single GPU model."
   ]
  },
  {
   "cell_type": "code",
   "execution_count": 37,
   "metadata": {
    "pycharm": {
     "name": "#%%\n"
    }
   },
   "outputs": [
    {
     "name": "stdout",
     "output_type": "stream",
     "text": [
      "errors: [2, 4, 5, 6, 7, 8, 9]\n",
      "errors: [2]\n"
     ]
    },
    {
     "data": {
      "image/svg+xml": [
       "<svg width=\"5.57cm\" height=\"2.90cm\" viewBox=\"-2.77 -1.04 5.57 2.90\" xmlns=\"http://www.w3.org/2000/svg\" xmlns:xlink=\"http://www.w3.org/1999/xlink\" version=\"1.1\">\n",
       "  <g id=\"1c4609d1-1a8c-48ad-b77c-fcb828cad9bc-molecule\">\n",
       "    <defs>\n",
       "      <g id=\"1c4609d1-1a8c-48ad-b77c-fcb828cad9bc-symbols\" font-size=\"0.50\" font-family=\"sans-serif\">\n",
       "        <text id=\"1c4609d1-1a8c-48ad-b77c-fcb828cad9bc-2\" x=\"-1.43\" y=\"0.00\" dx=\"-0.20\" dy=\"0.20\">N</text>\n",
       "      </g>\n",
       "      <g id=\"1c4609d1-1a8c-48ad-b77c-fcb828cad9bc-mapping\" font-size=\"0.25\" font-family=\"monospace\" text-anchor=\"end\">\n",
       "        <text x=\"-2.14\" y=\"0.41\" dx=\"-0.05\" dy=\"0.20\">1</text>\n",
       "        <text x=\"-1.43\" y=\"0.00\" dx=\"-0.15\" dy=\"0.35\">2</text>\n",
       "        <text x=\"-0.71\" y=\"-0.41\" dx=\"-0.05\" dy=\"0.20\">3</text>\n",
       "        <text x=\"0.00\" y=\"-0.00\" dx=\"-0.05\" dy=\"0.20\">4</text>\n",
       "        <text x=\"0.71\" y=\"-0.41\" dx=\"-0.05\" dy=\"0.20\">5</text>\n",
       "        <text x=\"1.43\" y=\"-0.00\" dx=\"-0.05\" dy=\"0.20\">6</text>\n",
       "        <text x=\"1.43\" y=\"0.82\" dx=\"-0.05\" dy=\"0.20\">7</text>\n",
       "        <text x=\"0.71\" y=\"1.24\" dx=\"-0.05\" dy=\"0.20\">8</text>\n",
       "        <text x=\"0.00\" y=\"0.82\" dx=\"-0.05\" dy=\"0.20\">9</text>\n",
       "      </g>\n",
       "      <mask id=\"1c4609d1-1a8c-48ad-b77c-fcb828cad9bc-mask\">\n",
       "        <rect x=\"-2.77\" y=\"-1.04\" width=\"5.57\" height=\"2.90\" fill=\"white\"/>\n",
       "        <g>\n",
       "          <circle cx=\"-1.43\" cy=\"0.00\" r=\"0.20\"/>\n",
       "        </g>\n",
       "        <g stroke=\"black\">\n",
       "          <use xlink:href=\"#1c4609d1-1a8c-48ad-b77c-fcb828cad9bc-symbols\" stroke-width=\"0.05\"/>\n",
       "          <use xlink:href=\"#1c4609d1-1a8c-48ad-b77c-fcb828cad9bc-mapping\" stroke-width=\"0.03\"/>\n",
       "        </g>\n",
       "      </mask>\n",
       "    </defs>\n",
       "    <g fill=\"none\" stroke=\"black\" stroke-width=\"0.04\" mask=\"url(#1c4609d1-1a8c-48ad-b77c-fcb828cad9bc-mask)\">\n",
       "      <line x1=\"-2.17\" y1=\"0.36\" x2=\"-1.46\" y2=\"-0.05\"/>\n",
       "      <line x1=\"-2.11\" y1=\"0.46\" x2=\"-1.40\" y2=\"0.05\"/>\n",
       "      <line x1=\"-1.46\" y1=\"-0.05\" x2=\"-0.74\" y2=\"-0.46\"/>\n",
       "      <line x1=\"-1.40\" y1=\"0.05\" x2=\"-0.68\" y2=\"-0.36\"/>\n",
       "      <line x1=\"-0.71\" y1=\"-0.41\" x2=\"0.00\" y2=\"-0.00\"/>\n",
       "      <line x1=\"0.00\" y1=\"-0.00\" x2=\"0.71\" y2=\"-0.41\"/>\n",
       "      <line x1=\"0.00\" y1=\"-0.00\" x2=\"0.00\" y2=\"0.82\"/>\n",
       "      <line x1=\"0.71\" y1=\"-0.41\" x2=\"1.43\" y2=\"-0.00\"/>\n",
       "      <line x1=\"1.43\" y1=\"-0.00\" x2=\"1.43\" y2=\"0.82\"/>\n",
       "      <line x1=\"1.43\" y1=\"0.82\" x2=\"0.71\" y2=\"1.24\"/>\n",
       "      <line x1=\"0.71\" y1=\"1.24\" x2=\"0.00\" y2=\"0.82\"/>\n",
       "      <line x1=\"0.14\" y1=\"0.08\" x2=\"0.71\" y2=\"-0.25\" stroke-dasharray=\"0.15 0.05\"/>\n",
       "      <line x1=\"0.71\" y1=\"-0.25\" x2=\"1.29\" y2=\"0.08\" stroke-dasharray=\"0.15 0.05\"/>\n",
       "      <line x1=\"1.29\" y1=\"0.08\" x2=\"1.29\" y2=\"0.74\" stroke-dasharray=\"0.15 0.05\"/>\n",
       "      <line x1=\"1.29\" y1=\"0.74\" x2=\"0.71\" y2=\"1.08\" stroke-dasharray=\"0.15 0.05\"/>\n",
       "      <line x1=\"0.71\" y1=\"1.08\" x2=\"0.14\" y2=\"0.74\" stroke-dasharray=\"0.15 0.05\"/>\n",
       "      <line x1=\"0.14\" y1=\"0.74\" x2=\"0.14\" y2=\"0.08\" stroke-dasharray=\"0.15 0.05\"/>\n",
       "    </g>\n",
       "    <g font-size=\"0.50\" font-family=\"sans-serif\">\n",
       "      <use xlink:href=\"#1c4609d1-1a8c-48ad-b77c-fcb828cad9bc-2\" fill=\"#3050F8\"/>\n",
       "    </g>\n",
       "    <use xlink:href=\"#1c4609d1-1a8c-48ad-b77c-fcb828cad9bc-mapping\" fill=\"#0305A7\"/>\n",
       "  </g>\n",
       "</svg>"
      ],
      "text/plain": [
       "<chython.containers.molecule.MoleculeContainer at 0x1682c036e00>"
      ]
     },
     "execution_count": 37,
     "metadata": {},
     "output_type": "execute_result"
    }
   ],
   "source": [
    "m = smiles('C=N=Cc1ccccc1')\n",
    "print('errors:', m.check_valence()) # atoms with valence problems. aromatic rings should be kekulized (canonicaqlized) to check problems\n",
    "m.canonicalize()\n",
    "print('errors:', m.check_valence())\n",
    "m.clean2d()\n",
    "m"
   ]
  },
  {
   "cell_type": "markdown",
   "metadata": {
    "pycharm": {
     "name": "#%% md\n"
    }
   },
   "source": [
    "## 3.2. Reactions\n",
    "ReactionContainer has same methods as molecules. In this case they are applied to all molecules in reaction.\n",
    "\n",
    "`explicify_hydrogen` method try to keep atom-to-atom mapping.\n",
    "\n",
    "Reaction specific methods:\n",
    "\n",
    "* `remove_reagents` - move reactants to reagents. based on atom-to-atom mapping.\n",
    "* `contract_ions` - merge ions in single multicomponent molecule.\n",
    "* `reset_mapping` - perfom atom-to-atom mapping. Required chytorch-rxnmap package.\n",
    "* `fix_mapping` - rule based atom-to-atom mapping fix for known mistakes."
   ]
  },
  {
   "cell_type": "code",
   "execution_count": 38,
   "metadata": {
    "pycharm": {
     "name": "#%%\n"
    }
   },
   "outputs": [
    {
     "data": {
      "image/svg+xml": [
       "<svg width=\"12.13cm\" height=\"2.68cm\" viewBox=\"-0.62 -1.34 12.13 2.68\" xmlns=\"http://www.w3.org/2000/svg\" xmlns:xlink=\"http://www.w3.org/1999/xlink\" version=\"1.1\">\n",
       "  <defs>\n",
       "    <marker id=\"arrow\" markerWidth=\"10\" markerHeight=\"10\" refX=\"0\" refY=\"3\" orient=\"auto\">\n",
       "      <path d=\"M0,0 L0,6 L9,3\"/>\n",
       "    </marker>\n",
       "  </defs>\n",
       "  <line x1=\"5.89\" y1=\"0\" x2=\"7.89\" y2=\"0\" fill=\"none\" stroke=\"black\" stroke-width=\".04\" marker-end=\"url(#arrow)\"/>\n",
       "  <g fill=\"none\" stroke=\"black\" stroke-width=\".04\">\n",
       "    <line x1=\"0.75\" y1=\"0\" x2=\"1.05\" y2=\"0\"/>\n",
       "    <line x1=\"0.90\" y1=\"0.15\" x2=\"0.90\" y2=\"-0.15\"/>\n",
       "    <line x1=\"2.10\" y1=\"0\" x2=\"2.40\" y2=\"0\"/>\n",
       "    <line x1=\"2.25\" y1=\"0.15\" x2=\"2.25\" y2=\"-0.15\"/>\n",
       "  </g>\n",
       "  <g id=\"c340c2b8-cd83-4cf7-b2e9-d795deeae848-molecule\">\n",
       "    <defs>\n",
       "      <g id=\"c340c2b8-cd83-4cf7-b2e9-d795deeae848-symbols\" font-size=\"0.50\" font-family=\"sans-serif\">\n",
       "        <text id=\"c340c2b8-cd83-4cf7-b2e9-d795deeae848-1\" x=\"0.20\" y=\"-0.00\" dx=\"-0.35\" dy=\"0.20\">Na</text>\n",
       "      </g>\n",
       "      <g id=\"c340c2b8-cd83-4cf7-b2e9-d795deeae848-attrs\" font-size=\"0.30\" font-family=\"monospace\">\n",
       "        <text x=\"0.20\" y=\"-0.00\" dx=\"0.05\" dy=\"-0.20\">+</text>\n",
       "      </g>\n",
       "      <g id=\"c340c2b8-cd83-4cf7-b2e9-d795deeae848-mapping\" font-size=\"0.25\" font-family=\"monospace\" text-anchor=\"end\">\n",
       "        <text x=\"0.20\" y=\"-0.00\" dx=\"-0.30\" dy=\"0.35\">1</text>\n",
       "      </g>\n",
       "    </defs>\n",
       "    <g font-size=\"0.50\" font-family=\"sans-serif\">\n",
       "      <use xlink:href=\"#c340c2b8-cd83-4cf7-b2e9-d795deeae848-1\" fill=\"#AB5CF2\"/>\n",
       "    </g>\n",
       "    <use xlink:href=\"#c340c2b8-cd83-4cf7-b2e9-d795deeae848-attrs\" fill=\"black\"/>\n",
       "    <use xlink:href=\"#c340c2b8-cd83-4cf7-b2e9-d795deeae848-mapping\" fill=\"#0305A7\"/>\n",
       "  </g>\n",
       "  <g id=\"f5261350-3905-4d72-aa01-757005dff13c-molecule\">\n",
       "    <defs>\n",
       "      <g id=\"f5261350-3905-4d72-aa01-757005dff13c-symbols\" font-size=\"0.50\" font-family=\"sans-serif\">\n",
       "        <text id=\"f5261350-3905-4d72-aa01-757005dff13c-2\" x=\"1.40\" y=\"-0.00\" dx=\"-0.20\" dy=\"0.20\">OH</text>\n",
       "      </g>\n",
       "      <g id=\"f5261350-3905-4d72-aa01-757005dff13c-attrs\" font-size=\"0.30\" font-family=\"monospace\">\n",
       "        <text x=\"1.40\" y=\"-0.00\" dx=\"0.05\" dy=\"-0.20\">-</text>\n",
       "      </g>\n",
       "      <g id=\"f5261350-3905-4d72-aa01-757005dff13c-mapping\" font-size=\"0.25\" font-family=\"monospace\" text-anchor=\"end\">\n",
       "        <text x=\"1.40\" y=\"-0.00\" dx=\"-0.15\" dy=\"0.35\">2</text>\n",
       "      </g>\n",
       "    </defs>\n",
       "    <g font-size=\"0.50\" font-family=\"sans-serif\">\n",
       "      <use xlink:href=\"#f5261350-3905-4d72-aa01-757005dff13c-2\" fill=\"#FF0D0D\"/>\n",
       "    </g>\n",
       "    <use xlink:href=\"#f5261350-3905-4d72-aa01-757005dff13c-attrs\" fill=\"black\"/>\n",
       "    <use xlink:href=\"#f5261350-3905-4d72-aa01-757005dff13c-mapping\" fill=\"#0305A7\"/>\n",
       "  </g>\n",
       "  <g id=\"64afd9a5-3875-4787-8373-073baf0ea28a-molecule\">\n",
       "    <defs>\n",
       "      <g id=\"64afd9a5-3875-4787-8373-073baf0ea28a-symbols\" font-size=\"0.50\" font-family=\"sans-serif\">\n",
       "        <text id=\"64afd9a5-3875-4787-8373-073baf0ea28a-5\" x=\"4.18\" y=\"-0.62\" dx=\"-0.20\" dy=\"0.20\">O</text>\n",
       "        <text id=\"64afd9a5-3875-4787-8373-073baf0ea28a-6\" x=\"2.75\" y=\"-0.62\" dx=\"-0.20\" dy=\"0.20\">O</text>\n",
       "      </g>\n",
       "      <g id=\"64afd9a5-3875-4787-8373-073baf0ea28a-mapping\" font-size=\"0.25\" font-family=\"monospace\" text-anchor=\"end\">\n",
       "        <text x=\"4.89\" y=\"-0.21\" dx=\"-0.05\" dy=\"0.20\">7</text>\n",
       "        <text x=\"4.18\" y=\"-0.62\" dx=\"-0.15\" dy=\"0.35\">5</text>\n",
       "        <text x=\"3.46\" y=\"-0.21\" dx=\"-0.05\" dy=\"0.20\">4</text>\n",
       "        <text x=\"3.46\" y=\"0.62\" dx=\"-0.05\" dy=\"0.20\">3</text>\n",
       "        <text x=\"2.75\" y=\"-0.62\" dx=\"-0.15\" dy=\"0.35\">6</text>\n",
       "      </g>\n",
       "      <mask id=\"64afd9a5-3875-4787-8373-073baf0ea28a-mask\">\n",
       "        <rect x=\"-0.62\" y=\"-1.34\" width=\"12.13\" height=\"2.68\" fill=\"white\"/>\n",
       "        <g>\n",
       "          <circle cx=\"4.18\" cy=\"-0.62\" r=\"0.20\"/>\n",
       "          <circle cx=\"2.75\" cy=\"-0.62\" r=\"0.20\"/>\n",
       "        </g>\n",
       "        <g stroke=\"black\">\n",
       "          <use xlink:href=\"#64afd9a5-3875-4787-8373-073baf0ea28a-symbols\" stroke-width=\"0.05\"/>\n",
       "          <use xlink:href=\"#64afd9a5-3875-4787-8373-073baf0ea28a-mapping\" stroke-width=\"0.03\"/>\n",
       "        </g>\n",
       "      </mask>\n",
       "    </defs>\n",
       "    <g fill=\"none\" stroke=\"black\" stroke-width=\"0.04\" mask=\"url(#64afd9a5-3875-4787-8373-073baf0ea28a-mask)\">\n",
       "      <line x1=\"4.89\" y1=\"-0.21\" x2=\"4.18\" y2=\"-0.62\"/>\n",
       "      <line x1=\"4.18\" y1=\"-0.62\" x2=\"3.46\" y2=\"-0.21\"/>\n",
       "      <line x1=\"3.46\" y1=\"-0.21\" x2=\"3.46\" y2=\"0.62\"/>\n",
       "      <line x1=\"3.43\" y1=\"-0.15\" x2=\"2.72\" y2=\"-0.57\"/>\n",
       "      <line x1=\"3.49\" y1=\"-0.26\" x2=\"2.78\" y2=\"-0.67\"/>\n",
       "    </g>\n",
       "    <g font-size=\"0.50\" font-family=\"sans-serif\">\n",
       "      <use xlink:href=\"#64afd9a5-3875-4787-8373-073baf0ea28a-5\" fill=\"#FF0D0D\"/>\n",
       "      <use xlink:href=\"#64afd9a5-3875-4787-8373-073baf0ea28a-6\" fill=\"#FF0D0D\"/>\n",
       "    </g>\n",
       "    <use xlink:href=\"#64afd9a5-3875-4787-8373-073baf0ea28a-mapping\" fill=\"#0305A7\"/>\n",
       "  </g>\n",
       "  <g id=\"ae123f3e-2bf2-4187-ab2a-3d4c3734d5a9-molecule\">\n",
       "    <defs>\n",
       "      <g id=\"ae123f3e-2bf2-4187-ab2a-3d4c3734d5a9-symbols\" font-size=\"0.50\" font-family=\"sans-serif\">\n",
       "        <text id=\"ae123f3e-2bf2-4187-ab2a-3d4c3734d5a9-8\" x=\"10.13\" y=\"-0.71\" dx=\"-0.20\" dy=\"0.20\">OH</text>\n",
       "        <text id=\"ae123f3e-2bf2-4187-ab2a-3d4c3734d5a9-6\" x=\"10.13\" y=\"0.71\" dx=\"-0.20\" dy=\"0.20\">O</text>\n",
       "      </g>\n",
       "      <g id=\"ae123f3e-2bf2-4187-ab2a-3d4c3734d5a9-mapping\" font-size=\"0.25\" font-family=\"monospace\" text-anchor=\"end\">\n",
       "        <text x=\"8.89\" y=\"-0.00\" dx=\"-0.05\" dy=\"0.20\">3</text>\n",
       "        <text x=\"9.72\" y=\"-0.00\" dx=\"-0.05\" dy=\"0.20\">4</text>\n",
       "        <text x=\"10.13\" y=\"-0.71\" dx=\"-0.15\" dy=\"0.35\">8</text>\n",
       "        <text x=\"10.13\" y=\"0.71\" dx=\"-0.15\" dy=\"0.35\">6</text>\n",
       "      </g>\n",
       "      <mask id=\"ae123f3e-2bf2-4187-ab2a-3d4c3734d5a9-mask\">\n",
       "        <rect x=\"-0.62\" y=\"-1.34\" width=\"12.13\" height=\"2.68\" fill=\"white\"/>\n",
       "        <g>\n",
       "          <circle cx=\"10.13\" cy=\"-0.71\" r=\"0.20\"/>\n",
       "          <circle cx=\"10.13\" cy=\"0.71\" r=\"0.20\"/>\n",
       "        </g>\n",
       "        <g stroke=\"black\">\n",
       "          <use xlink:href=\"#ae123f3e-2bf2-4187-ab2a-3d4c3734d5a9-symbols\" stroke-width=\"0.05\"/>\n",
       "          <use xlink:href=\"#ae123f3e-2bf2-4187-ab2a-3d4c3734d5a9-mapping\" stroke-width=\"0.03\"/>\n",
       "        </g>\n",
       "      </mask>\n",
       "    </defs>\n",
       "    <g fill=\"none\" stroke=\"black\" stroke-width=\"0.04\" mask=\"url(#ae123f3e-2bf2-4187-ab2a-3d4c3734d5a9-mask)\">\n",
       "      <line x1=\"8.89\" y1=\"-0.00\" x2=\"9.72\" y2=\"-0.00\"/>\n",
       "      <line x1=\"9.72\" y1=\"-0.00\" x2=\"10.13\" y2=\"-0.71\"/>\n",
       "      <line x1=\"9.77\" y1=\"-0.03\" x2=\"10.18\" y2=\"0.68\"/>\n",
       "      <line x1=\"9.67\" y1=\"0.03\" x2=\"10.08\" y2=\"0.74\"/>\n",
       "    </g>\n",
       "    <g font-size=\"0.50\" font-family=\"sans-serif\">\n",
       "      <use xlink:href=\"#ae123f3e-2bf2-4187-ab2a-3d4c3734d5a9-8\" fill=\"#FF0D0D\"/>\n",
       "      <use xlink:href=\"#ae123f3e-2bf2-4187-ab2a-3d4c3734d5a9-6\" fill=\"#FF0D0D\"/>\n",
       "    </g>\n",
       "    <use xlink:href=\"#ae123f3e-2bf2-4187-ab2a-3d4c3734d5a9-mapping\" fill=\"#0305A7\"/>\n",
       "  </g>\n",
       "</svg>"
      ],
      "text/plain": [
       "<chython.containers.reaction.ReactionContainer at 0x1682c0dbf40>"
      ]
     },
     "execution_count": 38,
     "metadata": {},
     "output_type": "execute_result"
    }
   ],
   "source": [
    "r = smiles('[Na+:1].[OH-:2].[CH3:7][O:5][C:4]([CH3:3])=[O:6]>>[CH3:3][C:4]([OH:8])=[O:6]') # mapping required\n",
    "r.clean2d()\n",
    "r"
   ]
  },
  {
   "cell_type": "code",
   "execution_count": 39,
   "metadata": {
    "pycharm": {
     "name": "#%%\n"
    }
   },
   "outputs": [
    {
     "data": {
      "image/svg+xml": [
       "<svg width=\"11.93cm\" height=\"2.68cm\" viewBox=\"-0.62 -1.34 11.93 2.68\" xmlns=\"http://www.w3.org/2000/svg\" xmlns:xlink=\"http://www.w3.org/1999/xlink\" version=\"1.1\">\n",
       "  <defs>\n",
       "    <marker id=\"arrow\" markerWidth=\"10\" markerHeight=\"10\" refX=\"0\" refY=\"3\" orient=\"auto\">\n",
       "      <path d=\"M0,0 L0,6 L9,3\"/>\n",
       "    </marker>\n",
       "  </defs>\n",
       "  <line x1=\"5.69\" y1=\"0\" x2=\"7.69\" y2=\"0\" fill=\"none\" stroke=\"black\" stroke-width=\".04\" marker-end=\"url(#arrow)\"/>\n",
       "  <g fill=\"none\" stroke=\"black\" stroke-width=\".04\">\n",
       "    <line x1=\"2.69\" y1=\"0\" x2=\"2.99\" y2=\"0\"/>\n",
       "    <line x1=\"2.84\" y1=\"0.15\" x2=\"2.84\" y2=\"-0.15\"/>\n",
       "  </g>\n",
       "  <g id=\"5d7fc8d1-8df0-49ef-b743-1fb3281ec8a4-molecule\">\n",
       "    <defs>\n",
       "      <g id=\"5d7fc8d1-8df0-49ef-b743-1fb3281ec8a4-symbols\" font-size=\"0.50\" font-family=\"sans-serif\">\n",
       "        <text id=\"5d7fc8d1-8df0-49ef-b743-1fb3281ec8a4-5\" x=\"1.43\" y=\"-0.62\" dx=\"-0.20\" dy=\"0.20\">O</text>\n",
       "        <text id=\"5d7fc8d1-8df0-49ef-b743-1fb3281ec8a4-6\" x=\"0.00\" y=\"-0.62\" dx=\"-0.20\" dy=\"0.20\">O</text>\n",
       "      </g>\n",
       "      <g id=\"5d7fc8d1-8df0-49ef-b743-1fb3281ec8a4-mapping\" font-size=\"0.25\" font-family=\"monospace\" text-anchor=\"end\">\n",
       "        <text x=\"2.14\" y=\"-0.21\" dx=\"-0.05\" dy=\"0.20\">7</text>\n",
       "        <text x=\"1.43\" y=\"-0.62\" dx=\"-0.15\" dy=\"0.35\">5</text>\n",
       "        <text x=\"0.71\" y=\"-0.21\" dx=\"-0.05\" dy=\"0.20\">4</text>\n",
       "        <text x=\"0.71\" y=\"0.62\" dx=\"-0.05\" dy=\"0.20\">3</text>\n",
       "        <text x=\"0.00\" y=\"-0.62\" dx=\"-0.15\" dy=\"0.35\">6</text>\n",
       "      </g>\n",
       "      <mask id=\"5d7fc8d1-8df0-49ef-b743-1fb3281ec8a4-mask\">\n",
       "        <rect x=\"-0.62\" y=\"-1.34\" width=\"11.93\" height=\"2.68\" fill=\"white\"/>\n",
       "        <g>\n",
       "          <circle cx=\"1.43\" cy=\"-0.62\" r=\"0.20\"/>\n",
       "          <circle cx=\"0.00\" cy=\"-0.62\" r=\"0.20\"/>\n",
       "        </g>\n",
       "        <g stroke=\"black\">\n",
       "          <use xlink:href=\"#5d7fc8d1-8df0-49ef-b743-1fb3281ec8a4-symbols\" stroke-width=\"0.05\"/>\n",
       "          <use xlink:href=\"#5d7fc8d1-8df0-49ef-b743-1fb3281ec8a4-mapping\" stroke-width=\"0.03\"/>\n",
       "        </g>\n",
       "      </mask>\n",
       "    </defs>\n",
       "    <g fill=\"none\" stroke=\"black\" stroke-width=\"0.04\" mask=\"url(#5d7fc8d1-8df0-49ef-b743-1fb3281ec8a4-mask)\">\n",
       "      <line x1=\"2.14\" y1=\"-0.21\" x2=\"1.43\" y2=\"-0.62\"/>\n",
       "      <line x1=\"1.43\" y1=\"-0.62\" x2=\"0.71\" y2=\"-0.21\"/>\n",
       "      <line x1=\"0.71\" y1=\"-0.21\" x2=\"0.71\" y2=\"0.62\"/>\n",
       "      <line x1=\"0.68\" y1=\"-0.15\" x2=\"-0.03\" y2=\"-0.57\"/>\n",
       "      <line x1=\"0.74\" y1=\"-0.26\" x2=\"0.03\" y2=\"-0.67\"/>\n",
       "    </g>\n",
       "    <g font-size=\"0.50\" font-family=\"sans-serif\">\n",
       "      <use xlink:href=\"#5d7fc8d1-8df0-49ef-b743-1fb3281ec8a4-5\" fill=\"#FF0D0D\"/>\n",
       "      <use xlink:href=\"#5d7fc8d1-8df0-49ef-b743-1fb3281ec8a4-6\" fill=\"#FF0D0D\"/>\n",
       "    </g>\n",
       "    <use xlink:href=\"#5d7fc8d1-8df0-49ef-b743-1fb3281ec8a4-mapping\" fill=\"#0305A7\"/>\n",
       "  </g>\n",
       "  <g id=\"eb893f44-bc6a-4bb2-8cb8-4e6a2b2a8e41-molecule\">\n",
       "    <defs>\n",
       "      <g id=\"eb893f44-bc6a-4bb2-8cb8-4e6a2b2a8e41-symbols\" font-size=\"0.50\" font-family=\"sans-serif\">\n",
       "        <text id=\"eb893f44-bc6a-4bb2-8cb8-4e6a2b2a8e41-1\" x=\"3.54\" y=\"-0.00\" dx=\"-0.35\" dy=\"0.20\">Na</text>\n",
       "        <text id=\"eb893f44-bc6a-4bb2-8cb8-4e6a2b2a8e41-2\" x=\"4.54\" y=\"-0.00\" dx=\"-0.20\" dy=\"0.20\">OH</text>\n",
       "      </g>\n",
       "      <g id=\"eb893f44-bc6a-4bb2-8cb8-4e6a2b2a8e41-attrs\" font-size=\"0.30\" font-family=\"monospace\">\n",
       "        <text x=\"3.54\" y=\"-0.00\" dx=\"0.05\" dy=\"-0.20\">+</text>\n",
       "        <text x=\"4.54\" y=\"-0.00\" dx=\"0.05\" dy=\"-0.20\">-</text>\n",
       "      </g>\n",
       "      <g id=\"eb893f44-bc6a-4bb2-8cb8-4e6a2b2a8e41-mapping\" font-size=\"0.25\" font-family=\"monospace\" text-anchor=\"end\">\n",
       "        <text x=\"3.54\" y=\"-0.00\" dx=\"-0.30\" dy=\"0.35\">1</text>\n",
       "        <text x=\"4.54\" y=\"-0.00\" dx=\"-0.15\" dy=\"0.35\">2</text>\n",
       "      </g>\n",
       "    </defs>\n",
       "    <g font-size=\"0.50\" font-family=\"sans-serif\">\n",
       "      <use xlink:href=\"#eb893f44-bc6a-4bb2-8cb8-4e6a2b2a8e41-1\" fill=\"#AB5CF2\"/>\n",
       "      <use xlink:href=\"#eb893f44-bc6a-4bb2-8cb8-4e6a2b2a8e41-2\" fill=\"#FF0D0D\"/>\n",
       "    </g>\n",
       "    <use xlink:href=\"#eb893f44-bc6a-4bb2-8cb8-4e6a2b2a8e41-attrs\" fill=\"black\"/>\n",
       "    <use xlink:href=\"#eb893f44-bc6a-4bb2-8cb8-4e6a2b2a8e41-mapping\" fill=\"#0305A7\"/>\n",
       "  </g>\n",
       "  <g id=\"4420f63d-c570-4fb5-a85d-13c913067ecc-molecule\">\n",
       "    <defs>\n",
       "      <g id=\"4420f63d-c570-4fb5-a85d-13c913067ecc-symbols\" font-size=\"0.50\" font-family=\"sans-serif\">\n",
       "        <text id=\"4420f63d-c570-4fb5-a85d-13c913067ecc-8\" x=\"9.93\" y=\"-0.71\" dx=\"-0.20\" dy=\"0.20\">OH</text>\n",
       "        <text id=\"4420f63d-c570-4fb5-a85d-13c913067ecc-6\" x=\"9.93\" y=\"0.71\" dx=\"-0.20\" dy=\"0.20\">O</text>\n",
       "      </g>\n",
       "      <g id=\"4420f63d-c570-4fb5-a85d-13c913067ecc-mapping\" font-size=\"0.25\" font-family=\"monospace\" text-anchor=\"end\">\n",
       "        <text x=\"8.69\" y=\"-0.00\" dx=\"-0.05\" dy=\"0.20\">3</text>\n",
       "        <text x=\"9.52\" y=\"-0.00\" dx=\"-0.05\" dy=\"0.20\">4</text>\n",
       "        <text x=\"9.93\" y=\"-0.71\" dx=\"-0.15\" dy=\"0.35\">8</text>\n",
       "        <text x=\"9.93\" y=\"0.71\" dx=\"-0.15\" dy=\"0.35\">6</text>\n",
       "      </g>\n",
       "      <mask id=\"4420f63d-c570-4fb5-a85d-13c913067ecc-mask\">\n",
       "        <rect x=\"-0.62\" y=\"-1.34\" width=\"11.93\" height=\"2.68\" fill=\"white\"/>\n",
       "        <g>\n",
       "          <circle cx=\"9.93\" cy=\"-0.71\" r=\"0.20\"/>\n",
       "          <circle cx=\"9.93\" cy=\"0.71\" r=\"0.20\"/>\n",
       "        </g>\n",
       "        <g stroke=\"black\">\n",
       "          <use xlink:href=\"#4420f63d-c570-4fb5-a85d-13c913067ecc-symbols\" stroke-width=\"0.05\"/>\n",
       "          <use xlink:href=\"#4420f63d-c570-4fb5-a85d-13c913067ecc-mapping\" stroke-width=\"0.03\"/>\n",
       "        </g>\n",
       "      </mask>\n",
       "    </defs>\n",
       "    <g fill=\"none\" stroke=\"black\" stroke-width=\"0.04\" mask=\"url(#4420f63d-c570-4fb5-a85d-13c913067ecc-mask)\">\n",
       "      <line x1=\"8.69\" y1=\"-0.00\" x2=\"9.52\" y2=\"-0.00\"/>\n",
       "      <line x1=\"9.52\" y1=\"-0.00\" x2=\"9.93\" y2=\"-0.71\"/>\n",
       "      <line x1=\"9.57\" y1=\"-0.03\" x2=\"9.98\" y2=\"0.68\"/>\n",
       "      <line x1=\"9.47\" y1=\"0.03\" x2=\"9.88\" y2=\"0.74\"/>\n",
       "    </g>\n",
       "    <g font-size=\"0.50\" font-family=\"sans-serif\">\n",
       "      <use xlink:href=\"#4420f63d-c570-4fb5-a85d-13c913067ecc-8\" fill=\"#FF0D0D\"/>\n",
       "      <use xlink:href=\"#4420f63d-c570-4fb5-a85d-13c913067ecc-6\" fill=\"#FF0D0D\"/>\n",
       "    </g>\n",
       "    <use xlink:href=\"#4420f63d-c570-4fb5-a85d-13c913067ecc-mapping\" fill=\"#0305A7\"/>\n",
       "  </g>\n",
       "</svg>"
      ],
      "text/plain": [
       "<chython.containers.reaction.ReactionContainer at 0x1682c0dbf40>"
      ]
     },
     "execution_count": 39,
     "metadata": {},
     "output_type": "execute_result"
    }
   ],
   "source": [
    "r.contract_ions()\n",
    "r"
   ]
  },
  {
   "cell_type": "code",
   "execution_count": 40,
   "metadata": {
    "pycharm": {
     "name": "#%%\n"
    }
   },
   "outputs": [
    {
     "data": {
      "image/svg+xml": [
       "<svg width=\"9.38cm\" height=\"2.68cm\" viewBox=\"-0.62 -1.34 9.38 2.68\" xmlns=\"http://www.w3.org/2000/svg\" xmlns:xlink=\"http://www.w3.org/1999/xlink\" version=\"1.1\">\n",
       "  <defs>\n",
       "    <marker id=\"arrow\" markerWidth=\"10\" markerHeight=\"10\" refX=\"0\" refY=\"3\" orient=\"auto\">\n",
       "      <path d=\"M0,0 L0,6 L9,3\"/>\n",
       "    </marker>\n",
       "  </defs>\n",
       "  <line x1=\"3.14\" y1=\"0\" x2=\"5.14\" y2=\"0\" fill=\"none\" stroke=\"black\" stroke-width=\".04\" marker-end=\"url(#arrow)\"/>\n",
       "  <g id=\"083c6867-e891-4453-8583-2c6702a9aeaa-molecule\">\n",
       "    <defs>\n",
       "      <g id=\"083c6867-e891-4453-8583-2c6702a9aeaa-symbols\" font-size=\"0.50\" font-family=\"sans-serif\">\n",
       "        <text id=\"083c6867-e891-4453-8583-2c6702a9aeaa-5\" x=\"1.43\" y=\"-0.62\" dx=\"-0.20\" dy=\"0.20\">O</text>\n",
       "        <text id=\"083c6867-e891-4453-8583-2c6702a9aeaa-6\" x=\"0.00\" y=\"-0.62\" dx=\"-0.20\" dy=\"0.20\">O</text>\n",
       "      </g>\n",
       "      <g id=\"083c6867-e891-4453-8583-2c6702a9aeaa-mapping\" font-size=\"0.25\" font-family=\"monospace\" text-anchor=\"end\">\n",
       "        <text x=\"2.14\" y=\"-0.21\" dx=\"-0.05\" dy=\"0.20\">7</text>\n",
       "        <text x=\"1.43\" y=\"-0.62\" dx=\"-0.15\" dy=\"0.35\">5</text>\n",
       "        <text x=\"0.71\" y=\"-0.21\" dx=\"-0.05\" dy=\"0.20\">4</text>\n",
       "        <text x=\"0.71\" y=\"0.62\" dx=\"-0.05\" dy=\"0.20\">3</text>\n",
       "        <text x=\"0.00\" y=\"-0.62\" dx=\"-0.15\" dy=\"0.35\">6</text>\n",
       "      </g>\n",
       "      <mask id=\"083c6867-e891-4453-8583-2c6702a9aeaa-mask\">\n",
       "        <rect x=\"-0.62\" y=\"-1.34\" width=\"9.38\" height=\"2.68\" fill=\"white\"/>\n",
       "        <g>\n",
       "          <circle cx=\"1.43\" cy=\"-0.62\" r=\"0.20\"/>\n",
       "          <circle cx=\"0.00\" cy=\"-0.62\" r=\"0.20\"/>\n",
       "        </g>\n",
       "        <g stroke=\"black\">\n",
       "          <use xlink:href=\"#083c6867-e891-4453-8583-2c6702a9aeaa-symbols\" stroke-width=\"0.05\"/>\n",
       "          <use xlink:href=\"#083c6867-e891-4453-8583-2c6702a9aeaa-mapping\" stroke-width=\"0.03\"/>\n",
       "        </g>\n",
       "      </mask>\n",
       "    </defs>\n",
       "    <g fill=\"none\" stroke=\"black\" stroke-width=\"0.04\" mask=\"url(#083c6867-e891-4453-8583-2c6702a9aeaa-mask)\">\n",
       "      <line x1=\"2.14\" y1=\"-0.21\" x2=\"1.43\" y2=\"-0.62\"/>\n",
       "      <line x1=\"1.43\" y1=\"-0.62\" x2=\"0.71\" y2=\"-0.21\"/>\n",
       "      <line x1=\"0.71\" y1=\"-0.21\" x2=\"0.71\" y2=\"0.62\"/>\n",
       "      <line x1=\"0.68\" y1=\"-0.15\" x2=\"-0.03\" y2=\"-0.57\"/>\n",
       "      <line x1=\"0.74\" y1=\"-0.26\" x2=\"0.03\" y2=\"-0.67\"/>\n",
       "    </g>\n",
       "    <g font-size=\"0.50\" font-family=\"sans-serif\">\n",
       "      <use xlink:href=\"#083c6867-e891-4453-8583-2c6702a9aeaa-5\" fill=\"#FF0D0D\"/>\n",
       "      <use xlink:href=\"#083c6867-e891-4453-8583-2c6702a9aeaa-6\" fill=\"#FF0D0D\"/>\n",
       "    </g>\n",
       "    <use xlink:href=\"#083c6867-e891-4453-8583-2c6702a9aeaa-mapping\" fill=\"#0305A7\"/>\n",
       "  </g>\n",
       "  <g id=\"e0f68a6c-d356-4419-831f-d1240cc17db6-molecule\">\n",
       "    <defs>\n",
       "      <g id=\"e0f68a6c-d356-4419-831f-d1240cc17db6-symbols\" font-size=\"0.50\" font-family=\"sans-serif\">\n",
       "        <text id=\"e0f68a6c-d356-4419-831f-d1240cc17db6-1\" x=\"3.54\" y=\"-0.50\" dx=\"-0.35\" dy=\"0.20\">Na</text>\n",
       "        <text id=\"e0f68a6c-d356-4419-831f-d1240cc17db6-2\" x=\"4.54\" y=\"-0.50\" dx=\"-0.20\" dy=\"0.20\">OH</text>\n",
       "      </g>\n",
       "      <g id=\"e0f68a6c-d356-4419-831f-d1240cc17db6-attrs\" font-size=\"0.30\" font-family=\"monospace\">\n",
       "        <text x=\"3.54\" y=\"-0.50\" dx=\"0.05\" dy=\"-0.20\">+</text>\n",
       "        <text x=\"4.54\" y=\"-0.50\" dx=\"0.05\" dy=\"-0.20\">-</text>\n",
       "      </g>\n",
       "      <g id=\"e0f68a6c-d356-4419-831f-d1240cc17db6-mapping\" font-size=\"0.25\" font-family=\"monospace\" text-anchor=\"end\">\n",
       "        <text x=\"3.54\" y=\"-0.50\" dx=\"-0.30\" dy=\"0.35\">1</text>\n",
       "        <text x=\"4.54\" y=\"-0.50\" dx=\"-0.15\" dy=\"0.35\">2</text>\n",
       "      </g>\n",
       "    </defs>\n",
       "    <g font-size=\"0.50\" font-family=\"sans-serif\">\n",
       "      <use xlink:href=\"#e0f68a6c-d356-4419-831f-d1240cc17db6-1\" fill=\"#AB5CF2\"/>\n",
       "      <use xlink:href=\"#e0f68a6c-d356-4419-831f-d1240cc17db6-2\" fill=\"#FF0D0D\"/>\n",
       "    </g>\n",
       "    <use xlink:href=\"#e0f68a6c-d356-4419-831f-d1240cc17db6-attrs\" fill=\"black\"/>\n",
       "    <use xlink:href=\"#e0f68a6c-d356-4419-831f-d1240cc17db6-mapping\" fill=\"#0305A7\"/>\n",
       "  </g>\n",
       "  <g id=\"723191da-85fe-4ffd-b1f0-bcfe1446a12e-molecule\">\n",
       "    <defs>\n",
       "      <g id=\"723191da-85fe-4ffd-b1f0-bcfe1446a12e-symbols\" font-size=\"0.50\" font-family=\"sans-serif\">\n",
       "        <text id=\"723191da-85fe-4ffd-b1f0-bcfe1446a12e-8\" x=\"7.38\" y=\"-0.71\" dx=\"-0.20\" dy=\"0.20\">OH</text>\n",
       "        <text id=\"723191da-85fe-4ffd-b1f0-bcfe1446a12e-6\" x=\"7.38\" y=\"0.71\" dx=\"-0.20\" dy=\"0.20\">O</text>\n",
       "      </g>\n",
       "      <g id=\"723191da-85fe-4ffd-b1f0-bcfe1446a12e-mapping\" font-size=\"0.25\" font-family=\"monospace\" text-anchor=\"end\">\n",
       "        <text x=\"6.14\" y=\"-0.00\" dx=\"-0.05\" dy=\"0.20\">3</text>\n",
       "        <text x=\"6.97\" y=\"-0.00\" dx=\"-0.05\" dy=\"0.20\">4</text>\n",
       "        <text x=\"7.38\" y=\"-0.71\" dx=\"-0.15\" dy=\"0.35\">8</text>\n",
       "        <text x=\"7.38\" y=\"0.71\" dx=\"-0.15\" dy=\"0.35\">6</text>\n",
       "      </g>\n",
       "      <mask id=\"723191da-85fe-4ffd-b1f0-bcfe1446a12e-mask\">\n",
       "        <rect x=\"-0.62\" y=\"-1.34\" width=\"9.38\" height=\"2.68\" fill=\"white\"/>\n",
       "        <g>\n",
       "          <circle cx=\"7.38\" cy=\"-0.71\" r=\"0.20\"/>\n",
       "          <circle cx=\"7.38\" cy=\"0.71\" r=\"0.20\"/>\n",
       "        </g>\n",
       "        <g stroke=\"black\">\n",
       "          <use xlink:href=\"#723191da-85fe-4ffd-b1f0-bcfe1446a12e-symbols\" stroke-width=\"0.05\"/>\n",
       "          <use xlink:href=\"#723191da-85fe-4ffd-b1f0-bcfe1446a12e-mapping\" stroke-width=\"0.03\"/>\n",
       "        </g>\n",
       "      </mask>\n",
       "    </defs>\n",
       "    <g fill=\"none\" stroke=\"black\" stroke-width=\"0.04\" mask=\"url(#723191da-85fe-4ffd-b1f0-bcfe1446a12e-mask)\">\n",
       "      <line x1=\"6.14\" y1=\"-0.00\" x2=\"6.97\" y2=\"-0.00\"/>\n",
       "      <line x1=\"6.97\" y1=\"-0.00\" x2=\"7.38\" y2=\"-0.71\"/>\n",
       "      <line x1=\"7.02\" y1=\"-0.03\" x2=\"7.43\" y2=\"0.68\"/>\n",
       "      <line x1=\"6.92\" y1=\"0.03\" x2=\"7.33\" y2=\"0.74\"/>\n",
       "    </g>\n",
       "    <g font-size=\"0.50\" font-family=\"sans-serif\">\n",
       "      <use xlink:href=\"#723191da-85fe-4ffd-b1f0-bcfe1446a12e-8\" fill=\"#FF0D0D\"/>\n",
       "      <use xlink:href=\"#723191da-85fe-4ffd-b1f0-bcfe1446a12e-6\" fill=\"#FF0D0D\"/>\n",
       "    </g>\n",
       "    <use xlink:href=\"#723191da-85fe-4ffd-b1f0-bcfe1446a12e-mapping\" fill=\"#0305A7\"/>\n",
       "  </g>\n",
       "</svg>"
      ],
      "text/plain": [
       "<chython.containers.reaction.ReactionContainer at 0x1682c0dbf40>"
      ]
     },
     "execution_count": 40,
     "metadata": {},
     "output_type": "execute_result"
    }
   ],
   "source": [
    "r.remove_reagents(keep_reagents=True)\n",
    "r"
   ]
  },
  {
   "cell_type": "code",
   "execution_count": 41,
   "metadata": {
    "pycharm": {
     "name": "#%%\n"
    }
   },
   "outputs": [
    {
     "data": {
      "image/svg+xml": [
       "<svg width=\"12.75cm\" height=\"4.00cm\" viewBox=\"-0.62 -2.00 12.75 4.00\" xmlns=\"http://www.w3.org/2000/svg\" xmlns:xlink=\"http://www.w3.org/1999/xlink\" version=\"1.1\">\n",
       "  <defs>\n",
       "    <marker id=\"arrow\" markerWidth=\"10\" markerHeight=\"10\" refX=\"0\" refY=\"3\" orient=\"auto\">\n",
       "      <path d=\"M0,0 L0,6 L9,3\"/>\n",
       "    </marker>\n",
       "  </defs>\n",
       "  <line x1=\"4.48\" y1=\"0\" x2=\"6.89\" y2=\"0\" fill=\"none\" stroke=\"black\" stroke-width=\".04\" marker-end=\"url(#arrow)\"/>\n",
       "  <g id=\"1804ed5a-ce5c-457b-a4d3-282ff0241b98-molecule\">\n",
       "    <defs>\n",
       "      <g id=\"1804ed5a-ce5c-457b-a4d3-282ff0241b98-symbols\" font-size=\"0.50\" font-family=\"sans-serif\">\n",
       "        <text id=\"1804ed5a-ce5c-457b-a4d3-282ff0241b98-5\" x=\"1.56\" y=\"-0.43\" dx=\"-0.20\" dy=\"0.20\">O</text>\n",
       "        <text id=\"1804ed5a-ce5c-457b-a4d3-282ff0241b98-6\" x=\"1.89\" y=\"1.11\" dx=\"-0.20\" dy=\"0.20\">O</text>\n",
       "        <text id=\"1804ed5a-ce5c-457b-a4d3-282ff0241b98-9\" x=\"0.72\" y=\"0.06\" dx=\"-0.20\" dy=\"0.20\">H</text>\n",
       "        <text id=\"1804ed5a-ce5c-457b-a4d3-282ff0241b98-10\" x=\"1.36\" y=\"-1.38\" dx=\"-0.20\" dy=\"0.20\">H</text>\n",
       "        <text id=\"1804ed5a-ce5c-457b-a4d3-282ff0241b98-11\" x=\"0.00\" y=\"-0.59\" dx=\"-0.20\" dy=\"0.20\">H</text>\n",
       "        <text id=\"1804ed5a-ce5c-457b-a4d3-282ff0241b98-12\" x=\"3.06\" y=\"-0.13\" dx=\"-0.20\" dy=\"0.20\">H</text>\n",
       "        <text id=\"1804ed5a-ce5c-457b-a4d3-282ff0241b98-13\" x=\"2.39\" y=\"1.38\" dx=\"-0.20\" dy=\"0.20\">H</text>\n",
       "        <text id=\"1804ed5a-ce5c-457b-a4d3-282ff0241b98-14\" x=\"3.48\" y=\"0.96\" dx=\"-0.20\" dy=\"0.20\">H</text>\n",
       "      </g>\n",
       "      <g id=\"1804ed5a-ce5c-457b-a4d3-282ff0241b98-mapping\" font-size=\"0.25\" font-family=\"monospace\" text-anchor=\"end\">\n",
       "        <text x=\"0.81\" y=\"-0.76\" dx=\"-0.05\" dy=\"0.20\">7</text>\n",
       "        <text x=\"1.56\" y=\"-0.43\" dx=\"-0.15\" dy=\"0.35\">5</text>\n",
       "        <text x=\"1.97\" y=\"0.29\" dx=\"-0.05\" dy=\"0.20\">4</text>\n",
       "        <text x=\"2.73\" y=\"0.62\" dx=\"-0.05\" dy=\"0.20\">3</text>\n",
       "        <text x=\"1.89\" y=\"1.11\" dx=\"-0.15\" dy=\"0.35\">6</text>\n",
       "        <text x=\"0.72\" y=\"0.06\" dx=\"-0.15\" dy=\"0.35\">9</text>\n",
       "        <text x=\"1.36\" y=\"-1.38\" dx=\"-0.15\" dy=\"0.35\">10</text>\n",
       "        <text x=\"0.00\" y=\"-0.59\" dx=\"-0.15\" dy=\"0.35\">11</text>\n",
       "        <text x=\"3.06\" y=\"-0.13\" dx=\"-0.15\" dy=\"0.35\">12</text>\n",
       "        <text x=\"2.39\" y=\"1.38\" dx=\"-0.15\" dy=\"0.35\">13</text>\n",
       "        <text x=\"3.48\" y=\"0.96\" dx=\"-0.15\" dy=\"0.35\">14</text>\n",
       "      </g>\n",
       "      <mask id=\"1804ed5a-ce5c-457b-a4d3-282ff0241b98-mask\">\n",
       "        <rect x=\"-0.62\" y=\"-2.00\" width=\"12.75\" height=\"4.00\" fill=\"white\"/>\n",
       "        <g>\n",
       "          <circle cx=\"1.56\" cy=\"-0.43\" r=\"0.20\"/>\n",
       "          <circle cx=\"1.89\" cy=\"1.11\" r=\"0.20\"/>\n",
       "          <circle cx=\"0.72\" cy=\"0.06\" r=\"0.20\"/>\n",
       "          <circle cx=\"1.36\" cy=\"-1.38\" r=\"0.20\"/>\n",
       "          <circle cx=\"0.00\" cy=\"-0.59\" r=\"0.20\"/>\n",
       "          <circle cx=\"3.06\" cy=\"-0.13\" r=\"0.20\"/>\n",
       "          <circle cx=\"2.39\" cy=\"1.38\" r=\"0.20\"/>\n",
       "          <circle cx=\"3.48\" cy=\"0.96\" r=\"0.20\"/>\n",
       "        </g>\n",
       "        <g stroke=\"black\">\n",
       "          <use xlink:href=\"#1804ed5a-ce5c-457b-a4d3-282ff0241b98-symbols\" stroke-width=\"0.05\"/>\n",
       "          <use xlink:href=\"#1804ed5a-ce5c-457b-a4d3-282ff0241b98-mapping\" stroke-width=\"0.03\"/>\n",
       "        </g>\n",
       "      </mask>\n",
       "    </defs>\n",
       "    <g fill=\"none\" stroke=\"black\" stroke-width=\"0.04\" mask=\"url(#1804ed5a-ce5c-457b-a4d3-282ff0241b98-mask)\">\n",
       "      <line x1=\"0.81\" y1=\"-0.76\" x2=\"1.56\" y2=\"-0.43\"/>\n",
       "      <line x1=\"0.81\" y1=\"-0.76\" x2=\"0.72\" y2=\"0.06\"/>\n",
       "      <line x1=\"0.81\" y1=\"-0.76\" x2=\"1.36\" y2=\"-1.38\"/>\n",
       "      <line x1=\"0.81\" y1=\"-0.76\" x2=\"0.00\" y2=\"-0.59\"/>\n",
       "      <line x1=\"1.56\" y1=\"-0.43\" x2=\"1.97\" y2=\"0.29\"/>\n",
       "      <line x1=\"1.97\" y1=\"0.29\" x2=\"2.73\" y2=\"0.62\"/>\n",
       "      <line x1=\"2.03\" y1=\"0.29\" x2=\"1.95\" y2=\"1.11\"/>\n",
       "      <line x1=\"1.91\" y1=\"0.28\" x2=\"1.83\" y2=\"1.10\"/>\n",
       "      <line x1=\"2.73\" y1=\"0.62\" x2=\"3.06\" y2=\"-0.13\"/>\n",
       "      <line x1=\"2.73\" y1=\"0.62\" x2=\"2.39\" y2=\"1.38\"/>\n",
       "      <line x1=\"2.73\" y1=\"0.62\" x2=\"3.48\" y2=\"0.96\"/>\n",
       "    </g>\n",
       "    <g font-size=\"0.50\" font-family=\"sans-serif\">\n",
       "      <use xlink:href=\"#1804ed5a-ce5c-457b-a4d3-282ff0241b98-5\" fill=\"#FF0D0D\"/>\n",
       "      <use xlink:href=\"#1804ed5a-ce5c-457b-a4d3-282ff0241b98-6\" fill=\"#FF0D0D\"/>\n",
       "      <use xlink:href=\"#1804ed5a-ce5c-457b-a4d3-282ff0241b98-9\" fill=\"#909090\"/>\n",
       "      <use xlink:href=\"#1804ed5a-ce5c-457b-a4d3-282ff0241b98-10\" fill=\"#909090\"/>\n",
       "      <use xlink:href=\"#1804ed5a-ce5c-457b-a4d3-282ff0241b98-11\" fill=\"#909090\"/>\n",
       "      <use xlink:href=\"#1804ed5a-ce5c-457b-a4d3-282ff0241b98-12\" fill=\"#909090\"/>\n",
       "      <use xlink:href=\"#1804ed5a-ce5c-457b-a4d3-282ff0241b98-13\" fill=\"#909090\"/>\n",
       "      <use xlink:href=\"#1804ed5a-ce5c-457b-a4d3-282ff0241b98-14\" fill=\"#909090\"/>\n",
       "    </g>\n",
       "    <use xlink:href=\"#1804ed5a-ce5c-457b-a4d3-282ff0241b98-mapping\" fill=\"#0305A7\"/>\n",
       "  </g>\n",
       "  <g id=\"ce60f935-74c5-4495-9d84-d44364494801-molecule\">\n",
       "    <defs>\n",
       "      <g id=\"ce60f935-74c5-4495-9d84-d44364494801-symbols\" font-size=\"0.50\" font-family=\"sans-serif\">\n",
       "        <text id=\"ce60f935-74c5-4495-9d84-d44364494801-1\" x=\"4.88\" y=\"-0.71\" dx=\"-0.35\" dy=\"0.20\">Na</text>\n",
       "        <text id=\"ce60f935-74c5-4495-9d84-d44364494801-2\" x=\"6.49\" y=\"-0.50\" dx=\"-0.20\" dy=\"0.20\">O</text>\n",
       "        <text id=\"ce60f935-74c5-4495-9d84-d44364494801-15\" x=\"5.78\" y=\"-0.91\" dx=\"-0.20\" dy=\"0.20\">H</text>\n",
       "      </g>\n",
       "      <g id=\"ce60f935-74c5-4495-9d84-d44364494801-attrs\" font-size=\"0.30\" font-family=\"monospace\">\n",
       "        <text x=\"4.88\" y=\"-0.71\" dx=\"0.05\" dy=\"-0.20\">+</text>\n",
       "        <text x=\"6.49\" y=\"-0.50\" dx=\"0.05\" dy=\"-0.20\">-</text>\n",
       "      </g>\n",
       "      <g id=\"ce60f935-74c5-4495-9d84-d44364494801-mapping\" font-size=\"0.25\" font-family=\"monospace\" text-anchor=\"end\">\n",
       "        <text x=\"4.88\" y=\"-0.71\" dx=\"-0.30\" dy=\"0.35\">1</text>\n",
       "        <text x=\"6.49\" y=\"-0.50\" dx=\"-0.15\" dy=\"0.35\">2</text>\n",
       "        <text x=\"5.78\" y=\"-0.91\" dx=\"-0.15\" dy=\"0.35\">15</text>\n",
       "      </g>\n",
       "      <mask id=\"ce60f935-74c5-4495-9d84-d44364494801-mask\">\n",
       "        <rect x=\"-0.62\" y=\"-2.00\" width=\"12.75\" height=\"4.00\" fill=\"white\"/>\n",
       "        <g>\n",
       "          <ellipse cx=\"4.81\" cy=\"-0.71\" rx=\"0.35\" ry=\"0.2\"/>\n",
       "          <circle cx=\"6.49\" cy=\"-0.50\" r=\"0.20\"/>\n",
       "          <circle cx=\"5.78\" cy=\"-0.91\" r=\"0.20\"/>\n",
       "        </g>\n",
       "        <g stroke=\"black\">\n",
       "          <use xlink:href=\"#ce60f935-74c5-4495-9d84-d44364494801-symbols\" stroke-width=\"0.05\"/>\n",
       "          <use xlink:href=\"#ce60f935-74c5-4495-9d84-d44364494801-attrs\" stroke-width=\"0.03\"/>\n",
       "          <use xlink:href=\"#ce60f935-74c5-4495-9d84-d44364494801-mapping\" stroke-width=\"0.03\"/>\n",
       "        </g>\n",
       "      </mask>\n",
       "    </defs>\n",
       "    <g fill=\"none\" stroke=\"black\" stroke-width=\"0.04\" mask=\"url(#ce60f935-74c5-4495-9d84-d44364494801-mask)\">\n",
       "      <line x1=\"-0.62\" y1=\"-2.00\" x2=\"12.13\" y2=\"-2.00\" stroke=\"none\"/>\n",
       "      <line x1=\"6.49\" y1=\"-0.50\" x2=\"5.78\" y2=\"-0.91\"/>\n",
       "    </g>\n",
       "    <g font-size=\"0.50\" font-family=\"sans-serif\">\n",
       "      <use xlink:href=\"#ce60f935-74c5-4495-9d84-d44364494801-1\" fill=\"#AB5CF2\"/>\n",
       "      <use xlink:href=\"#ce60f935-74c5-4495-9d84-d44364494801-2\" fill=\"#FF0D0D\"/>\n",
       "      <use xlink:href=\"#ce60f935-74c5-4495-9d84-d44364494801-15\" fill=\"#909090\"/>\n",
       "    </g>\n",
       "    <use xlink:href=\"#ce60f935-74c5-4495-9d84-d44364494801-attrs\" fill=\"black\"/>\n",
       "    <use xlink:href=\"#ce60f935-74c5-4495-9d84-d44364494801-mapping\" fill=\"#0305A7\"/>\n",
       "  </g>\n",
       "  <g id=\"f2eb95b2-0704-4720-ba12-82123c92d425-molecule\">\n",
       "    <defs>\n",
       "      <g id=\"f2eb95b2-0704-4720-ba12-82123c92d425-symbols\" font-size=\"0.50\" font-family=\"sans-serif\">\n",
       "        <text id=\"f2eb95b2-0704-4720-ba12-82123c92d425-8\" x=\"8.61\" y=\"-0.26\" dx=\"-0.20\" dy=\"0.20\">O</text>\n",
       "        <text id=\"f2eb95b2-0704-4720-ba12-82123c92d425-6\" x=\"9.32\" y=\"0.98\" dx=\"-0.20\" dy=\"0.20\">O</text>\n",
       "        <text id=\"f2eb95b2-0704-4720-ba12-82123c92d425-14\" x=\"10.45\" y=\"-0.98\" dx=\"-0.20\" dy=\"0.20\">H</text>\n",
       "        <text id=\"f2eb95b2-0704-4720-ba12-82123c92d425-13\" x=\"10.75\" y=\"0.15\" dx=\"-0.20\" dy=\"0.20\">H</text>\n",
       "        <text id=\"f2eb95b2-0704-4720-ba12-82123c92d425-12\" x=\"9.63\" y=\"-0.98\" dx=\"-0.20\" dy=\"0.20\">H</text>\n",
       "        <text id=\"f2eb95b2-0704-4720-ba12-82123c92d425-16\" x=\"7.89\" y=\"0.15\" dx=\"-0.20\" dy=\"0.20\">H</text>\n",
       "      </g>\n",
       "      <g id=\"f2eb95b2-0704-4720-ba12-82123c92d425-mapping\" font-size=\"0.25\" font-family=\"monospace\" text-anchor=\"end\">\n",
       "        <text x=\"10.04\" y=\"-0.26\" dx=\"-0.05\" dy=\"0.20\">3</text>\n",
       "        <text x=\"9.32\" y=\"0.15\" dx=\"-0.05\" dy=\"0.20\">4</text>\n",
       "        <text x=\"8.61\" y=\"-0.26\" dx=\"-0.15\" dy=\"0.35\">8</text>\n",
       "        <text x=\"9.32\" y=\"0.98\" dx=\"-0.15\" dy=\"0.35\">6</text>\n",
       "        <text x=\"10.45\" y=\"-0.98\" dx=\"-0.15\" dy=\"0.35\">14</text>\n",
       "        <text x=\"10.75\" y=\"0.15\" dx=\"-0.15\" dy=\"0.35\">13</text>\n",
       "        <text x=\"9.63\" y=\"-0.98\" dx=\"-0.15\" dy=\"0.35\">12</text>\n",
       "        <text x=\"7.89\" y=\"0.15\" dx=\"-0.15\" dy=\"0.35\">16</text>\n",
       "      </g>\n",
       "      <mask id=\"f2eb95b2-0704-4720-ba12-82123c92d425-mask\">\n",
       "        <rect x=\"-0.62\" y=\"-2.00\" width=\"12.75\" height=\"4.00\" fill=\"white\"/>\n",
       "        <g>\n",
       "          <circle cx=\"8.61\" cy=\"-0.26\" r=\"0.20\"/>\n",
       "          <circle cx=\"9.32\" cy=\"0.98\" r=\"0.20\"/>\n",
       "          <circle cx=\"10.45\" cy=\"-0.98\" r=\"0.20\"/>\n",
       "          <circle cx=\"10.75\" cy=\"0.15\" r=\"0.20\"/>\n",
       "          <circle cx=\"9.63\" cy=\"-0.98\" r=\"0.20\"/>\n",
       "          <circle cx=\"7.89\" cy=\"0.15\" r=\"0.20\"/>\n",
       "        </g>\n",
       "        <g stroke=\"black\">\n",
       "          <use xlink:href=\"#f2eb95b2-0704-4720-ba12-82123c92d425-symbols\" stroke-width=\"0.05\"/>\n",
       "          <use xlink:href=\"#f2eb95b2-0704-4720-ba12-82123c92d425-mapping\" stroke-width=\"0.03\"/>\n",
       "        </g>\n",
       "      </mask>\n",
       "    </defs>\n",
       "    <g fill=\"none\" stroke=\"black\" stroke-width=\"0.04\" mask=\"url(#f2eb95b2-0704-4720-ba12-82123c92d425-mask)\">\n",
       "      <line x1=\"10.04\" y1=\"-0.26\" x2=\"9.32\" y2=\"0.15\"/>\n",
       "      <line x1=\"10.04\" y1=\"-0.26\" x2=\"10.45\" y2=\"-0.98\"/>\n",
       "      <line x1=\"10.04\" y1=\"-0.26\" x2=\"10.75\" y2=\"0.15\"/>\n",
       "      <line x1=\"10.04\" y1=\"-0.26\" x2=\"9.63\" y2=\"-0.98\"/>\n",
       "      <line x1=\"9.32\" y1=\"0.15\" x2=\"8.61\" y2=\"-0.26\"/>\n",
       "      <line x1=\"9.38\" y1=\"0.15\" x2=\"9.38\" y2=\"0.98\"/>\n",
       "      <line x1=\"9.26\" y1=\"0.15\" x2=\"9.26\" y2=\"0.98\"/>\n",
       "      <line x1=\"8.61\" y1=\"-0.26\" x2=\"7.89\" y2=\"0.15\"/>\n",
       "    </g>\n",
       "    <g font-size=\"0.50\" font-family=\"sans-serif\">\n",
       "      <use xlink:href=\"#f2eb95b2-0704-4720-ba12-82123c92d425-8\" fill=\"#FF0D0D\"/>\n",
       "      <use xlink:href=\"#f2eb95b2-0704-4720-ba12-82123c92d425-6\" fill=\"#FF0D0D\"/>\n",
       "      <use xlink:href=\"#f2eb95b2-0704-4720-ba12-82123c92d425-14\" fill=\"#909090\"/>\n",
       "      <use xlink:href=\"#f2eb95b2-0704-4720-ba12-82123c92d425-13\" fill=\"#909090\"/>\n",
       "      <use xlink:href=\"#f2eb95b2-0704-4720-ba12-82123c92d425-12\" fill=\"#909090\"/>\n",
       "      <use xlink:href=\"#f2eb95b2-0704-4720-ba12-82123c92d425-16\" fill=\"#909090\"/>\n",
       "    </g>\n",
       "    <use xlink:href=\"#f2eb95b2-0704-4720-ba12-82123c92d425-mapping\" fill=\"#0305A7\"/>\n",
       "  </g>\n",
       "</svg>"
      ],
      "text/plain": [
       "<chython.containers.reaction.ReactionContainer at 0x1682c0dbf40>"
      ]
     },
     "execution_count": 41,
     "metadata": {},
     "output_type": "execute_result"
    }
   ],
   "source": [
    "r.explicify_hydrogens()\n",
    "r.clean2d()\n",
    "r"
   ]
  },
  {
   "cell_type": "code",
   "execution_count": 42,
   "metadata": {
    "pycharm": {
     "name": "#%%\n"
    }
   },
   "outputs": [
    {
     "data": {
      "image/svg+xml": [
       "<svg width=\"15.77cm\" height=\"3.72cm\" viewBox=\"-0.62 -1.86 15.77 3.72\" xmlns=\"http://www.w3.org/2000/svg\" xmlns:xlink=\"http://www.w3.org/1999/xlink\" version=\"1.1\">\n",
       "  <defs>\n",
       "    <marker id=\"arrow\" markerWidth=\"10\" markerHeight=\"10\" refX=\"0\" refY=\"3\" orient=\"auto\">\n",
       "      <path d=\"M0,0 L0,6 L9,3\"/>\n",
       "    </marker>\n",
       "  </defs>\n",
       "  <line x1=\"6.49\" y1=\"0\" x2=\"8.49\" y2=\"0\" fill=\"none\" stroke=\"black\" stroke-width=\".04\" marker-end=\"url(#arrow)\"/>\n",
       "  <g fill=\"none\" stroke=\"black\" stroke-width=\".04\">\n",
       "    <line x1=\"2.69\" y1=\"0\" x2=\"2.99\" y2=\"0\"/>\n",
       "    <line x1=\"2.84\" y1=\"0.15\" x2=\"2.84\" y2=\"-0.15\"/>\n",
       "  </g>\n",
       "  <g id=\"c865e7cf-131c-47fd-be41-27b03ca04521-molecule\">\n",
       "    <defs>\n",
       "      <g id=\"c865e7cf-131c-47fd-be41-27b03ca04521-symbols\" font-size=\"0.50\" font-family=\"sans-serif\">\n",
       "        <text id=\"c865e7cf-131c-47fd-be41-27b03ca04521-1\" x=\"2.14\" y=\"-0.83\" dx=\"-0.20\" dy=\"0.20\">OH</text>\n",
       "        <text id=\"c865e7cf-131c-47fd-be41-27b03ca04521-3\" x=\"0.71\" y=\"-0.82\" dx=\"-0.20\" dy=\"0.20\">O</text>\n",
       "      </g>\n",
       "      <g id=\"c865e7cf-131c-47fd-be41-27b03ca04521-mapping\" font-size=\"0.25\" font-family=\"monospace\" text-anchor=\"end\">\n",
       "        <text x=\"2.14\" y=\"-0.83\" dx=\"-0.15\" dy=\"0.35\">1</text>\n",
       "        <text x=\"1.43\" y=\"-0.41\" dx=\"-0.05\" dy=\"0.20\">2</text>\n",
       "        <text x=\"0.71\" y=\"-0.82\" dx=\"-0.15\" dy=\"0.35\">3</text>\n",
       "        <text x=\"1.43\" y=\"0.41\" dx=\"-0.05\" dy=\"0.20\">4</text>\n",
       "        <text x=\"2.14\" y=\"0.82\" dx=\"-0.05\" dy=\"0.20\">5</text>\n",
       "        <text x=\"0.71\" y=\"0.83\" dx=\"-0.05\" dy=\"0.20\">6</text>\n",
       "        <text x=\"0.00\" y=\"0.41\" dx=\"-0.05\" dy=\"0.20\">7</text>\n",
       "      </g>\n",
       "      <mask id=\"c865e7cf-131c-47fd-be41-27b03ca04521-mask\">\n",
       "        <rect x=\"-0.62\" y=\"-1.86\" width=\"15.77\" height=\"3.72\" fill=\"white\"/>\n",
       "        <g>\n",
       "          <circle cx=\"2.14\" cy=\"-0.83\" r=\"0.20\"/>\n",
       "          <circle cx=\"0.71\" cy=\"-0.82\" r=\"0.20\"/>\n",
       "        </g>\n",
       "        <g stroke=\"black\">\n",
       "          <use xlink:href=\"#c865e7cf-131c-47fd-be41-27b03ca04521-symbols\" stroke-width=\"0.05\"/>\n",
       "          <use xlink:href=\"#c865e7cf-131c-47fd-be41-27b03ca04521-mapping\" stroke-width=\"0.03\"/>\n",
       "        </g>\n",
       "      </mask>\n",
       "    </defs>\n",
       "    <g fill=\"none\" stroke=\"black\" stroke-width=\"0.04\" mask=\"url(#c865e7cf-131c-47fd-be41-27b03ca04521-mask)\">\n",
       "      <line x1=\"2.14\" y1=\"-0.83\" x2=\"1.43\" y2=\"-0.41\"/>\n",
       "      <line x1=\"1.40\" y1=\"-0.36\" x2=\"0.68\" y2=\"-0.77\"/>\n",
       "      <line x1=\"1.46\" y1=\"-0.46\" x2=\"0.74\" y2=\"-0.88\"/>\n",
       "      <line x1=\"1.43\" y1=\"-0.41\" x2=\"1.43\" y2=\"0.41\"/>\n",
       "      <line x1=\"1.46\" y1=\"0.36\" x2=\"2.17\" y2=\"0.77\"/>\n",
       "      <line x1=\"1.40\" y1=\"0.46\" x2=\"2.11\" y2=\"0.88\"/>\n",
       "      <line x1=\"1.43\" y1=\"0.41\" x2=\"0.71\" y2=\"0.83\"/>\n",
       "      <line x1=\"0.68\" y1=\"0.88\" x2=\"-0.03\" y2=\"0.46\"/>\n",
       "      <line x1=\"0.74\" y1=\"0.77\" x2=\"0.03\" y2=\"0.36\"/>\n",
       "    </g>\n",
       "    <g font-size=\"0.50\" font-family=\"sans-serif\">\n",
       "      <use xlink:href=\"#c865e7cf-131c-47fd-be41-27b03ca04521-1\" fill=\"#FF0D0D\"/>\n",
       "      <use xlink:href=\"#c865e7cf-131c-47fd-be41-27b03ca04521-3\" fill=\"#FF0D0D\"/>\n",
       "    </g>\n",
       "    <use xlink:href=\"#c865e7cf-131c-47fd-be41-27b03ca04521-mapping\" fill=\"#0305A7\"/>\n",
       "  </g>\n",
       "  <g id=\"95abc0e1-3546-4af8-bd4d-035e26499161-molecule\">\n",
       "    <defs>\n",
       "      <g id=\"95abc0e1-3546-4af8-bd4d-035e26499161-symbols\" font-size=\"0.50\" font-family=\"sans-serif\">\n",
       "        <text id=\"95abc0e1-3546-4af8-bd4d-035e26499161-11\" x=\"5.49\" y=\"0.21\" dx=\"-0.20\" dy=\"0.20\">N</text>\n",
       "      </g>\n",
       "      <g id=\"95abc0e1-3546-4af8-bd4d-035e26499161-mapping\" font-size=\"0.25\" font-family=\"monospace\" text-anchor=\"end\">\n",
       "        <text x=\"3.34\" y=\"-0.21\" dx=\"-0.05\" dy=\"0.20\">8</text>\n",
       "        <text x=\"4.06\" y=\"0.21\" dx=\"-0.05\" dy=\"0.20\">9</text>\n",
       "        <text x=\"4.77\" y=\"-0.21\" dx=\"-0.05\" dy=\"0.20\">10</text>\n",
       "        <text x=\"5.49\" y=\"0.21\" dx=\"-0.15\" dy=\"0.35\">11</text>\n",
       "      </g>\n",
       "      <mask id=\"95abc0e1-3546-4af8-bd4d-035e26499161-mask\">\n",
       "        <rect x=\"-0.62\" y=\"-1.86\" width=\"15.77\" height=\"3.72\" fill=\"white\"/>\n",
       "        <g>\n",
       "          <circle cx=\"5.49\" cy=\"0.21\" r=\"0.20\"/>\n",
       "        </g>\n",
       "        <g stroke=\"black\">\n",
       "          <use xlink:href=\"#95abc0e1-3546-4af8-bd4d-035e26499161-symbols\" stroke-width=\"0.05\"/>\n",
       "          <use xlink:href=\"#95abc0e1-3546-4af8-bd4d-035e26499161-mapping\" stroke-width=\"0.03\"/>\n",
       "        </g>\n",
       "      </mask>\n",
       "    </defs>\n",
       "    <g fill=\"none\" stroke=\"black\" stroke-width=\"0.04\" mask=\"url(#95abc0e1-3546-4af8-bd4d-035e26499161-mask)\">\n",
       "      <line x1=\"3.37\" y1=\"-0.26\" x2=\"4.09\" y2=\"0.15\"/>\n",
       "      <line x1=\"3.31\" y1=\"-0.15\" x2=\"4.03\" y2=\"0.26\"/>\n",
       "      <line x1=\"4.06\" y1=\"0.21\" x2=\"4.77\" y2=\"-0.21\"/>\n",
       "      <line x1=\"4.84\" y1=\"-0.32\" x2=\"5.55\" y2=\"0.09\"/>\n",
       "      <line x1=\"4.77\" y1=\"-0.21\" x2=\"5.49\" y2=\"0.21\"/>\n",
       "      <line x1=\"4.71\" y1=\"-0.09\" x2=\"5.42\" y2=\"0.32\"/>\n",
       "    </g>\n",
       "    <g font-size=\"0.50\" font-family=\"sans-serif\">\n",
       "      <use xlink:href=\"#95abc0e1-3546-4af8-bd4d-035e26499161-11\" fill=\"#3050F8\"/>\n",
       "    </g>\n",
       "    <use xlink:href=\"#95abc0e1-3546-4af8-bd4d-035e26499161-mapping\" fill=\"#0305A7\"/>\n",
       "  </g>\n",
       "  <g id=\"7c1b2ee6-d68e-4efd-a1bb-fe3af821c653-molecule\">\n",
       "    <defs>\n",
       "      <g id=\"7c1b2ee6-d68e-4efd-a1bb-fe3af821c653-symbols\" font-size=\"0.50\" font-family=\"sans-serif\">\n",
       "        <text id=\"7c1b2ee6-d68e-4efd-a1bb-fe3af821c653-1\" x=\"13.06\" y=\"-1.24\" dx=\"-0.20\" dy=\"0.20\">OH</text>\n",
       "        <text id=\"7c1b2ee6-d68e-4efd-a1bb-fe3af821c653-3\" x=\"13.77\" y=\"0.00\" dx=\"-0.20\" dy=\"0.20\">O</text>\n",
       "        <text id=\"7c1b2ee6-d68e-4efd-a1bb-fe3af821c653-11\" x=\"9.49\" y=\"-0.83\" dx=\"-0.20\" dy=\"0.20\">N</text>\n",
       "      </g>\n",
       "      <g id=\"7c1b2ee6-d68e-4efd-a1bb-fe3af821c653-mapping\" font-size=\"0.25\" font-family=\"monospace\" text-anchor=\"end\">\n",
       "        <text x=\"13.06\" y=\"-1.24\" dx=\"-0.15\" dy=\"0.35\">1</text>\n",
       "        <text x=\"13.06\" y=\"-0.41\" dx=\"-0.05\" dy=\"0.20\">2</text>\n",
       "        <text x=\"13.77\" y=\"0.00\" dx=\"-0.15\" dy=\"0.35\">3</text>\n",
       "        <text x=\"12.34\" y=\"-0.00\" dx=\"-0.05\" dy=\"0.20\">4</text>\n",
       "        <text x=\"12.34\" y=\"0.82\" dx=\"-0.05\" dy=\"0.20\">6</text>\n",
       "        <text x=\"11.63\" y=\"1.24\" dx=\"-0.05\" dy=\"0.20\">7</text>\n",
       "        <text x=\"10.92\" y=\"0.82\" dx=\"-0.05\" dy=\"0.20\">8</text>\n",
       "        <text x=\"10.92\" y=\"-0.00\" dx=\"-0.05\" dy=\"0.20\">9</text>\n",
       "        <text x=\"11.63\" y=\"-0.41\" dx=\"-0.05\" dy=\"0.20\">5</text>\n",
       "        <text x=\"10.20\" y=\"-0.41\" dx=\"-0.05\" dy=\"0.20\">10</text>\n",
       "        <text x=\"9.49\" y=\"-0.83\" dx=\"-0.15\" dy=\"0.35\">11</text>\n",
       "      </g>\n",
       "      <mask id=\"7c1b2ee6-d68e-4efd-a1bb-fe3af821c653-mask\">\n",
       "        <rect x=\"-0.62\" y=\"-1.86\" width=\"15.77\" height=\"3.72\" fill=\"white\"/>\n",
       "        <g>\n",
       "          <circle cx=\"13.06\" cy=\"-1.24\" r=\"0.20\"/>\n",
       "          <circle cx=\"13.77\" cy=\"0.00\" r=\"0.20\"/>\n",
       "          <circle cx=\"9.49\" cy=\"-0.83\" r=\"0.20\"/>\n",
       "        </g>\n",
       "        <g stroke=\"black\">\n",
       "          <use xlink:href=\"#7c1b2ee6-d68e-4efd-a1bb-fe3af821c653-symbols\" stroke-width=\"0.05\"/>\n",
       "          <use xlink:href=\"#7c1b2ee6-d68e-4efd-a1bb-fe3af821c653-mapping\" stroke-width=\"0.03\"/>\n",
       "        </g>\n",
       "      </mask>\n",
       "    </defs>\n",
       "    <g fill=\"none\" stroke=\"black\" stroke-width=\"0.04\" mask=\"url(#7c1b2ee6-d68e-4efd-a1bb-fe3af821c653-mask)\">\n",
       "      <line x1=\"13.06\" y1=\"-1.24\" x2=\"13.06\" y2=\"-0.41\"/>\n",
       "      <line x1=\"13.09\" y1=\"-0.46\" x2=\"13.80\" y2=\"-0.05\"/>\n",
       "      <line x1=\"13.03\" y1=\"-0.36\" x2=\"13.74\" y2=\"0.05\"/>\n",
       "      <line x1=\"13.06\" y1=\"-0.41\" x2=\"12.34\" y2=\"-0.00\"/>\n",
       "      <line x1=\"12.40\" y1=\"0.00\" x2=\"12.40\" y2=\"0.83\"/>\n",
       "      <line x1=\"12.28\" y1=\"-0.00\" x2=\"12.28\" y2=\"0.82\"/>\n",
       "      <line x1=\"12.34\" y1=\"-0.00\" x2=\"11.63\" y2=\"-0.41\"/>\n",
       "      <line x1=\"12.34\" y1=\"0.82\" x2=\"11.63\" y2=\"1.24\"/>\n",
       "      <line x1=\"11.63\" y1=\"1.24\" x2=\"10.92\" y2=\"0.82\"/>\n",
       "      <line x1=\"10.92\" y1=\"0.82\" x2=\"10.92\" y2=\"-0.00\"/>\n",
       "      <line x1=\"10.92\" y1=\"-0.00\" x2=\"11.63\" y2=\"-0.41\"/>\n",
       "      <line x1=\"10.92\" y1=\"-0.00\" x2=\"10.20\" y2=\"-0.41\"/>\n",
       "      <line x1=\"10.14\" y1=\"-0.30\" x2=\"9.42\" y2=\"-0.71\"/>\n",
       "      <line x1=\"10.20\" y1=\"-0.41\" x2=\"9.49\" y2=\"-0.83\"/>\n",
       "      <line x1=\"10.27\" y1=\"-0.53\" x2=\"9.55\" y2=\"-0.94\"/>\n",
       "    </g>\n",
       "    <g font-size=\"0.50\" font-family=\"sans-serif\">\n",
       "      <use xlink:href=\"#7c1b2ee6-d68e-4efd-a1bb-fe3af821c653-1\" fill=\"#FF0D0D\"/>\n",
       "      <use xlink:href=\"#7c1b2ee6-d68e-4efd-a1bb-fe3af821c653-3\" fill=\"#FF0D0D\"/>\n",
       "      <use xlink:href=\"#7c1b2ee6-d68e-4efd-a1bb-fe3af821c653-11\" fill=\"#3050F8\"/>\n",
       "    </g>\n",
       "    <use xlink:href=\"#7c1b2ee6-d68e-4efd-a1bb-fe3af821c653-mapping\" fill=\"#0305A7\"/>\n",
       "  </g>\n",
       "</svg>"
      ],
      "text/plain": [
       "<chython.containers.reaction.ReactionContainer at 0x1682c1daa00>"
      ]
     },
     "execution_count": 42,
     "metadata": {},
     "output_type": "execute_result"
    }
   ],
   "source": [
    "r = smiles('OC(=O)C(=C)C=C.C=CC#N>>OC(=O)C1=CCCC(C1)C#N')\n",
    "r.clean2d()\n",
    "r.reset_mapping()\n",
    "r"
   ]
  },
  {
   "cell_type": "markdown",
   "metadata": {
    "pycharm": {
     "name": "#%% md\n"
    }
   },
   "source": [
    "# 4. Isomorphism\n",
    "\n",
    "## 4.1. Molecules Isomorphism\n",
    "\n",
    "Chython has simple substructure/structure isomorphism API.\n",
    "\n",
    "Note, that atoms are matched in subgraph isomorphism only if they have same charge/multiplicity and isotope options."
   ]
  },
  {
   "cell_type": "code",
   "execution_count": 43,
   "metadata": {
    "pycharm": {
     "name": "#%%\n"
    }
   },
   "outputs": [
    {
     "name": "stdout",
     "output_type": "stream",
     "text": [
      "True\n",
      "False\n",
      "True\n",
      "False\n",
      "False\n",
      "True\n"
     ]
    }
   ],
   "source": [
    "benzene = smiles('c1ccccc1')\n",
    "toluene = smiles('c1ccccc1C')\n",
    "# isomorphism operations\n",
    "print(benzene < toluene)  # benzene is substructure of toluene\n",
    "print(benzene > toluene)  # benzene is not superstructure of toluene\n",
    "print(benzene <= toluene) # benzene is substructure/or same structure of toluene\n",
    "print(benzene >= toluene) # benzene is not superstructure/or same structure of toluene\n",
    "print(benzene < benzene) # benzene is not substructure of benzene. it's equal\n",
    "print(benzene <= benzene)"
   ]
  },
  {
   "cell_type": "markdown",
   "metadata": {
    "pycharm": {
     "name": "#%% md\n"
    }
   },
   "source": [
    "Mappings of substructure or structure to structure can be returned using `substructure.get_mapping(structure)` method. Method acts as generator."
   ]
  },
  {
   "cell_type": "code",
   "execution_count": 44,
   "metadata": {
    "pycharm": {
     "name": "#%%\n"
    }
   },
   "outputs": [
    {
     "data": {
      "text/plain": [
       "{1: 6, 6: 1, 5: 2, 4: 3, 3: 4, 2: 5}"
      ]
     },
     "execution_count": 44,
     "metadata": {},
     "output_type": "execute_result"
    }
   ],
   "source": [
    "next(benzene.get_mapping(toluene))"
   ]
  },
  {
   "cell_type": "code",
   "execution_count": 45,
   "metadata": {
    "pycharm": {
     "name": "#%%\n"
    }
   },
   "outputs": [
    {
     "name": "stdout",
     "output_type": "stream",
     "text": [
      "{1: 6, 6: 1, 5: 2, 4: 3, 3: 4, 2: 5}\n",
      "{1: 6, 6: 5, 5: 4, 4: 3, 3: 2, 2: 1}\n",
      "{1: 5, 6: 6, 5: 1, 4: 2, 3: 3, 2: 4}\n",
      "{1: 5, 6: 4, 5: 3, 4: 2, 3: 1, 2: 6}\n",
      "{1: 4, 6: 5, 5: 6, 4: 1, 3: 2, 2: 3}\n",
      "{1: 4, 6: 3, 5: 2, 4: 1, 3: 6, 2: 5}\n",
      "{1: 3, 6: 4, 5: 5, 4: 6, 3: 1, 2: 2}\n",
      "{1: 3, 6: 2, 5: 1, 4: 6, 3: 5, 2: 4}\n",
      "{1: 2, 6: 3, 5: 4, 4: 5, 3: 6, 2: 1}\n",
      "{1: 2, 6: 1, 5: 6, 4: 5, 3: 4, 2: 3}\n",
      "{1: 1, 6: 6, 5: 5, 4: 4, 3: 3, 2: 2}\n",
      "{1: 1, 6: 2, 5: 3, 4: 4, 3: 5, 2: 6}\n"
     ]
    }
   ],
   "source": [
    "for m in benzene.get_mapping(toluene, automorphism_filter=False):  # iterate over all possible substructure mappings\n",
    "    print(m)"
   ]
  },
  {
   "cell_type": "markdown",
   "metadata": {
    "pycharm": {
     "name": "#%% md\n"
    }
   },
   "source": [
    "## 4.2. Queries\n",
    "\n",
    "Queries (QueryContainer) is special objects which additionally takes into account neighbors, hybridization, hydrogen count, ring size and heteroatom neighbors count state of atoms and bond in ring state.\n",
    "\n",
    "Queries can be generated from molecules by `substructure` method with as_query argument.\n",
    "\n",
    "Few special arguments for controlling atom state available."
   ]
  },
  {
   "cell_type": "code",
   "execution_count": 46,
   "metadata": {
    "pycharm": {
     "name": "#%%\n"
    }
   },
   "outputs": [
    {
     "name": "stdout",
     "output_type": "stream",
     "text": [
      "[O;h1;D1]-[C;h0;D3]=[O;h0;D1] |atomProp:0.hyb.3:1.hyb.2:2.hyb.2|\n"
     ]
    }
   ],
   "source": [
    "m = smiles('NCC(=O)O')\n",
    "carboxy = m.substructure([3, 4, 5], as_query=True, skip_neighbors_marks=False, skip_hybridizations_marks=False, skip_hydrogens_marks=False, skip_rings_sizes_marks=False)\n",
    "print(carboxy)"
   ]
  },
  {
   "cell_type": "code",
   "execution_count": 47,
   "metadata": {
    "pycharm": {
     "name": "#%%\n"
    }
   },
   "outputs": [
    {
     "data": {
      "text/plain": [
       "True"
      ]
     },
     "execution_count": 47,
     "metadata": {},
     "output_type": "execute_result"
    }
   ],
   "source": [
    "carboxy < m"
   ]
  },
  {
   "cell_type": "code",
   "execution_count": 48,
   "metadata": {
    "pycharm": {
     "name": "#%%\n"
    }
   },
   "outputs": [
    {
     "data": {
      "text/plain": [
       "False"
      ]
     },
     "execution_count": 48,
     "metadata": {},
     "output_type": "execute_result"
    }
   ],
   "source": [
    "carboxy < smiles('NCC(=O)OC') # not acid!"
   ]
  },
  {
   "cell_type": "markdown",
   "metadata": {
    "pycharm": {
     "name": "#%%\n"
    }
   },
   "source": [
    "### 4.2.1. Query building API\n",
    "\n",
    "It is possible to build query and molecule objects in programming way"
   ]
  },
  {
   "cell_type": "code",
   "execution_count": 49,
   "metadata": {
    "pycharm": {
     "name": "#%%\n"
    }
   },
   "outputs": [],
   "source": [
    "from chython import QueryContainer, MoleculeContainer\n",
    "from chython.containers.bonds import QueryBond\n",
    "from chython.periodictable import ListElement"
   ]
  },
  {
   "cell_type": "code",
   "execution_count": 50,
   "metadata": {
    "pycharm": {
     "name": "#%%\n"
    }
   },
   "outputs": [
    {
     "name": "stdout",
     "output_type": "stream",
     "text": [
      "[C;h0;D3;!R]=[O,S] |atomProp:0.hyb.2:0.het.1|\n"
     ]
    }
   ],
   "source": [
    "q = QueryContainer() # create empty query\n",
    "q.add_atom('C', neighbors=3, hybridization=2, heteroatoms=1, rings_sizes=0, hydrogens=0)\n",
    "q.add_atom(ListElement(['O', 'S']), n=3) # oxygen or sulphur, with atom number 3\n",
    "q.add_bond(1, 3, 2) # atoms enumerated from 1. connect first and 3rd atom by bouble bond.\n",
    "print(q) # match only acyclic [tia] ketones"
   ]
  },
  {
   "cell_type": "code",
   "execution_count": 51,
   "metadata": {
    "pycharm": {
     "name": "#%%\n"
    }
   },
   "outputs": [
    {
     "data": {
      "text/plain": [
       "False"
      ]
     },
     "execution_count": 51,
     "metadata": {},
     "output_type": "execute_result"
    }
   ],
   "source": [
    "q < smiles('CC(=O)O')"
   ]
  },
  {
   "cell_type": "code",
   "execution_count": 52,
   "metadata": {
    "pycharm": {
     "name": "#%%\n"
    }
   },
   "outputs": [
    {
     "data": {
      "text/plain": [
       "True"
      ]
     },
     "execution_count": 52,
     "metadata": {},
     "output_type": "execute_result"
    }
   ],
   "source": [
    "q < smiles('CC(=S)C')"
   ]
  },
  {
   "cell_type": "code",
   "execution_count": 53,
   "metadata": {
    "pycharm": {
     "name": "#%%\n"
    }
   },
   "outputs": [
    {
     "data": {
      "text/plain": [
       "False"
      ]
     },
     "execution_count": 53,
     "metadata": {},
     "output_type": "execute_result"
    }
   ],
   "source": [
    "q < smiles('CC=O')"
   ]
  },
  {
   "cell_type": "code",
   "execution_count": 54,
   "metadata": {
    "pycharm": {
     "name": "#%%\n"
    }
   },
   "outputs": [
    {
     "data": {
      "text/plain": [
       "False"
      ]
     },
     "execution_count": 54,
     "metadata": {},
     "output_type": "execute_result"
    }
   ],
   "source": [
    "q < smiles('C1CC(=O)CC1')"
   ]
  },
  {
   "cell_type": "code",
   "execution_count": 55,
   "metadata": {
    "pycharm": {
     "name": "#%%\n"
    }
   },
   "outputs": [
    {
     "name": "stdout",
     "output_type": "stream",
     "text": [
      "[C;r6;a]-;!@[C;r6;a]\n"
     ]
    }
   ],
   "source": [
    "q = QueryContainer()\n",
    "q.add_atom('C', rings_sizes=6, hybridization=4)\n",
    "q.add_atom('C', rings_sizes=6, hybridization=4)\n",
    "q.add_bond(1, 2, QueryBond(1, False))  # QueryBond(order, in_ring)\n",
    "print(q)  # match ring-ring linker"
   ]
  },
  {
   "cell_type": "code",
   "execution_count": 56,
   "metadata": {
    "pycharm": {
     "name": "#%%\n"
    }
   },
   "outputs": [
    {
     "data": {
      "text/plain": [
       "False"
      ]
     },
     "execution_count": 56,
     "metadata": {},
     "output_type": "execute_result"
    }
   ],
   "source": [
    "q < smiles('C1Cc2ccccc2-c2ccccc12')"
   ]
  },
  {
   "cell_type": "code",
   "execution_count": 57,
   "metadata": {
    "pycharm": {
     "name": "#%%\n"
    }
   },
   "outputs": [
    {
     "data": {
      "text/plain": [
       "True"
      ]
     },
     "execution_count": 57,
     "metadata": {},
     "output_type": "execute_result"
    }
   ],
   "source": [
    "q < smiles('c1ccc(cc1)-c1ccccc1')"
   ]
  },
  {
   "cell_type": "code",
   "execution_count": 58,
   "metadata": {
    "pycharm": {
     "name": "#%%\n"
    }
   },
   "outputs": [
    {
     "data": {
      "text/plain": [
       "False"
      ]
     },
     "execution_count": 58,
     "metadata": {},
     "output_type": "execute_result"
    }
   ],
   "source": [
    "q < smiles('C1CC(=O)CC1')"
   ]
  },
  {
   "cell_type": "code",
   "execution_count": 59,
   "metadata": {},
   "outputs": [
    {
     "name": "stdout",
     "output_type": "stream",
     "text": [
      "[C;r6;a]-;!@[C;r6;a]\n"
     ]
    }
   ],
   "source": [
    "q = QueryContainer()\n",
    "q.add_atom('C', rings_sizes=6, hybridization=4)\n",
    "q.add_atom('C', rings_sizes=6, hybridization=4)\n",
    "q.add_bond(1, 2, QueryBond(1, False))  # QueryBond(order, in_ring)\n",
    "print(q)  # match ring-ring linker"
   ]
  },
  {
   "cell_type": "code",
   "execution_count": 60,
   "metadata": {},
   "outputs": [
    {
     "data": {
      "text/plain": [
       "False"
      ]
     },
     "execution_count": 60,
     "metadata": {},
     "output_type": "execute_result"
    }
   ],
   "source": [
    "q < smiles('C1Cc2ccccc2-c2ccccc12')"
   ]
  },
  {
   "cell_type": "code",
   "execution_count": 61,
   "metadata": {},
   "outputs": [
    {
     "data": {
      "text/plain": [
       "True"
      ]
     },
     "execution_count": 61,
     "metadata": {},
     "output_type": "execute_result"
    }
   ],
   "source": [
    "q < smiles('c1ccc(cc1)-c1ccccc1')"
   ]
  },
  {
   "cell_type": "markdown",
   "metadata": {
    "pycharm": {
     "name": "#%% md\n"
    }
   },
   "source": [
    "Molecules construction API the same, except extra query attributes"
   ]
  },
  {
   "cell_type": "code",
   "execution_count": 62,
   "metadata": {
    "pycharm": {
     "name": "#%%\n"
    }
   },
   "outputs": [
    {
     "data": {
      "image/svg+xml": [
       "<svg width=\"3.43cm\" height=\"1.66cm\" viewBox=\"-2.05 -1.04 3.43 1.66\" xmlns=\"http://www.w3.org/2000/svg\" xmlns:xlink=\"http://www.w3.org/1999/xlink\" version=\"1.1\">\n",
       "  <g id=\"d0821e62-5003-4703-90cc-1004e5f36081-molecule\">\n",
       "    <defs>\n",
       "      <g id=\"d0821e62-5003-4703-90cc-1004e5f36081-symbols\" font-size=\"0.50\" font-family=\"sans-serif\">\n",
       "        <text id=\"d0821e62-5003-4703-90cc-1004e5f36081-3\" x=\"0.00\" y=\"-0.00\" dx=\"-0.20\" dy=\"0.20\">O</text>\n",
       "      </g>\n",
       "      <g id=\"d0821e62-5003-4703-90cc-1004e5f36081-mapping\" font-size=\"0.25\" font-family=\"monospace\" text-anchor=\"end\">\n",
       "        <text x=\"-1.43\" y=\"-0.00\" dx=\"-0.05\" dy=\"0.20\">1</text>\n",
       "        <text x=\"-0.71\" y=\"-0.41\" dx=\"-0.05\" dy=\"0.20\">2</text>\n",
       "        <text x=\"0.00\" y=\"-0.00\" dx=\"-0.15\" dy=\"0.35\">3</text>\n",
       "      </g>\n",
       "      <mask id=\"d0821e62-5003-4703-90cc-1004e5f36081-mask\">\n",
       "        <rect x=\"-2.05\" y=\"-1.04\" width=\"3.43\" height=\"1.66\" fill=\"white\"/>\n",
       "        <g>\n",
       "          <circle cx=\"0.00\" cy=\"-0.00\" r=\"0.20\"/>\n",
       "        </g>\n",
       "        <g stroke=\"black\">\n",
       "          <use xlink:href=\"#d0821e62-5003-4703-90cc-1004e5f36081-symbols\" stroke-width=\"0.05\"/>\n",
       "          <use xlink:href=\"#d0821e62-5003-4703-90cc-1004e5f36081-mapping\" stroke-width=\"0.03\"/>\n",
       "        </g>\n",
       "      </mask>\n",
       "    </defs>\n",
       "    <g fill=\"none\" stroke=\"black\" stroke-width=\"0.04\" mask=\"url(#d0821e62-5003-4703-90cc-1004e5f36081-mask)\">\n",
       "      <line x1=\"-1.43\" y1=\"-0.00\" x2=\"-0.71\" y2=\"-0.41\"/>\n",
       "      <line x1=\"-0.68\" y1=\"-0.46\" x2=\"0.03\" y2=\"-0.05\"/>\n",
       "      <line x1=\"-0.74\" y1=\"-0.36\" x2=\"-0.03\" y2=\"0.05\"/>\n",
       "    </g>\n",
       "    <g font-size=\"0.50\" font-family=\"sans-serif\">\n",
       "      <use xlink:href=\"#d0821e62-5003-4703-90cc-1004e5f36081-3\" fill=\"#FF0D0D\"/>\n",
       "    </g>\n",
       "    <use xlink:href=\"#d0821e62-5003-4703-90cc-1004e5f36081-mapping\" fill=\"#0305A7\"/>\n",
       "  </g>\n",
       "</svg>"
      ],
      "text/plain": [
       "<chython.containers.molecule.MoleculeContainer at 0x168539eed60>"
      ]
     },
     "execution_count": 62,
     "metadata": {},
     "output_type": "execute_result"
    }
   ],
   "source": [
    "m = MoleculeContainer()\n",
    "m.add_atom('C')\n",
    "m.add_atom('C')\n",
    "m.add_atom('O')\n",
    "m.add_bond(1, 2, 1)\n",
    "m.add_bond(2, 3, 2)\n",
    "m.clean2d()\n",
    "m"
   ]
  },
  {
   "cell_type": "markdown",
   "metadata": {
    "pycharm": {
     "name": "#%% md\n"
    }
   },
   "source": [
    "# 5. Reactor\n",
    "\n",
    "Reactor works similar to ChemAxon Reactions enumeration.\n",
    "\n",
    "Example here presents application of it to create esters from acids and alcoholes.\n",
    "\n",
    "First we need to construct carboxy group and alcohole matcher queries. Then, ether group need to be specified. \n",
    "\n",
    "Atom numbers in query and patch should be mapped to each other. The same atoms should have same numbers."
   ]
  },
  {
   "cell_type": "code",
   "execution_count": 63,
   "metadata": {
    "pycharm": {
     "name": "#%%\n"
    }
   },
   "outputs": [
    {
     "name": "stdout",
     "output_type": "stream",
     "text": [
      "[O]=[C]-[O;D1]\n"
     ]
    }
   ],
   "source": [
    "acid = QueryContainer()\n",
    "acid.add_atom('C')\n",
    "acid.add_atom('O', neighbors=1)\n",
    "acid.add_atom('O')\n",
    "acid.add_bond(1, 2, 1)\n",
    "acid.add_bond(1, 3, 2)\n",
    "print(acid)"
   ]
  },
  {
   "cell_type": "code",
   "execution_count": 64,
   "metadata": {
    "pycharm": {
     "name": "#%%\n"
    }
   },
   "outputs": [
    {
     "name": "stdout",
     "output_type": "stream",
     "text": [
      "[O;D1]-[C] |atomProp:1.het.1|\n"
     ]
    }
   ],
   "source": [
    "alco = QueryContainer()\n",
    "alco.add_atom('C', n=4, heteroatoms=1) # set atom number manually\n",
    "alco.add_atom('O', 5, neighbors=1)\n",
    "alco.add_bond(4, 5, 1)\n",
    "print(alco)"
   ]
  },
  {
   "cell_type": "code",
   "execution_count": 65,
   "metadata": {
    "pycharm": {
     "name": "#%%\n"
    }
   },
   "outputs": [
    {
     "name": "stdout",
     "output_type": "stream",
     "text": [
      "[C](=[O])-[O]-[C]\n"
     ]
    }
   ],
   "source": [
    "ether = QueryContainer()\n",
    "ether.add_atom('C')\n",
    "ether.add_atom('O', 3)\n",
    "ether.add_atom('C')\n",
    "ether.add_atom('O')\n",
    "ether.add_bond(1, 3, 2)\n",
    "ether.add_bond(1, 5, 1)\n",
    "ether.add_bond(4, 5, 1)\n",
    "print(ether)"
   ]
  },
  {
   "cell_type": "code",
   "execution_count": 66,
   "metadata": {
    "pycharm": {
     "name": "#%%\n"
    }
   },
   "outputs": [],
   "source": [
    "from chython import Reactor\n",
    "from chython.utils import grid_depict\n",
    "from ipywidgets import HTML"
   ]
  },
  {
   "cell_type": "code",
   "execution_count": 67,
   "metadata": {
    "pycharm": {
     "name": "#%%\n"
    }
   },
   "outputs": [],
   "source": [
    "rxn = Reactor([acid, alco], [ether], delete_atoms=True, one_shot=False)\n",
    "# delete atoms not presented in product query\n",
    "# do multiple reactions if possible"
   ]
  },
  {
   "cell_type": "code",
   "execution_count": 68,
   "metadata": {
    "pycharm": {
     "name": "#%%\n"
    }
   },
   "outputs": [],
   "source": [
    "alcohols = [smiles('CO'), smiles('CCO'), smiles('CC(C)O')]\n",
    "acids = [smiles('C(=O)O'), smiles('CC(=O)O'), smiles('OC(=O)C(=O)O')]\n",
    "for x in alcohols + acids:\n",
    "    x.clean2d()"
   ]
  },
  {
   "cell_type": "code",
   "execution_count": 69,
   "metadata": {
    "pycharm": {
     "name": "#%%\n"
    }
   },
   "outputs": [
    {
     "data": {
      "application/vnd.jupyter.widget-view+json": {
       "model_id": "ac793247071f41e49900bf14529982e2",
       "version_major": 2,
       "version_minor": 0
      },
      "text/plain": [
       "HTML(value='<svg width=\"11.63cm\" height=\"7.81cm\" viewBox=\"-0.62 -0.62 11.63 7.81\" xmlns=\"http://www.w3.org/200…"
      ]
     },
     "metadata": {},
     "output_type": "display_data"
    }
   ],
   "source": [
    "HTML(grid_depict(alcohols + acids))"
   ]
  },
  {
   "cell_type": "code",
   "execution_count": 70,
   "metadata": {
    "pycharm": {
     "name": "#%%\n"
    }
   },
   "outputs": [
    {
     "data": {
      "text/plain": [
       "12"
      ]
     },
     "execution_count": 70,
     "metadata": {},
     "output_type": "execute_result"
    }
   ],
   "source": [
    "from itertools import product\n",
    "\n",
    "products = []\n",
    "for x in product(acids, alcohols):\n",
    "    for p in rxn(x): # apply transformation on given list of reactants\n",
    "        p.clean2d()\n",
    "        products.append(p)\n",
    "len(products)"
   ]
  },
  {
   "cell_type": "code",
   "execution_count": 71,
   "metadata": {
    "pycharm": {
     "name": "#%%\n"
    }
   },
   "outputs": [
    {
     "data": {
      "image/svg+xml": [
       "<svg width=\"11.85cm\" height=\"1.66cm\" viewBox=\"-0.62 -0.83 11.85 1.66\" xmlns=\"http://www.w3.org/2000/svg\" xmlns:xlink=\"http://www.w3.org/1999/xlink\" version=\"1.1\">\n",
       "  <defs>\n",
       "    <marker id=\"arrow\" markerWidth=\"10\" markerHeight=\"10\" refX=\"0\" refY=\"3\" orient=\"auto\">\n",
       "      <path d=\"M0,0 L0,6 L9,3\"/>\n",
       "    </marker>\n",
       "  </defs>\n",
       "  <line x1=\"4.70\" y1=\"0\" x2=\"6.70\" y2=\"0\" fill=\"none\" stroke=\"black\" stroke-width=\".04\" marker-end=\"url(#arrow)\"/>\n",
       "  <g fill=\"none\" stroke=\"black\" stroke-width=\".04\">\n",
       "    <line x1=\"1.98\" y1=\"0\" x2=\"2.28\" y2=\"0\"/>\n",
       "    <line x1=\"2.13\" y1=\"0.15\" x2=\"2.13\" y2=\"-0.15\"/>\n",
       "  </g>\n",
       "  <g id=\"d86726e4-b098-4672-9f3a-973a2907f716-molecule\">\n",
       "    <defs>\n",
       "      <g id=\"d86726e4-b098-4672-9f3a-973a2907f716-symbols\" font-size=\"0.50\" font-family=\"sans-serif\">\n",
       "        <text id=\"d86726e4-b098-4672-9f3a-973a2907f716-2\" x=\"0.00\" y=\"0.21\" dx=\"-0.20\" dy=\"0.20\">O</text>\n",
       "        <text id=\"d86726e4-b098-4672-9f3a-973a2907f716-3\" x=\"1.43\" y=\"0.21\" dx=\"-0.20\" dy=\"0.20\">OH</text>\n",
       "      </g>\n",
       "      <g id=\"d86726e4-b098-4672-9f3a-973a2907f716-mapping\" font-size=\"0.25\" font-family=\"monospace\" text-anchor=\"end\">\n",
       "        <text x=\"0.71\" y=\"-0.21\" dx=\"-0.05\" dy=\"0.20\">1</text>\n",
       "        <text x=\"0.00\" y=\"0.21\" dx=\"-0.15\" dy=\"0.35\">2</text>\n",
       "        <text x=\"1.43\" y=\"0.21\" dx=\"-0.15\" dy=\"0.35\">3</text>\n",
       "      </g>\n",
       "      <mask id=\"d86726e4-b098-4672-9f3a-973a2907f716-mask\">\n",
       "        <rect x=\"-0.62\" y=\"-0.83\" width=\"11.85\" height=\"1.66\" fill=\"white\"/>\n",
       "        <g>\n",
       "          <circle cx=\"0.00\" cy=\"0.21\" r=\"0.20\"/>\n",
       "          <circle cx=\"1.43\" cy=\"0.21\" r=\"0.20\"/>\n",
       "        </g>\n",
       "        <g stroke=\"black\">\n",
       "          <use xlink:href=\"#d86726e4-b098-4672-9f3a-973a2907f716-symbols\" stroke-width=\"0.05\"/>\n",
       "          <use xlink:href=\"#d86726e4-b098-4672-9f3a-973a2907f716-mapping\" stroke-width=\"0.03\"/>\n",
       "        </g>\n",
       "      </mask>\n",
       "    </defs>\n",
       "    <g fill=\"none\" stroke=\"black\" stroke-width=\"0.04\" mask=\"url(#d86726e4-b098-4672-9f3a-973a2907f716-mask)\">\n",
       "      <line x1=\"0.74\" y1=\"-0.15\" x2=\"0.03\" y2=\"0.26\"/>\n",
       "      <line x1=\"0.68\" y1=\"-0.26\" x2=\"-0.03\" y2=\"0.15\"/>\n",
       "      <line x1=\"0.71\" y1=\"-0.21\" x2=\"1.43\" y2=\"0.21\"/>\n",
       "    </g>\n",
       "    <g font-size=\"0.50\" font-family=\"sans-serif\">\n",
       "      <use xlink:href=\"#d86726e4-b098-4672-9f3a-973a2907f716-2\" fill=\"#FF0D0D\"/>\n",
       "      <use xlink:href=\"#d86726e4-b098-4672-9f3a-973a2907f716-3\" fill=\"#FF0D0D\"/>\n",
       "    </g>\n",
       "    <use xlink:href=\"#d86726e4-b098-4672-9f3a-973a2907f716-mapping\" fill=\"#0305A7\"/>\n",
       "  </g>\n",
       "  <g id=\"d1d32ffb-0671-4be8-b47a-014779fbcdb4-molecule\">\n",
       "    <defs>\n",
       "      <g id=\"d1d32ffb-0671-4be8-b47a-014779fbcdb4-symbols\" font-size=\"0.50\" font-family=\"sans-serif\">\n",
       "        <text id=\"d1d32ffb-0671-4be8-b47a-014779fbcdb4-5\" x=\"2.63\" y=\"-0.00\" dx=\"-0.20\" dy=\"0.20\">OH</text>\n",
       "      </g>\n",
       "      <g id=\"d1d32ffb-0671-4be8-b47a-014779fbcdb4-mapping\" font-size=\"0.25\" font-family=\"monospace\" text-anchor=\"end\">\n",
       "        <text x=\"3.45\" y=\"0.00\" dx=\"-0.05\" dy=\"0.20\">4</text>\n",
       "        <text x=\"2.63\" y=\"-0.00\" dx=\"-0.15\" dy=\"0.35\">5</text>\n",
       "      </g>\n",
       "      <mask id=\"d1d32ffb-0671-4be8-b47a-014779fbcdb4-mask\">\n",
       "        <rect x=\"-0.62\" y=\"-0.83\" width=\"11.85\" height=\"1.66\" fill=\"white\"/>\n",
       "        <g>\n",
       "          <circle cx=\"2.63\" cy=\"-0.00\" r=\"0.20\"/>\n",
       "        </g>\n",
       "        <g stroke=\"black\">\n",
       "          <use xlink:href=\"#d1d32ffb-0671-4be8-b47a-014779fbcdb4-symbols\" stroke-width=\"0.05\"/>\n",
       "          <use xlink:href=\"#d1d32ffb-0671-4be8-b47a-014779fbcdb4-mapping\" stroke-width=\"0.03\"/>\n",
       "        </g>\n",
       "      </mask>\n",
       "    </defs>\n",
       "    <g fill=\"none\" stroke=\"black\" stroke-width=\"0.04\" mask=\"url(#d1d32ffb-0671-4be8-b47a-014779fbcdb4-mask)\">\n",
       "      <line x1=\"-0.62\" y1=\"-0.83\" x2=\"11.22\" y2=\"-0.83\" stroke=\"none\"/>\n",
       "      <line x1=\"3.45\" y1=\"0.00\" x2=\"2.63\" y2=\"-0.00\"/>\n",
       "    </g>\n",
       "    <g font-size=\"0.50\" font-family=\"sans-serif\">\n",
       "      <use xlink:href=\"#d1d32ffb-0671-4be8-b47a-014779fbcdb4-5\" fill=\"#FF0D0D\"/>\n",
       "    </g>\n",
       "    <use xlink:href=\"#d1d32ffb-0671-4be8-b47a-014779fbcdb4-mapping\" fill=\"#0305A7\"/>\n",
       "  </g>\n",
       "  <g id=\"cf33306d-a8ca-404d-b85f-9469dd09616e-molecule\">\n",
       "    <defs>\n",
       "      <g id=\"cf33306d-a8ca-404d-b85f-9469dd09616e-symbols\" font-size=\"0.50\" font-family=\"sans-serif\">\n",
       "        <text id=\"cf33306d-a8ca-404d-b85f-9469dd09616e-2\" x=\"7.70\" y=\"-0.21\" dx=\"-0.20\" dy=\"0.20\">O</text>\n",
       "        <text id=\"cf33306d-a8ca-404d-b85f-9469dd09616e-5\" x=\"9.13\" y=\"-0.21\" dx=\"-0.20\" dy=\"0.20\">O</text>\n",
       "      </g>\n",
       "      <g id=\"cf33306d-a8ca-404d-b85f-9469dd09616e-mapping\" font-size=\"0.25\" font-family=\"monospace\" text-anchor=\"end\">\n",
       "        <text x=\"8.42\" y=\"0.21\" dx=\"-0.05\" dy=\"0.20\">1</text>\n",
       "        <text x=\"7.70\" y=\"-0.21\" dx=\"-0.15\" dy=\"0.35\">2</text>\n",
       "        <text x=\"9.85\" y=\"0.21\" dx=\"-0.05\" dy=\"0.20\">4</text>\n",
       "        <text x=\"9.13\" y=\"-0.21\" dx=\"-0.15\" dy=\"0.35\">5</text>\n",
       "      </g>\n",
       "      <mask id=\"cf33306d-a8ca-404d-b85f-9469dd09616e-mask\">\n",
       "        <rect x=\"-0.62\" y=\"-0.83\" width=\"11.85\" height=\"1.66\" fill=\"white\"/>\n",
       "        <g>\n",
       "          <circle cx=\"7.70\" cy=\"-0.21\" r=\"0.20\"/>\n",
       "          <circle cx=\"9.13\" cy=\"-0.21\" r=\"0.20\"/>\n",
       "        </g>\n",
       "        <g stroke=\"black\">\n",
       "          <use xlink:href=\"#cf33306d-a8ca-404d-b85f-9469dd09616e-symbols\" stroke-width=\"0.05\"/>\n",
       "          <use xlink:href=\"#cf33306d-a8ca-404d-b85f-9469dd09616e-mapping\" stroke-width=\"0.03\"/>\n",
       "        </g>\n",
       "      </mask>\n",
       "    </defs>\n",
       "    <g fill=\"none\" stroke=\"black\" stroke-width=\"0.04\" mask=\"url(#cf33306d-a8ca-404d-b85f-9469dd09616e-mask)\">\n",
       "      <line x1=\"8.39\" y1=\"0.26\" x2=\"7.67\" y2=\"-0.15\"/>\n",
       "      <line x1=\"8.45\" y1=\"0.15\" x2=\"7.73\" y2=\"-0.26\"/>\n",
       "      <line x1=\"8.42\" y1=\"0.21\" x2=\"9.13\" y2=\"-0.21\"/>\n",
       "      <line x1=\"9.85\" y1=\"0.21\" x2=\"9.13\" y2=\"-0.21\"/>\n",
       "    </g>\n",
       "    <g font-size=\"0.50\" font-family=\"sans-serif\">\n",
       "      <use xlink:href=\"#cf33306d-a8ca-404d-b85f-9469dd09616e-2\" fill=\"#FF0D0D\"/>\n",
       "      <use xlink:href=\"#cf33306d-a8ca-404d-b85f-9469dd09616e-5\" fill=\"#FF0D0D\"/>\n",
       "    </g>\n",
       "    <use xlink:href=\"#cf33306d-a8ca-404d-b85f-9469dd09616e-mapping\" fill=\"#0305A7\"/>\n",
       "  </g>\n",
       "</svg>"
      ],
      "text/plain": [
       "<chython.containers.reaction.ReactionContainer at 0x16853c40280>"
      ]
     },
     "execution_count": 71,
     "metadata": {},
     "output_type": "execute_result"
    }
   ],
   "source": [
    "products[0]"
   ]
  },
  {
   "cell_type": "code",
   "execution_count": 72,
   "metadata": {
    "pycharm": {
     "name": "#%%\n"
    }
   },
   "outputs": [
    {
     "data": {
      "image/svg+xml": [
       "<svg width=\"14.15cm\" height=\"3.72cm\" viewBox=\"-0.62 -1.86 14.15 3.72\" xmlns=\"http://www.w3.org/2000/svg\" xmlns:xlink=\"http://www.w3.org/1999/xlink\" version=\"1.1\">\n",
       "  <defs>\n",
       "    <marker id=\"arrow\" markerWidth=\"10\" markerHeight=\"10\" refX=\"0\" refY=\"3\" orient=\"auto\">\n",
       "      <path d=\"M0,0 L0,6 L9,3\"/>\n",
       "    </marker>\n",
       "  </defs>\n",
       "  <line x1=\"4.87\" y1=\"0\" x2=\"6.87\" y2=\"0\" fill=\"none\" stroke=\"black\" stroke-width=\".04\" marker-end=\"url(#arrow)\"/>\n",
       "  <g fill=\"none\" stroke=\"black\" stroke-width=\".04\">\n",
       "    <line x1=\"1.79\" y1=\"0\" x2=\"2.09\" y2=\"0\"/>\n",
       "    <line x1=\"1.94\" y1=\"0.15\" x2=\"1.94\" y2=\"-0.15\"/>\n",
       "  </g>\n",
       "  <g id=\"69b650ca-6101-4ac3-98da-90624cb84e8a-molecule\">\n",
       "    <defs>\n",
       "      <g id=\"69b650ca-6101-4ac3-98da-90624cb84e8a-symbols\" font-size=\"0.50\" font-family=\"sans-serif\">\n",
       "        <text id=\"69b650ca-6101-4ac3-98da-90624cb84e8a-1\" x=\"1.24\" y=\"0.82\" dx=\"-0.20\" dy=\"0.20\">OH</text>\n",
       "        <text id=\"69b650ca-6101-4ac3-98da-90624cb84e8a-3\" x=\"1.24\" y=\"-0.82\" dx=\"-0.20\" dy=\"0.20\">O</text>\n",
       "        <text id=\"69b650ca-6101-4ac3-98da-90624cb84e8a-5\" x=\"0.00\" y=\"0.71\" dx=\"-0.20\" dy=\"0.20\">O</text>\n",
       "        <text id=\"69b650ca-6101-4ac3-98da-90624cb84e8a-6\" x=\"0.00\" y=\"-0.71\" dx=\"-0.20\" dy=\"0.20\">OH</text>\n",
       "      </g>\n",
       "      <g id=\"69b650ca-6101-4ac3-98da-90624cb84e8a-mapping\" font-size=\"0.25\" font-family=\"monospace\" text-anchor=\"end\">\n",
       "        <text x=\"1.24\" y=\"0.82\" dx=\"-0.15\" dy=\"0.35\">1</text>\n",
       "        <text x=\"1.24\" y=\"-0.00\" dx=\"-0.05\" dy=\"0.20\">2</text>\n",
       "        <text x=\"1.24\" y=\"-0.82\" dx=\"-0.15\" dy=\"0.35\">3</text>\n",
       "        <text x=\"0.41\" y=\"-0.00\" dx=\"-0.05\" dy=\"0.20\">4</text>\n",
       "        <text x=\"0.00\" y=\"0.71\" dx=\"-0.15\" dy=\"0.35\">5</text>\n",
       "        <text x=\"0.00\" y=\"-0.71\" dx=\"-0.15\" dy=\"0.35\">6</text>\n",
       "      </g>\n",
       "      <mask id=\"69b650ca-6101-4ac3-98da-90624cb84e8a-mask\">\n",
       "        <rect x=\"-0.62\" y=\"-1.86\" width=\"14.15\" height=\"3.72\" fill=\"white\"/>\n",
       "        <g>\n",
       "          <circle cx=\"1.24\" cy=\"0.82\" r=\"0.20\"/>\n",
       "          <circle cx=\"1.24\" cy=\"-0.82\" r=\"0.20\"/>\n",
       "          <circle cx=\"0.00\" cy=\"0.71\" r=\"0.20\"/>\n",
       "          <circle cx=\"0.00\" cy=\"-0.71\" r=\"0.20\"/>\n",
       "        </g>\n",
       "        <g stroke=\"black\">\n",
       "          <use xlink:href=\"#69b650ca-6101-4ac3-98da-90624cb84e8a-symbols\" stroke-width=\"0.05\"/>\n",
       "          <use xlink:href=\"#69b650ca-6101-4ac3-98da-90624cb84e8a-mapping\" stroke-width=\"0.03\"/>\n",
       "        </g>\n",
       "      </mask>\n",
       "    </defs>\n",
       "    <g fill=\"none\" stroke=\"black\" stroke-width=\"0.04\" mask=\"url(#69b650ca-6101-4ac3-98da-90624cb84e8a-mask)\">\n",
       "      <line x1=\"1.24\" y1=\"0.82\" x2=\"1.24\" y2=\"-0.00\"/>\n",
       "      <line x1=\"1.18\" y1=\"-0.00\" x2=\"1.18\" y2=\"-0.83\"/>\n",
       "      <line x1=\"1.30\" y1=\"0.00\" x2=\"1.30\" y2=\"-0.82\"/>\n",
       "      <line x1=\"1.24\" y1=\"-0.00\" x2=\"0.41\" y2=\"-0.00\"/>\n",
       "      <line x1=\"0.46\" y1=\"0.03\" x2=\"0.05\" y2=\"0.74\"/>\n",
       "      <line x1=\"0.36\" y1=\"-0.03\" x2=\"-0.05\" y2=\"0.68\"/>\n",
       "      <line x1=\"0.41\" y1=\"-0.00\" x2=\"0.00\" y2=\"-0.71\"/>\n",
       "    </g>\n",
       "    <g font-size=\"0.50\" font-family=\"sans-serif\">\n",
       "      <use xlink:href=\"#69b650ca-6101-4ac3-98da-90624cb84e8a-1\" fill=\"#FF0D0D\"/>\n",
       "      <use xlink:href=\"#69b650ca-6101-4ac3-98da-90624cb84e8a-3\" fill=\"#FF0D0D\"/>\n",
       "      <use xlink:href=\"#69b650ca-6101-4ac3-98da-90624cb84e8a-5\" fill=\"#FF0D0D\"/>\n",
       "      <use xlink:href=\"#69b650ca-6101-4ac3-98da-90624cb84e8a-6\" fill=\"#FF0D0D\"/>\n",
       "    </g>\n",
       "    <use xlink:href=\"#69b650ca-6101-4ac3-98da-90624cb84e8a-mapping\" fill=\"#0305A7\"/>\n",
       "  </g>\n",
       "  <g id=\"896ced14-c154-4c4a-9887-c5876f26980d-molecule\">\n",
       "    <defs>\n",
       "      <g id=\"896ced14-c154-4c4a-9887-c5876f26980d-symbols\" font-size=\"0.50\" font-family=\"sans-serif\">\n",
       "        <text id=\"896ced14-c154-4c4a-9887-c5876f26980d-9\" x=\"3.87\" y=\"0.21\" dx=\"-0.20\" dy=\"0.20\">OH</text>\n",
       "      </g>\n",
       "      <g id=\"896ced14-c154-4c4a-9887-c5876f26980d-mapping\" font-size=\"0.25\" font-family=\"monospace\" text-anchor=\"end\">\n",
       "        <text x=\"2.44\" y=\"0.21\" dx=\"-0.05\" dy=\"0.20\">7</text>\n",
       "        <text x=\"3.15\" y=\"-0.21\" dx=\"-0.05\" dy=\"0.20\">8</text>\n",
       "        <text x=\"3.87\" y=\"0.21\" dx=\"-0.15\" dy=\"0.35\">9</text>\n",
       "      </g>\n",
       "      <mask id=\"896ced14-c154-4c4a-9887-c5876f26980d-mask\">\n",
       "        <rect x=\"-0.62\" y=\"-1.86\" width=\"14.15\" height=\"3.72\" fill=\"white\"/>\n",
       "        <g>\n",
       "          <circle cx=\"3.87\" cy=\"0.21\" r=\"0.20\"/>\n",
       "        </g>\n",
       "        <g stroke=\"black\">\n",
       "          <use xlink:href=\"#896ced14-c154-4c4a-9887-c5876f26980d-symbols\" stroke-width=\"0.05\"/>\n",
       "          <use xlink:href=\"#896ced14-c154-4c4a-9887-c5876f26980d-mapping\" stroke-width=\"0.03\"/>\n",
       "        </g>\n",
       "      </mask>\n",
       "    </defs>\n",
       "    <g fill=\"none\" stroke=\"black\" stroke-width=\"0.04\" mask=\"url(#896ced14-c154-4c4a-9887-c5876f26980d-mask)\">\n",
       "      <line x1=\"2.44\" y1=\"0.21\" x2=\"3.15\" y2=\"-0.21\"/>\n",
       "      <line x1=\"3.15\" y1=\"-0.21\" x2=\"3.87\" y2=\"0.21\"/>\n",
       "    </g>\n",
       "    <g font-size=\"0.50\" font-family=\"sans-serif\">\n",
       "      <use xlink:href=\"#896ced14-c154-4c4a-9887-c5876f26980d-9\" fill=\"#FF0D0D\"/>\n",
       "    </g>\n",
       "    <use xlink:href=\"#896ced14-c154-4c4a-9887-c5876f26980d-mapping\" fill=\"#0305A7\"/>\n",
       "  </g>\n",
       "  <g id=\"f3ef5825-3694-474c-9529-922a8aad91eb-molecule\">\n",
       "    <defs>\n",
       "      <g id=\"f3ef5825-3694-474c-9529-922a8aad91eb-symbols\" font-size=\"0.50\" font-family=\"sans-serif\">\n",
       "        <text id=\"f3ef5825-3694-474c-9529-922a8aad91eb-3\" x=\"10.01\" y=\"-0.83\" dx=\"-0.20\" dy=\"0.20\">O</text>\n",
       "        <text id=\"f3ef5825-3694-474c-9529-922a8aad91eb-11\" x=\"10.72\" y=\"0.41\" dx=\"-0.20\" dy=\"0.20\">O</text>\n",
       "        <text id=\"f3ef5825-3694-474c-9529-922a8aad91eb-5\" x=\"9.30\" y=\"1.24\" dx=\"-0.20\" dy=\"0.20\">O</text>\n",
       "        <text id=\"f3ef5825-3694-474c-9529-922a8aad91eb-9\" x=\"8.58\" y=\"-0.00\" dx=\"-0.20\" dy=\"0.20\">O</text>\n",
       "      </g>\n",
       "      <g id=\"f3ef5825-3694-474c-9529-922a8aad91eb-mapping\" font-size=\"0.25\" font-family=\"monospace\" text-anchor=\"end\">\n",
       "        <text x=\"10.01\" y=\"-0.00\" dx=\"-0.05\" dy=\"0.20\">2</text>\n",
       "        <text x=\"10.01\" y=\"-0.83\" dx=\"-0.15\" dy=\"0.35\">3</text>\n",
       "        <text x=\"11.44\" y=\"-0.00\" dx=\"-0.05\" dy=\"0.20\">10</text>\n",
       "        <text x=\"10.72\" y=\"0.41\" dx=\"-0.15\" dy=\"0.35\">11</text>\n",
       "        <text x=\"9.30\" y=\"0.41\" dx=\"-0.05\" dy=\"0.20\">4</text>\n",
       "        <text x=\"9.30\" y=\"1.24\" dx=\"-0.15\" dy=\"0.35\">5</text>\n",
       "        <text x=\"8.58\" y=\"-0.82\" dx=\"-0.05\" dy=\"0.20\">8</text>\n",
       "        <text x=\"8.58\" y=\"-0.00\" dx=\"-0.15\" dy=\"0.35\">9</text>\n",
       "        <text x=\"7.87\" y=\"-1.24\" dx=\"-0.05\" dy=\"0.20\">7</text>\n",
       "        <text x=\"12.15\" y=\"0.41\" dx=\"-0.05\" dy=\"0.20\">12</text>\n",
       "      </g>\n",
       "      <mask id=\"f3ef5825-3694-474c-9529-922a8aad91eb-mask\">\n",
       "        <rect x=\"-0.62\" y=\"-1.86\" width=\"14.15\" height=\"3.72\" fill=\"white\"/>\n",
       "        <g>\n",
       "          <circle cx=\"10.01\" cy=\"-0.83\" r=\"0.20\"/>\n",
       "          <circle cx=\"10.72\" cy=\"0.41\" r=\"0.20\"/>\n",
       "          <circle cx=\"9.30\" cy=\"1.24\" r=\"0.20\"/>\n",
       "          <circle cx=\"8.58\" cy=\"-0.00\" r=\"0.20\"/>\n",
       "        </g>\n",
       "        <g stroke=\"black\">\n",
       "          <use xlink:href=\"#f3ef5825-3694-474c-9529-922a8aad91eb-symbols\" stroke-width=\"0.05\"/>\n",
       "          <use xlink:href=\"#f3ef5825-3694-474c-9529-922a8aad91eb-mapping\" stroke-width=\"0.03\"/>\n",
       "        </g>\n",
       "      </mask>\n",
       "    </defs>\n",
       "    <g fill=\"none\" stroke=\"black\" stroke-width=\"0.04\" mask=\"url(#f3ef5825-3694-474c-9529-922a8aad91eb-mask)\">\n",
       "      <line x1=\"9.95\" y1=\"-0.00\" x2=\"9.95\" y2=\"-0.83\"/>\n",
       "      <line x1=\"10.07\" y1=\"-0.00\" x2=\"10.07\" y2=\"-0.83\"/>\n",
       "      <line x1=\"10.01\" y1=\"-0.00\" x2=\"10.72\" y2=\"0.41\"/>\n",
       "      <line x1=\"10.01\" y1=\"-0.00\" x2=\"9.30\" y2=\"0.41\"/>\n",
       "      <line x1=\"11.44\" y1=\"-0.00\" x2=\"10.72\" y2=\"0.41\"/>\n",
       "      <line x1=\"11.44\" y1=\"-0.00\" x2=\"12.15\" y2=\"0.41\"/>\n",
       "      <line x1=\"9.36\" y1=\"0.41\" x2=\"9.36\" y2=\"1.24\"/>\n",
       "      <line x1=\"9.24\" y1=\"0.41\" x2=\"9.24\" y2=\"1.24\"/>\n",
       "      <line x1=\"9.30\" y1=\"0.41\" x2=\"8.58\" y2=\"-0.00\"/>\n",
       "      <line x1=\"8.58\" y1=\"-0.82\" x2=\"8.58\" y2=\"-0.00\"/>\n",
       "      <line x1=\"8.58\" y1=\"-0.82\" x2=\"7.87\" y2=\"-1.24\"/>\n",
       "    </g>\n",
       "    <g font-size=\"0.50\" font-family=\"sans-serif\">\n",
       "      <use xlink:href=\"#f3ef5825-3694-474c-9529-922a8aad91eb-3\" fill=\"#FF0D0D\"/>\n",
       "      <use xlink:href=\"#f3ef5825-3694-474c-9529-922a8aad91eb-11\" fill=\"#FF0D0D\"/>\n",
       "      <use xlink:href=\"#f3ef5825-3694-474c-9529-922a8aad91eb-5\" fill=\"#FF0D0D\"/>\n",
       "      <use xlink:href=\"#f3ef5825-3694-474c-9529-922a8aad91eb-9\" fill=\"#FF0D0D\"/>\n",
       "    </g>\n",
       "    <use xlink:href=\"#f3ef5825-3694-474c-9529-922a8aad91eb-mapping\" fill=\"#0305A7\"/>\n",
       "  </g>\n",
       "</svg>"
      ],
      "text/plain": [
       "<chython.containers.reaction.ReactionContainer at 0x16853c40940>"
      ]
     },
     "execution_count": 72,
     "metadata": {},
     "output_type": "execute_result"
    }
   ],
   "source": [
    "products[-3]"
   ]
  },
  {
   "cell_type": "code",
   "execution_count": 73,
   "metadata": {
    "pycharm": {
     "name": "#%%\n"
    },
    "scrolled": true
   },
   "outputs": [
    {
     "data": {
      "image/svg+xml": [
       "<svg width=\"13.44cm\" height=\"3.31cm\" viewBox=\"-0.62 -1.66 13.44 3.31\" xmlns=\"http://www.w3.org/2000/svg\" xmlns:xlink=\"http://www.w3.org/1999/xlink\" version=\"1.1\">\n",
       "  <defs>\n",
       "    <marker id=\"arrow\" markerWidth=\"10\" markerHeight=\"10\" refX=\"0\" refY=\"3\" orient=\"auto\">\n",
       "      <path d=\"M0,0 L0,6 L9,3\"/>\n",
       "    </marker>\n",
       "  </defs>\n",
       "  <line x1=\"4.87\" y1=\"0\" x2=\"6.87\" y2=\"0\" fill=\"none\" stroke=\"black\" stroke-width=\".04\" marker-end=\"url(#arrow)\"/>\n",
       "  <g fill=\"none\" stroke=\"black\" stroke-width=\".04\">\n",
       "    <line x1=\"1.79\" y1=\"0\" x2=\"2.09\" y2=\"0\"/>\n",
       "    <line x1=\"1.94\" y1=\"0.15\" x2=\"1.94\" y2=\"-0.15\"/>\n",
       "  </g>\n",
       "  <g id=\"eda4d2a1-456f-4609-9fcb-0641c3d4c661-molecule\">\n",
       "    <defs>\n",
       "      <g id=\"eda4d2a1-456f-4609-9fcb-0641c3d4c661-symbols\" font-size=\"0.50\" font-family=\"sans-serif\">\n",
       "        <text id=\"eda4d2a1-456f-4609-9fcb-0641c3d4c661-1\" x=\"0.00\" y=\"-0.71\" dx=\"-0.20\" dy=\"0.20\">OH</text>\n",
       "        <text id=\"eda4d2a1-456f-4609-9fcb-0641c3d4c661-3\" x=\"0.00\" y=\"0.71\" dx=\"-0.20\" dy=\"0.20\">O</text>\n",
       "        <text id=\"eda4d2a1-456f-4609-9fcb-0641c3d4c661-5\" x=\"1.24\" y=\"-0.82\" dx=\"-0.20\" dy=\"0.20\">O</text>\n",
       "        <text id=\"eda4d2a1-456f-4609-9fcb-0641c3d4c661-6\" x=\"1.24\" y=\"0.82\" dx=\"-0.20\" dy=\"0.20\">OH</text>\n",
       "      </g>\n",
       "      <g id=\"eda4d2a1-456f-4609-9fcb-0641c3d4c661-mapping\" font-size=\"0.25\" font-family=\"monospace\" text-anchor=\"end\">\n",
       "        <text x=\"0.00\" y=\"-0.71\" dx=\"-0.15\" dy=\"0.35\">1</text>\n",
       "        <text x=\"0.41\" y=\"-0.00\" dx=\"-0.05\" dy=\"0.20\">2</text>\n",
       "        <text x=\"0.00\" y=\"0.71\" dx=\"-0.15\" dy=\"0.35\">3</text>\n",
       "        <text x=\"1.24\" y=\"-0.00\" dx=\"-0.05\" dy=\"0.20\">4</text>\n",
       "        <text x=\"1.24\" y=\"-0.82\" dx=\"-0.15\" dy=\"0.35\">5</text>\n",
       "        <text x=\"1.24\" y=\"0.82\" dx=\"-0.15\" dy=\"0.35\">6</text>\n",
       "      </g>\n",
       "      <mask id=\"eda4d2a1-456f-4609-9fcb-0641c3d4c661-mask\">\n",
       "        <rect x=\"-0.62\" y=\"-1.66\" width=\"13.44\" height=\"3.31\" fill=\"white\"/>\n",
       "        <g>\n",
       "          <circle cx=\"0.00\" cy=\"-0.71\" r=\"0.20\"/>\n",
       "          <circle cx=\"0.00\" cy=\"0.71\" r=\"0.20\"/>\n",
       "          <circle cx=\"1.24\" cy=\"-0.82\" r=\"0.20\"/>\n",
       "          <circle cx=\"1.24\" cy=\"0.82\" r=\"0.20\"/>\n",
       "        </g>\n",
       "        <g stroke=\"black\">\n",
       "          <use xlink:href=\"#eda4d2a1-456f-4609-9fcb-0641c3d4c661-symbols\" stroke-width=\"0.05\"/>\n",
       "          <use xlink:href=\"#eda4d2a1-456f-4609-9fcb-0641c3d4c661-mapping\" stroke-width=\"0.03\"/>\n",
       "        </g>\n",
       "      </mask>\n",
       "    </defs>\n",
       "    <g fill=\"none\" stroke=\"black\" stroke-width=\"0.04\" mask=\"url(#eda4d2a1-456f-4609-9fcb-0641c3d4c661-mask)\">\n",
       "      <line x1=\"0.00\" y1=\"-0.71\" x2=\"0.41\" y2=\"-0.00\"/>\n",
       "      <line x1=\"0.46\" y1=\"0.03\" x2=\"0.05\" y2=\"0.74\"/>\n",
       "      <line x1=\"0.36\" y1=\"-0.03\" x2=\"-0.05\" y2=\"0.68\"/>\n",
       "      <line x1=\"0.41\" y1=\"-0.00\" x2=\"1.24\" y2=\"-0.00\"/>\n",
       "      <line x1=\"1.18\" y1=\"-0.00\" x2=\"1.18\" y2=\"-0.83\"/>\n",
       "      <line x1=\"1.30\" y1=\"0.00\" x2=\"1.30\" y2=\"-0.82\"/>\n",
       "      <line x1=\"1.24\" y1=\"-0.00\" x2=\"1.24\" y2=\"0.82\"/>\n",
       "    </g>\n",
       "    <g font-size=\"0.50\" font-family=\"sans-serif\">\n",
       "      <use xlink:href=\"#eda4d2a1-456f-4609-9fcb-0641c3d4c661-1\" fill=\"#FF0D0D\"/>\n",
       "      <use xlink:href=\"#eda4d2a1-456f-4609-9fcb-0641c3d4c661-3\" fill=\"#FF0D0D\"/>\n",
       "      <use xlink:href=\"#eda4d2a1-456f-4609-9fcb-0641c3d4c661-5\" fill=\"#FF0D0D\"/>\n",
       "      <use xlink:href=\"#eda4d2a1-456f-4609-9fcb-0641c3d4c661-6\" fill=\"#FF0D0D\"/>\n",
       "    </g>\n",
       "    <use xlink:href=\"#eda4d2a1-456f-4609-9fcb-0641c3d4c661-mapping\" fill=\"#0305A7\"/>\n",
       "  </g>\n",
       "  <g id=\"97a53ffd-4b94-49da-960a-2260c4352a6e-molecule\">\n",
       "    <defs>\n",
       "      <g id=\"97a53ffd-4b94-49da-960a-2260c4352a6e-symbols\" font-size=\"0.50\" font-family=\"sans-serif\">\n",
       "        <text id=\"97a53ffd-4b94-49da-960a-2260c4352a6e-9\" x=\"3.87\" y=\"0.21\" dx=\"-0.20\" dy=\"0.20\">OH</text>\n",
       "      </g>\n",
       "      <g id=\"97a53ffd-4b94-49da-960a-2260c4352a6e-mapping\" font-size=\"0.25\" font-family=\"monospace\" text-anchor=\"end\">\n",
       "        <text x=\"2.44\" y=\"0.21\" dx=\"-0.05\" dy=\"0.20\">7</text>\n",
       "        <text x=\"3.15\" y=\"-0.21\" dx=\"-0.05\" dy=\"0.20\">8</text>\n",
       "        <text x=\"3.87\" y=\"0.21\" dx=\"-0.15\" dy=\"0.35\">9</text>\n",
       "      </g>\n",
       "      <mask id=\"97a53ffd-4b94-49da-960a-2260c4352a6e-mask\">\n",
       "        <rect x=\"-0.62\" y=\"-1.66\" width=\"13.44\" height=\"3.31\" fill=\"white\"/>\n",
       "        <g>\n",
       "          <circle cx=\"3.87\" cy=\"0.21\" r=\"0.20\"/>\n",
       "        </g>\n",
       "        <g stroke=\"black\">\n",
       "          <use xlink:href=\"#97a53ffd-4b94-49da-960a-2260c4352a6e-symbols\" stroke-width=\"0.05\"/>\n",
       "          <use xlink:href=\"#97a53ffd-4b94-49da-960a-2260c4352a6e-mapping\" stroke-width=\"0.03\"/>\n",
       "        </g>\n",
       "      </mask>\n",
       "    </defs>\n",
       "    <g fill=\"none\" stroke=\"black\" stroke-width=\"0.04\" mask=\"url(#97a53ffd-4b94-49da-960a-2260c4352a6e-mask)\">\n",
       "      <line x1=\"2.44\" y1=\"0.21\" x2=\"3.15\" y2=\"-0.21\"/>\n",
       "      <line x1=\"3.15\" y1=\"-0.21\" x2=\"3.87\" y2=\"0.21\"/>\n",
       "    </g>\n",
       "    <g font-size=\"0.50\" font-family=\"sans-serif\">\n",
       "      <use xlink:href=\"#97a53ffd-4b94-49da-960a-2260c4352a6e-9\" fill=\"#FF0D0D\"/>\n",
       "    </g>\n",
       "    <use xlink:href=\"#97a53ffd-4b94-49da-960a-2260c4352a6e-mapping\" fill=\"#0305A7\"/>\n",
       "  </g>\n",
       "  <g id=\"d3af29c1-a7bc-43e0-9d1b-b56469fadd18-molecule\">\n",
       "    <defs>\n",
       "      <g id=\"d3af29c1-a7bc-43e0-9d1b-b56469fadd18-symbols\" font-size=\"0.50\" font-family=\"sans-serif\">\n",
       "        <text id=\"d3af29c1-a7bc-43e0-9d1b-b56469fadd18-5\" x=\"10.01\" y=\"1.03\" dx=\"-0.20\" dy=\"0.20\">O</text>\n",
       "        <text id=\"d3af29c1-a7bc-43e0-9d1b-b56469fadd18-9\" x=\"9.30\" y=\"-0.21\" dx=\"-0.20\" dy=\"0.20\">O</text>\n",
       "        <text id=\"d3af29c1-a7bc-43e0-9d1b-b56469fadd18-1\" x=\"11.44\" y=\"0.21\" dx=\"-0.20\" dy=\"0.20\">OH</text>\n",
       "        <text id=\"d3af29c1-a7bc-43e0-9d1b-b56469fadd18-3\" x=\"10.72\" y=\"-1.03\" dx=\"-0.20\" dy=\"0.20\">O</text>\n",
       "      </g>\n",
       "      <g id=\"d3af29c1-a7bc-43e0-9d1b-b56469fadd18-mapping\" font-size=\"0.25\" font-family=\"monospace\" text-anchor=\"end\">\n",
       "        <text x=\"10.01\" y=\"0.21\" dx=\"-0.05\" dy=\"0.20\">4</text>\n",
       "        <text x=\"10.01\" y=\"1.03\" dx=\"-0.15\" dy=\"0.35\">5</text>\n",
       "        <text x=\"8.58\" y=\"0.21\" dx=\"-0.05\" dy=\"0.20\">8</text>\n",
       "        <text x=\"9.30\" y=\"-0.21\" dx=\"-0.15\" dy=\"0.35\">9</text>\n",
       "        <text x=\"11.44\" y=\"0.21\" dx=\"-0.15\" dy=\"0.35\">1</text>\n",
       "        <text x=\"10.72\" y=\"-0.21\" dx=\"-0.05\" dy=\"0.20\">2</text>\n",
       "        <text x=\"10.72\" y=\"-1.03\" dx=\"-0.15\" dy=\"0.35\">3</text>\n",
       "        <text x=\"7.87\" y=\"-0.21\" dx=\"-0.05\" dy=\"0.20\">7</text>\n",
       "      </g>\n",
       "      <mask id=\"d3af29c1-a7bc-43e0-9d1b-b56469fadd18-mask\">\n",
       "        <rect x=\"-0.62\" y=\"-1.66\" width=\"13.44\" height=\"3.31\" fill=\"white\"/>\n",
       "        <g>\n",
       "          <circle cx=\"10.01\" cy=\"1.03\" r=\"0.20\"/>\n",
       "          <circle cx=\"9.30\" cy=\"-0.21\" r=\"0.20\"/>\n",
       "          <circle cx=\"11.44\" cy=\"0.21\" r=\"0.20\"/>\n",
       "          <circle cx=\"10.72\" cy=\"-1.03\" r=\"0.20\"/>\n",
       "        </g>\n",
       "        <g stroke=\"black\">\n",
       "          <use xlink:href=\"#d3af29c1-a7bc-43e0-9d1b-b56469fadd18-symbols\" stroke-width=\"0.05\"/>\n",
       "          <use xlink:href=\"#d3af29c1-a7bc-43e0-9d1b-b56469fadd18-mapping\" stroke-width=\"0.03\"/>\n",
       "        </g>\n",
       "      </mask>\n",
       "    </defs>\n",
       "    <g fill=\"none\" stroke=\"black\" stroke-width=\"0.04\" mask=\"url(#d3af29c1-a7bc-43e0-9d1b-b56469fadd18-mask)\">\n",
       "      <line x1=\"10.07\" y1=\"0.21\" x2=\"10.07\" y2=\"1.03\"/>\n",
       "      <line x1=\"9.95\" y1=\"0.21\" x2=\"9.95\" y2=\"1.03\"/>\n",
       "      <line x1=\"10.01\" y1=\"0.21\" x2=\"9.30\" y2=\"-0.21\"/>\n",
       "      <line x1=\"10.01\" y1=\"0.21\" x2=\"10.72\" y2=\"-0.21\"/>\n",
       "      <line x1=\"8.58\" y1=\"0.21\" x2=\"9.30\" y2=\"-0.21\"/>\n",
       "      <line x1=\"8.58\" y1=\"0.21\" x2=\"7.87\" y2=\"-0.21\"/>\n",
       "      <line x1=\"11.44\" y1=\"0.21\" x2=\"10.72\" y2=\"-0.21\"/>\n",
       "      <line x1=\"10.66\" y1=\"-0.21\" x2=\"10.66\" y2=\"-1.03\"/>\n",
       "      <line x1=\"10.78\" y1=\"-0.21\" x2=\"10.78\" y2=\"-1.03\"/>\n",
       "    </g>\n",
       "    <g font-size=\"0.50\" font-family=\"sans-serif\">\n",
       "      <use xlink:href=\"#d3af29c1-a7bc-43e0-9d1b-b56469fadd18-5\" fill=\"#FF0D0D\"/>\n",
       "      <use xlink:href=\"#d3af29c1-a7bc-43e0-9d1b-b56469fadd18-9\" fill=\"#FF0D0D\"/>\n",
       "      <use xlink:href=\"#d3af29c1-a7bc-43e0-9d1b-b56469fadd18-1\" fill=\"#FF0D0D\"/>\n",
       "      <use xlink:href=\"#d3af29c1-a7bc-43e0-9d1b-b56469fadd18-3\" fill=\"#FF0D0D\"/>\n",
       "    </g>\n",
       "    <use xlink:href=\"#d3af29c1-a7bc-43e0-9d1b-b56469fadd18-mapping\" fill=\"#0305A7\"/>\n",
       "  </g>\n",
       "</svg>"
      ],
      "text/plain": [
       "<chython.containers.reaction.ReactionContainer at 0x16853c40700>"
      ]
     },
     "execution_count": 73,
     "metadata": {},
     "output_type": "execute_result"
    }
   ],
   "source": [
    "products[-4]"
   ]
  },
  {
   "cell_type": "markdown",
   "metadata": {
    "pycharm": {
     "name": "#%% md\n"
    }
   },
   "source": [
    "# 6. Molecules and Reactions API\n",
    "\n",
    "There are explanation of some methods"
   ]
  },
  {
   "cell_type": "code",
   "execution_count": 74,
   "metadata": {
    "pycharm": {
     "name": "#%%\n"
    }
   },
   "outputs": [
    {
     "name": "stdout",
     "output_type": "stream",
     "text": [
      "[Cl-] [Na+]\n"
     ]
    },
    {
     "data": {
      "image/svg+xml": [
       "<svg width=\"3.10cm\" height=\"1.25cm\" viewBox=\"-0.42 -0.62 3.10 1.25\" xmlns=\"http://www.w3.org/2000/svg\" xmlns:xlink=\"http://www.w3.org/1999/xlink\" version=\"1.1\">\n",
       "  <g id=\"25b11ded-5ef2-4af4-b699-42894cf63a9d-molecule\">\n",
       "    <defs>\n",
       "      <g id=\"25b11ded-5ef2-4af4-b699-42894cf63a9d-symbols\" font-size=\"0.50\" font-family=\"sans-serif\">\n",
       "        <text id=\"25b11ded-5ef2-4af4-b699-42894cf63a9d-1\" x=\"0.20\" y=\"-0.00\" dx=\"-0.35\" dy=\"0.20\">Cl</text>\n",
       "        <text id=\"25b11ded-5ef2-4af4-b699-42894cf63a9d-2\" x=\"1.30\" y=\"-0.00\" dx=\"-0.35\" dy=\"0.20\">Na</text>\n",
       "      </g>\n",
       "      <g id=\"25b11ded-5ef2-4af4-b699-42894cf63a9d-attrs\" font-size=\"0.30\" font-family=\"monospace\">\n",
       "        <text x=\"0.20\" y=\"-0.00\" dx=\"0.05\" dy=\"-0.20\">-</text>\n",
       "        <text x=\"1.30\" y=\"-0.00\" dx=\"0.05\" dy=\"-0.20\">+</text>\n",
       "      </g>\n",
       "      <g id=\"25b11ded-5ef2-4af4-b699-42894cf63a9d-mapping\" font-size=\"0.25\" font-family=\"monospace\" text-anchor=\"end\">\n",
       "        <text x=\"0.20\" y=\"-0.00\" dx=\"-0.30\" dy=\"0.35\">1</text>\n",
       "        <text x=\"1.30\" y=\"-0.00\" dx=\"-0.30\" dy=\"0.35\">2</text>\n",
       "      </g>\n",
       "    </defs>\n",
       "    <g font-size=\"0.50\" font-family=\"sans-serif\">\n",
       "      <use xlink:href=\"#25b11ded-5ef2-4af4-b699-42894cf63a9d-1\" fill=\"#1FF01F\"/>\n",
       "      <use xlink:href=\"#25b11ded-5ef2-4af4-b699-42894cf63a9d-2\" fill=\"#AB5CF2\"/>\n",
       "    </g>\n",
       "    <use xlink:href=\"#25b11ded-5ef2-4af4-b699-42894cf63a9d-attrs\" fill=\"black\"/>\n",
       "    <use xlink:href=\"#25b11ded-5ef2-4af4-b699-42894cf63a9d-mapping\" fill=\"#0305A7\"/>\n",
       "  </g>\n",
       "</svg>"
      ],
      "text/plain": [
       "<chython.containers.molecule.MoleculeContainer at 0x16853c3fa40>"
      ]
     },
     "execution_count": 74,
     "metadata": {},
     "output_type": "execute_result"
    }
   ],
   "source": [
    "anion, cation = smiles('[Cl-].[Na+]').split() # disconnected components can be split\n",
    "print(anion, cation)\n",
    "salt = anion | cation # molecules can be merged\n",
    "salt = anion.union(cation, remap=True) # fix mapping overlap\n",
    "salt.clean2d()\n",
    "salt"
   ]
  },
  {
   "cell_type": "code",
   "execution_count": 75,
   "metadata": {
    "pycharm": {
     "name": "#%%\n"
    }
   },
   "outputs": [
    {
     "name": "stdout",
     "output_type": "stream",
     "text": [
      "C None\n",
      "C 1\n"
     ]
    },
    {
     "data": {
      "image/svg+xml": [
       "<svg width=\"3.65cm\" height=\"2.68cm\" viewBox=\"-2.27 -1.34 3.65 2.68\" xmlns=\"http://www.w3.org/2000/svg\" xmlns:xlink=\"http://www.w3.org/1999/xlink\" version=\"1.1\">\n",
       "  <g id=\"8ac867a7-f6fe-4859-9ec1-9c2c887c7e9e-molecule\">\n",
       "    <defs>\n",
       "      <g id=\"8ac867a7-f6fe-4859-9ec1-9c2c887c7e9e-mapping\" font-size=\"0.25\" font-family=\"monospace\" text-anchor=\"end\">\n",
       "        <text x=\"-1.24\" y=\"0.71\" dx=\"-0.05\" dy=\"0.20\">1</text>\n",
       "        <text x=\"-0.41\" y=\"0.71\" dx=\"-0.05\" dy=\"0.20\">2</text>\n",
       "        <text x=\"0.00\" y=\"-0.00\" dx=\"-0.05\" dy=\"0.20\">3</text>\n",
       "        <text x=\"-0.41\" y=\"-0.71\" dx=\"-0.05\" dy=\"0.20\">4</text>\n",
       "        <text x=\"-1.24\" y=\"-0.71\" dx=\"-0.05\" dy=\"0.20\">5</text>\n",
       "        <text x=\"-1.65\" y=\"-0.00\" dx=\"-0.05\" dy=\"0.20\">6</text>\n",
       "      </g>\n",
       "      <mask id=\"8ac867a7-f6fe-4859-9ec1-9c2c887c7e9e-mask\">\n",
       "        <rect x=\"-2.27\" y=\"-1.34\" width=\"3.65\" height=\"2.68\" fill=\"white\"/>\n",
       "        <g stroke=\"black\">\n",
       "          <use xlink:href=\"#8ac867a7-f6fe-4859-9ec1-9c2c887c7e9e-mapping\" stroke-width=\"0.03\"/>\n",
       "        </g>\n",
       "      </mask>\n",
       "    </defs>\n",
       "    <g fill=\"none\" stroke=\"black\" stroke-width=\"0.04\" mask=\"url(#8ac867a7-f6fe-4859-9ec1-9c2c887c7e9e-mask)\">\n",
       "      <line x1=\"-1.24\" y1=\"0.71\" x2=\"-0.41\" y2=\"0.71\"/>\n",
       "      <line x1=\"-1.24\" y1=\"0.71\" x2=\"-1.65\" y2=\"-0.00\"/>\n",
       "      <line x1=\"-0.41\" y1=\"0.71\" x2=\"0.00\" y2=\"-0.00\"/>\n",
       "      <line x1=\"0.00\" y1=\"-0.00\" x2=\"-0.41\" y2=\"-0.71\"/>\n",
       "      <line x1=\"-0.41\" y1=\"-0.71\" x2=\"-1.24\" y2=\"-0.71\"/>\n",
       "      <line x1=\"-1.24\" y1=\"-0.71\" x2=\"-1.65\" y2=\"-0.00\"/>\n",
       "      <line x1=\"-1.16\" y1=\"0.57\" x2=\"-0.49\" y2=\"0.57\" stroke-dasharray=\"0.15 0.05\"/>\n",
       "      <line x1=\"-0.49\" y1=\"0.57\" x2=\"-0.16\" y2=\"-0.00\" stroke-dasharray=\"0.15 0.05\"/>\n",
       "      <line x1=\"-0.16\" y1=\"-0.00\" x2=\"-0.49\" y2=\"-0.57\" stroke-dasharray=\"0.15 0.05\"/>\n",
       "      <line x1=\"-0.49\" y1=\"-0.57\" x2=\"-1.16\" y2=\"-0.57\" stroke-dasharray=\"0.15 0.05\"/>\n",
       "      <line x1=\"-1.16\" y1=\"-0.57\" x2=\"-1.49\" y2=\"-0.00\" stroke-dasharray=\"0.15 0.05\"/>\n",
       "      <line x1=\"-1.49\" y1=\"-0.00\" x2=\"-1.16\" y2=\"0.57\" stroke-dasharray=\"0.15 0.05\"/>\n",
       "    </g>\n",
       "    <use xlink:href=\"#8ac867a7-f6fe-4859-9ec1-9c2c887c7e9e-mapping\" fill=\"#0305A7\"/>\n",
       "  </g>\n",
       "</svg>"
      ],
      "text/plain": [
       "<chython.containers.molecule.MoleculeContainer at 0x16853c3f9a0>"
      ]
     },
     "execution_count": 75,
     "metadata": {},
     "output_type": "execute_result"
    }
   ],
   "source": [
    "m = toluene.substructure([1, 2, 3, 4, 5, 6]) # extraction of substructure\n",
    "# set recalculate_hydrogens=False to save hydrogen count info. useful for full component extraction.\n",
    "m.clean2d()\n",
    "print(m.atom(1).atomic_symbol, m.atom(1).implicit_hydrogens) # aromatic structures require kekule>thiele procedure to fix hydrogens count\n",
    "m.kekule() and m.thiele()\n",
    "print(m.atom(1).atomic_symbol, m.atom(1).implicit_hydrogens)\n",
    "m"
   ]
  },
  {
   "cell_type": "code",
   "execution_count": 76,
   "metadata": {
    "pycharm": {
     "name": "#%%\n"
    }
   },
   "outputs": [
    {
     "data": {
      "image/svg+xml": [
       "<svg width=\"3.65cm\" height=\"2.68cm\" viewBox=\"-2.27 -1.34 3.65 2.68\" xmlns=\"http://www.w3.org/2000/svg\" xmlns:xlink=\"http://www.w3.org/1999/xlink\" version=\"1.1\">\n",
       "  <g id=\"92087867-c4aa-48d5-9381-7440bb4bf3d5-molecule\">\n",
       "    <defs>\n",
       "      <g id=\"92087867-c4aa-48d5-9381-7440bb4bf3d5-mapping\" font-size=\"0.25\" font-family=\"monospace\" text-anchor=\"end\">\n",
       "        <text x=\"-1.24\" y=\"0.71\" dx=\"-0.05\" dy=\"0.20\">7</text>\n",
       "        <text x=\"-0.41\" y=\"0.71\" dx=\"-0.05\" dy=\"0.20\">2</text>\n",
       "        <text x=\"0.00\" y=\"-0.00\" dx=\"-0.05\" dy=\"0.20\">3</text>\n",
       "        <text x=\"-0.41\" y=\"-0.71\" dx=\"-0.05\" dy=\"0.20\">4</text>\n",
       "        <text x=\"-1.24\" y=\"-0.71\" dx=\"-0.05\" dy=\"0.20\">5</text>\n",
       "        <text x=\"-1.65\" y=\"-0.00\" dx=\"-0.05\" dy=\"0.20\">6</text>\n",
       "      </g>\n",
       "      <mask id=\"92087867-c4aa-48d5-9381-7440bb4bf3d5-mask\">\n",
       "        <rect x=\"-2.27\" y=\"-1.34\" width=\"3.65\" height=\"2.68\" fill=\"white\"/>\n",
       "        <g stroke=\"black\">\n",
       "          <use xlink:href=\"#92087867-c4aa-48d5-9381-7440bb4bf3d5-mapping\" stroke-width=\"0.03\"/>\n",
       "        </g>\n",
       "      </mask>\n",
       "    </defs>\n",
       "    <g fill=\"none\" stroke=\"black\" stroke-width=\"0.04\" mask=\"url(#92087867-c4aa-48d5-9381-7440bb4bf3d5-mask)\">\n",
       "      <line x1=\"-1.24\" y1=\"0.71\" x2=\"-0.41\" y2=\"0.71\"/>\n",
       "      <line x1=\"-1.24\" y1=\"0.71\" x2=\"-1.65\" y2=\"-0.00\"/>\n",
       "      <line x1=\"-0.41\" y1=\"0.71\" x2=\"0.00\" y2=\"-0.00\"/>\n",
       "      <line x1=\"0.00\" y1=\"-0.00\" x2=\"-0.41\" y2=\"-0.71\"/>\n",
       "      <line x1=\"-0.41\" y1=\"-0.71\" x2=\"-1.24\" y2=\"-0.71\"/>\n",
       "      <line x1=\"-1.24\" y1=\"-0.71\" x2=\"-1.65\" y2=\"-0.00\"/>\n",
       "      <line x1=\"-0.49\" y1=\"0.57\" x2=\"-0.16\" y2=\"-0.00\" stroke-dasharray=\"0.15 0.05\"/>\n",
       "      <line x1=\"-0.16\" y1=\"-0.00\" x2=\"-0.49\" y2=\"-0.57\" stroke-dasharray=\"0.15 0.05\"/>\n",
       "      <line x1=\"-0.49\" y1=\"-0.57\" x2=\"-1.16\" y2=\"-0.57\" stroke-dasharray=\"0.15 0.05\"/>\n",
       "      <line x1=\"-1.16\" y1=\"-0.57\" x2=\"-1.49\" y2=\"-0.00\" stroke-dasharray=\"0.15 0.05\"/>\n",
       "      <line x1=\"-1.49\" y1=\"-0.00\" x2=\"-1.16\" y2=\"0.57\" stroke-dasharray=\"0.15 0.05\"/>\n",
       "      <line x1=\"-1.16\" y1=\"0.57\" x2=\"-0.49\" y2=\"0.57\" stroke-dasharray=\"0.15 0.05\"/>\n",
       "    </g>\n",
       "    <use xlink:href=\"#92087867-c4aa-48d5-9381-7440bb4bf3d5-mapping\" fill=\"#0305A7\"/>\n",
       "  </g>\n",
       "</svg>"
      ],
      "text/plain": [
       "<chython.containers.molecule.MoleculeContainer at 0x16853c70cc0>"
      ]
     },
     "execution_count": 76,
     "metadata": {},
     "output_type": "execute_result"
    }
   ],
   "source": [
    "remapped = m.remap({1: 7}, copy=True) # change atom numbers\n",
    "remapped"
   ]
  }
 ],
 "metadata": {
  "kernelspec": {
   "display_name": "Python 3 (ipykernel)",
   "language": "python",
   "name": "python3"
  }
 },
 "nbformat": 4,
 "nbformat_minor": 2
}
